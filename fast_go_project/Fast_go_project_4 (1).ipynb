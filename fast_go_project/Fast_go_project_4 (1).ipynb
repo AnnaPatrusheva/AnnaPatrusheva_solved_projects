{
 "cells": [
  {
   "cell_type": "markdown",
   "id": "6657fa59-50b6-4d69-8778-a3dc9cd349dd",
   "metadata": {},
   "source": [
    "## Статистический анализ данных: сервис аренды самокатов"
   ]
  },
  {
   "cell_type": "markdown",
   "id": "44897ae9-a621-4761-a610-3a3d39ca9333",
   "metadata": {},
   "source": [
    "*Краткое описание:*\n",
    "Имеются данные сервиса аренды самокатов о некоторых пользователях из нескольких городов, а также об их поездках. В проекте будет проанализирован ряд гипотез, которые помогут выстроить стратегию дальнейшего развития для бизнеса."
   ]
  },
  {
   "cell_type": "code",
   "execution_count": 1,
   "id": "72576667",
   "metadata": {},
   "outputs": [],
   "source": [
    "# импорт необходимых библиотек\n",
    "import pandas as pd\n",
    "import matplotlib.pyplot as plt \n",
    "from scipy import stats as st\n",
    "import math as m\n",
    "from math import sqrt\n",
    "from scipy.stats import binom, norm"
   ]
  },
  {
   "cell_type": "markdown",
   "id": "c42cbe00",
   "metadata": {},
   "source": [
    "#### Шаг 1. Загрузка данных"
   ]
  },
  {
   "cell_type": "markdown",
   "id": "e34b8395",
   "metadata": {},
   "source": [
    "*Информация о данных в users_go*"
   ]
  },
  {
   "cell_type": "code",
   "execution_count": 2,
   "id": "eff9f206",
   "metadata": {},
   "outputs": [
    {
     "data": {
      "text/html": [
       "<div>\n",
       "<style scoped>\n",
       "    .dataframe tbody tr th:only-of-type {\n",
       "        vertical-align: middle;\n",
       "    }\n",
       "\n",
       "    .dataframe tbody tr th {\n",
       "        vertical-align: top;\n",
       "    }\n",
       "\n",
       "    .dataframe thead th {\n",
       "        text-align: right;\n",
       "    }\n",
       "</style>\n",
       "<table border=\"1\" class=\"dataframe\">\n",
       "  <thead>\n",
       "    <tr style=\"text-align: right;\">\n",
       "      <th></th>\n",
       "      <th>user_id</th>\n",
       "      <th>name</th>\n",
       "      <th>age</th>\n",
       "      <th>city</th>\n",
       "      <th>subscription_type</th>\n",
       "    </tr>\n",
       "  </thead>\n",
       "  <tbody>\n",
       "    <tr>\n",
       "      <th>0</th>\n",
       "      <td>1</td>\n",
       "      <td>Кира</td>\n",
       "      <td>22</td>\n",
       "      <td>Тюмень</td>\n",
       "      <td>ultra</td>\n",
       "    </tr>\n",
       "    <tr>\n",
       "      <th>1</th>\n",
       "      <td>2</td>\n",
       "      <td>Станислав</td>\n",
       "      <td>31</td>\n",
       "      <td>Омск</td>\n",
       "      <td>ultra</td>\n",
       "    </tr>\n",
       "    <tr>\n",
       "      <th>2</th>\n",
       "      <td>3</td>\n",
       "      <td>Алексей</td>\n",
       "      <td>20</td>\n",
       "      <td>Москва</td>\n",
       "      <td>ultra</td>\n",
       "    </tr>\n",
       "    <tr>\n",
       "      <th>3</th>\n",
       "      <td>4</td>\n",
       "      <td>Константин</td>\n",
       "      <td>26</td>\n",
       "      <td>Ростов-на-Дону</td>\n",
       "      <td>ultra</td>\n",
       "    </tr>\n",
       "    <tr>\n",
       "      <th>4</th>\n",
       "      <td>5</td>\n",
       "      <td>Адель</td>\n",
       "      <td>28</td>\n",
       "      <td>Омск</td>\n",
       "      <td>ultra</td>\n",
       "    </tr>\n",
       "    <tr>\n",
       "      <th>5</th>\n",
       "      <td>6</td>\n",
       "      <td>Регина</td>\n",
       "      <td>25</td>\n",
       "      <td>Краснодар</td>\n",
       "      <td>ultra</td>\n",
       "    </tr>\n",
       "    <tr>\n",
       "      <th>6</th>\n",
       "      <td>7</td>\n",
       "      <td>Игорь</td>\n",
       "      <td>23</td>\n",
       "      <td>Омск</td>\n",
       "      <td>ultra</td>\n",
       "    </tr>\n",
       "    <tr>\n",
       "      <th>7</th>\n",
       "      <td>8</td>\n",
       "      <td>Юрий</td>\n",
       "      <td>23</td>\n",
       "      <td>Краснодар</td>\n",
       "      <td>ultra</td>\n",
       "    </tr>\n",
       "    <tr>\n",
       "      <th>8</th>\n",
       "      <td>9</td>\n",
       "      <td>Ян</td>\n",
       "      <td>21</td>\n",
       "      <td>Пятигорск</td>\n",
       "      <td>ultra</td>\n",
       "    </tr>\n",
       "    <tr>\n",
       "      <th>9</th>\n",
       "      <td>10</td>\n",
       "      <td>Валерий</td>\n",
       "      <td>18</td>\n",
       "      <td>Екатеринбург</td>\n",
       "      <td>ultra</td>\n",
       "    </tr>\n",
       "  </tbody>\n",
       "</table>\n",
       "</div>"
      ],
      "text/plain": [
       "   user_id        name  age            city subscription_type\n",
       "0        1        Кира   22          Тюмень             ultra\n",
       "1        2   Станислав   31            Омск             ultra\n",
       "2        3     Алексей   20          Москва             ultra\n",
       "3        4  Константин   26  Ростов-на-Дону             ultra\n",
       "4        5       Адель   28            Омск             ultra\n",
       "5        6      Регина   25       Краснодар             ultra\n",
       "6        7       Игорь   23            Омск             ultra\n",
       "7        8        Юрий   23       Краснодар             ultra\n",
       "8        9          Ян   21       Пятигорск             ultra\n",
       "9       10     Валерий   18    Екатеринбург             ultra"
      ]
     },
     "execution_count": 2,
     "metadata": {},
     "output_type": "execute_result"
    }
   ],
   "source": [
    "try:\n",
    "    users_go = pd.read_csv('/datasets/users_go.csv')\n",
    "except:\n",
    "    users_go = pd.read_csv('https://.../.../users_go.csv')\n",
    "    \n",
    "users_go.head(10)"
   ]
  },
  {
   "cell_type": "code",
   "execution_count": 3,
   "id": "58bdc2fc",
   "metadata": {},
   "outputs": [
    {
     "name": "stdout",
     "output_type": "stream",
     "text": [
      "<class 'pandas.core.frame.DataFrame'>\n",
      "RangeIndex: 1565 entries, 0 to 1564\n",
      "Data columns (total 5 columns):\n",
      " #   Column             Non-Null Count  Dtype \n",
      "---  ------             --------------  ----- \n",
      " 0   user_id            1565 non-null   int64 \n",
      " 1   name               1565 non-null   object\n",
      " 2   age                1565 non-null   int64 \n",
      " 3   city               1565 non-null   object\n",
      " 4   subscription_type  1565 non-null   object\n",
      "dtypes: int64(2), object(3)\n",
      "memory usage: 61.3+ KB\n"
     ]
    }
   ],
   "source": [
    "users_go.info()"
   ]
  },
  {
   "cell_type": "markdown",
   "id": "5bb79b3e",
   "metadata": {},
   "source": [
    "*Информация о данных в rides_go*"
   ]
  },
  {
   "cell_type": "code",
   "execution_count": 4,
   "id": "46c8ed35",
   "metadata": {},
   "outputs": [
    {
     "data": {
      "text/html": [
       "<div>\n",
       "<style scoped>\n",
       "    .dataframe tbody tr th:only-of-type {\n",
       "        vertical-align: middle;\n",
       "    }\n",
       "\n",
       "    .dataframe tbody tr th {\n",
       "        vertical-align: top;\n",
       "    }\n",
       "\n",
       "    .dataframe thead th {\n",
       "        text-align: right;\n",
       "    }\n",
       "</style>\n",
       "<table border=\"1\" class=\"dataframe\">\n",
       "  <thead>\n",
       "    <tr style=\"text-align: right;\">\n",
       "      <th></th>\n",
       "      <th>user_id</th>\n",
       "      <th>distance</th>\n",
       "      <th>duration</th>\n",
       "      <th>date</th>\n",
       "    </tr>\n",
       "  </thead>\n",
       "  <tbody>\n",
       "    <tr>\n",
       "      <th>0</th>\n",
       "      <td>1</td>\n",
       "      <td>4409.919140</td>\n",
       "      <td>25.599769</td>\n",
       "      <td>2021-01-01</td>\n",
       "    </tr>\n",
       "    <tr>\n",
       "      <th>1</th>\n",
       "      <td>1</td>\n",
       "      <td>2617.592153</td>\n",
       "      <td>15.816871</td>\n",
       "      <td>2021-01-18</td>\n",
       "    </tr>\n",
       "    <tr>\n",
       "      <th>2</th>\n",
       "      <td>1</td>\n",
       "      <td>754.159807</td>\n",
       "      <td>6.232113</td>\n",
       "      <td>2021-04-20</td>\n",
       "    </tr>\n",
       "    <tr>\n",
       "      <th>3</th>\n",
       "      <td>1</td>\n",
       "      <td>2694.783254</td>\n",
       "      <td>18.511000</td>\n",
       "      <td>2021-08-11</td>\n",
       "    </tr>\n",
       "    <tr>\n",
       "      <th>4</th>\n",
       "      <td>1</td>\n",
       "      <td>4028.687306</td>\n",
       "      <td>26.265803</td>\n",
       "      <td>2021-08-28</td>\n",
       "    </tr>\n",
       "    <tr>\n",
       "      <th>5</th>\n",
       "      <td>1</td>\n",
       "      <td>2770.890808</td>\n",
       "      <td>16.650138</td>\n",
       "      <td>2021-10-09</td>\n",
       "    </tr>\n",
       "    <tr>\n",
       "      <th>6</th>\n",
       "      <td>1</td>\n",
       "      <td>3039.020292</td>\n",
       "      <td>14.927879</td>\n",
       "      <td>2021-10-19</td>\n",
       "    </tr>\n",
       "    <tr>\n",
       "      <th>7</th>\n",
       "      <td>1</td>\n",
       "      <td>2842.118050</td>\n",
       "      <td>23.117468</td>\n",
       "      <td>2021-11-06</td>\n",
       "    </tr>\n",
       "    <tr>\n",
       "      <th>8</th>\n",
       "      <td>1</td>\n",
       "      <td>3412.690668</td>\n",
       "      <td>15.238072</td>\n",
       "      <td>2021-11-14</td>\n",
       "    </tr>\n",
       "    <tr>\n",
       "      <th>9</th>\n",
       "      <td>1</td>\n",
       "      <td>748.690645</td>\n",
       "      <td>15.041884</td>\n",
       "      <td>2021-11-22</td>\n",
       "    </tr>\n",
       "  </tbody>\n",
       "</table>\n",
       "</div>"
      ],
      "text/plain": [
       "   user_id     distance   duration        date\n",
       "0        1  4409.919140  25.599769  2021-01-01\n",
       "1        1  2617.592153  15.816871  2021-01-18\n",
       "2        1   754.159807   6.232113  2021-04-20\n",
       "3        1  2694.783254  18.511000  2021-08-11\n",
       "4        1  4028.687306  26.265803  2021-08-28\n",
       "5        1  2770.890808  16.650138  2021-10-09\n",
       "6        1  3039.020292  14.927879  2021-10-19\n",
       "7        1  2842.118050  23.117468  2021-11-06\n",
       "8        1  3412.690668  15.238072  2021-11-14\n",
       "9        1   748.690645  15.041884  2021-11-22"
      ]
     },
     "execution_count": 4,
     "metadata": {},
     "output_type": "execute_result"
    }
   ],
   "source": [
    "try:\n",
    "    rides_go = pd.read_csv('/datasets/rides_go.csv')\n",
    "except:\n",
    "    rides_go = pd.read_csv('https://code.s3.yandex.net/datasets/rides_go.csv')\n",
    "\n",
    "rides_go.head(10)"
   ]
  },
  {
   "cell_type": "code",
   "execution_count": 5,
   "id": "6e8c8d84",
   "metadata": {},
   "outputs": [
    {
     "name": "stdout",
     "output_type": "stream",
     "text": [
      "<class 'pandas.core.frame.DataFrame'>\n",
      "RangeIndex: 18068 entries, 0 to 18067\n",
      "Data columns (total 4 columns):\n",
      " #   Column    Non-Null Count  Dtype  \n",
      "---  ------    --------------  -----  \n",
      " 0   user_id   18068 non-null  int64  \n",
      " 1   distance  18068 non-null  float64\n",
      " 2   duration  18068 non-null  float64\n",
      " 3   date      18068 non-null  object \n",
      "dtypes: float64(2), int64(1), object(1)\n",
      "memory usage: 564.8+ KB\n"
     ]
    }
   ],
   "source": [
    "rides_go.info()"
   ]
  },
  {
   "cell_type": "markdown",
   "id": "c4e611b1",
   "metadata": {},
   "source": [
    "*Информация о данных в subscriptions_go*"
   ]
  },
  {
   "cell_type": "code",
   "execution_count": 6,
   "id": "885a5da6",
   "metadata": {},
   "outputs": [
    {
     "data": {
      "text/html": [
       "<div>\n",
       "<style scoped>\n",
       "    .dataframe tbody tr th:only-of-type {\n",
       "        vertical-align: middle;\n",
       "    }\n",
       "\n",
       "    .dataframe tbody tr th {\n",
       "        vertical-align: top;\n",
       "    }\n",
       "\n",
       "    .dataframe thead th {\n",
       "        text-align: right;\n",
       "    }\n",
       "</style>\n",
       "<table border=\"1\" class=\"dataframe\">\n",
       "  <thead>\n",
       "    <tr style=\"text-align: right;\">\n",
       "      <th></th>\n",
       "      <th>subscription_type</th>\n",
       "      <th>minute_price</th>\n",
       "      <th>start_ride_price</th>\n",
       "      <th>subscription_fee</th>\n",
       "    </tr>\n",
       "  </thead>\n",
       "  <tbody>\n",
       "    <tr>\n",
       "      <th>0</th>\n",
       "      <td>free</td>\n",
       "      <td>8</td>\n",
       "      <td>50</td>\n",
       "      <td>0</td>\n",
       "    </tr>\n",
       "    <tr>\n",
       "      <th>1</th>\n",
       "      <td>ultra</td>\n",
       "      <td>6</td>\n",
       "      <td>0</td>\n",
       "      <td>199</td>\n",
       "    </tr>\n",
       "  </tbody>\n",
       "</table>\n",
       "</div>"
      ],
      "text/plain": [
       "  subscription_type  minute_price  start_ride_price  subscription_fee\n",
       "0              free             8                50                 0\n",
       "1             ultra             6                 0               199"
      ]
     },
     "execution_count": 6,
     "metadata": {},
     "output_type": "execute_result"
    }
   ],
   "source": [
    "try:\n",
    "    subscriptions_go = pd.read_csv('/datasets/subscriptions_go.csv')\n",
    "except:\n",
    "    subscriptions_go = pd.read_csv('https://code.s3.yandex.net/datasets/subscriptions_go.csv')\n",
    "\n",
    "subscriptions_go.head()"
   ]
  },
  {
   "cell_type": "markdown",
   "id": "e95ebca7",
   "metadata": {},
   "source": [
    "#### Шаг 2. Предобработка данных"
   ]
  },
  {
   "cell_type": "markdown",
   "id": "057959b8",
   "metadata": {},
   "source": [
    "В столбце date в дата фрейме rides_go заменим тип данных на datetime"
   ]
  },
  {
   "cell_type": "code",
   "execution_count": 7,
   "id": "c0b1800f",
   "metadata": {},
   "outputs": [
    {
     "name": "stdout",
     "output_type": "stream",
     "text": [
      "<class 'pandas.core.frame.DataFrame'>\n",
      "RangeIndex: 18068 entries, 0 to 18067\n",
      "Data columns (total 4 columns):\n",
      " #   Column    Non-Null Count  Dtype         \n",
      "---  ------    --------------  -----         \n",
      " 0   user_id   18068 non-null  int64         \n",
      " 1   distance  18068 non-null  float64       \n",
      " 2   duration  18068 non-null  float64       \n",
      " 3   date      18068 non-null  datetime64[ns]\n",
      "dtypes: datetime64[ns](1), float64(2), int64(1)\n",
      "memory usage: 564.8 KB\n"
     ]
    }
   ],
   "source": [
    "rides_go['date'] = pd.to_datetime(rides_go['date'], format='%Y%m%dT')\n",
    "rides_go.info()"
   ]
  },
  {
   "cell_type": "markdown",
   "id": "4a472716",
   "metadata": {},
   "source": [
    "Добавим в датафрейм новый столбец month, с информацией о месяце, в котором была поездка."
   ]
  },
  {
   "cell_type": "code",
   "execution_count": 8,
   "id": "551bd249",
   "metadata": {},
   "outputs": [
    {
     "data": {
      "text/plain": [
       "2021    18068\n",
       "Name: date, dtype: int64"
      ]
     },
     "execution_count": 8,
     "metadata": {},
     "output_type": "execute_result"
    }
   ],
   "source": [
    "# за какие года данные\n",
    "rides_go['date'].dt.year.value_counts()"
   ]
  },
  {
   "cell_type": "code",
   "execution_count": 9,
   "id": "ae8d70cf",
   "metadata": {},
   "outputs": [
    {
     "data": {
      "text/html": [
       "<div>\n",
       "<style scoped>\n",
       "    .dataframe tbody tr th:only-of-type {\n",
       "        vertical-align: middle;\n",
       "    }\n",
       "\n",
       "    .dataframe tbody tr th {\n",
       "        vertical-align: top;\n",
       "    }\n",
       "\n",
       "    .dataframe thead th {\n",
       "        text-align: right;\n",
       "    }\n",
       "</style>\n",
       "<table border=\"1\" class=\"dataframe\">\n",
       "  <thead>\n",
       "    <tr style=\"text-align: right;\">\n",
       "      <th></th>\n",
       "      <th>user_id</th>\n",
       "      <th>distance</th>\n",
       "      <th>duration</th>\n",
       "      <th>date</th>\n",
       "      <th>month</th>\n",
       "    </tr>\n",
       "  </thead>\n",
       "  <tbody>\n",
       "    <tr>\n",
       "      <th>0</th>\n",
       "      <td>1</td>\n",
       "      <td>4409.919140</td>\n",
       "      <td>25.599769</td>\n",
       "      <td>2021-01-01</td>\n",
       "      <td>1</td>\n",
       "    </tr>\n",
       "    <tr>\n",
       "      <th>1</th>\n",
       "      <td>1</td>\n",
       "      <td>2617.592153</td>\n",
       "      <td>15.816871</td>\n",
       "      <td>2021-01-18</td>\n",
       "      <td>1</td>\n",
       "    </tr>\n",
       "    <tr>\n",
       "      <th>2</th>\n",
       "      <td>1</td>\n",
       "      <td>754.159807</td>\n",
       "      <td>6.232113</td>\n",
       "      <td>2021-04-20</td>\n",
       "      <td>4</td>\n",
       "    </tr>\n",
       "    <tr>\n",
       "      <th>3</th>\n",
       "      <td>1</td>\n",
       "      <td>2694.783254</td>\n",
       "      <td>18.511000</td>\n",
       "      <td>2021-08-11</td>\n",
       "      <td>8</td>\n",
       "    </tr>\n",
       "    <tr>\n",
       "      <th>4</th>\n",
       "      <td>1</td>\n",
       "      <td>4028.687306</td>\n",
       "      <td>26.265803</td>\n",
       "      <td>2021-08-28</td>\n",
       "      <td>8</td>\n",
       "    </tr>\n",
       "  </tbody>\n",
       "</table>\n",
       "</div>"
      ],
      "text/plain": [
       "   user_id     distance   duration       date  month\n",
       "0        1  4409.919140  25.599769 2021-01-01      1\n",
       "1        1  2617.592153  15.816871 2021-01-18      1\n",
       "2        1   754.159807   6.232113 2021-04-20      4\n",
       "3        1  2694.783254  18.511000 2021-08-11      8\n",
       "4        1  4028.687306  26.265803 2021-08-28      8"
      ]
     },
     "execution_count": 9,
     "metadata": {},
     "output_type": "execute_result"
    }
   ],
   "source": [
    "rides_go['month'] = rides_go['date'].dt.month\n",
    "rides_go.head()"
   ]
  },
  {
   "cell_type": "code",
   "execution_count": 10,
   "id": "4c8a0a8c",
   "metadata": {},
   "outputs": [
    {
     "data": {
      "text/plain": [
       "user_id              0\n",
       "name                 0\n",
       "age                  0\n",
       "city                 0\n",
       "subscription_type    0\n",
       "dtype: int64"
      ]
     },
     "execution_count": 10,
     "metadata": {},
     "output_type": "execute_result"
    }
   ],
   "source": [
    "# Проверка на наличие пропущенных значений в users_go\n",
    "users_go.isna().sum()"
   ]
  },
  {
   "cell_type": "markdown",
   "id": "772f52e7",
   "metadata": {},
   "source": [
    "Из данных выше видно, что в датафрейме users_go нет пропущенных значений."
   ]
  },
  {
   "cell_type": "code",
   "execution_count": 11,
   "id": "52f2d4a1",
   "metadata": {},
   "outputs": [
    {
     "name": "stdout",
     "output_type": "stream",
     "text": [
      "Найдено полных дубликатов в users_go: 31\n"
     ]
    }
   ],
   "source": [
    "# Проверка на наличие дубликатов в users_go\n",
    "print('Найдено полных дубликатов в users_go:', users_go.duplicated().sum())"
   ]
  },
  {
   "cell_type": "code",
   "execution_count": 12,
   "id": "5a386a63",
   "metadata": {},
   "outputs": [
    {
     "name": "stdout",
     "output_type": "stream",
     "text": [
      "Найдено полных дубликатов в users_go: 0\n"
     ]
    }
   ],
   "source": [
    "users_go = users_go.drop_duplicates()\n",
    "print('Найдено полных дубликатов в users_go:', users_go.duplicated().sum())"
   ]
  },
  {
   "cell_type": "code",
   "execution_count": 13,
   "id": "a18ba624",
   "metadata": {},
   "outputs": [
    {
     "data": {
      "text/plain": [
       "Пятигорск         219\n",
       "Екатеринбург      204\n",
       "Ростов-на-Дону    198\n",
       "Краснодар         193\n",
       "Сочи              189\n",
       "Омск              183\n",
       "Тюмень            180\n",
       "Москва            168\n",
       "Name: city, dtype: int64"
      ]
     },
     "execution_count": 13,
     "metadata": {},
     "output_type": "execute_result"
    }
   ],
   "source": [
    "# Проверка на наличие неявных дубликатов в users_go \n",
    "users_go['city'].value_counts()"
   ]
  },
  {
   "cell_type": "markdown",
   "id": "d86cd6d3",
   "metadata": {},
   "source": [
    "Неявные дубликаты в users_go могли оказаться в названиях городов, однако выявлены не были."
   ]
  },
  {
   "cell_type": "code",
   "execution_count": 14,
   "id": "39af8523",
   "metadata": {},
   "outputs": [
    {
     "data": {
      "text/plain": [
       "user_id     0\n",
       "distance    0\n",
       "duration    0\n",
       "date        0\n",
       "month       0\n",
       "dtype: int64"
      ]
     },
     "execution_count": 14,
     "metadata": {},
     "output_type": "execute_result"
    }
   ],
   "source": [
    "# Проверка на наличие пропущенных значений в rides_go\n",
    "rides_go.isna().sum()"
   ]
  },
  {
   "cell_type": "markdown",
   "id": "37110f95",
   "metadata": {},
   "source": [
    "Исходя из данных выше, пропущенные значения в rides_go отсутствуют."
   ]
  },
  {
   "cell_type": "code",
   "execution_count": 15,
   "id": "6fd97f81",
   "metadata": {},
   "outputs": [
    {
     "name": "stdout",
     "output_type": "stream",
     "text": [
      "Найдено полных дубликатов в rides_go: 0\n"
     ]
    }
   ],
   "source": [
    "# Проверка на наличие дубликатов в rides_go\n",
    "print('Найдено полных дубликатов в rides_go:', rides_go.duplicated().sum())"
   ]
  },
  {
   "cell_type": "markdown",
   "id": "2c020f53",
   "metadata": {},
   "source": [
    "В датафрейме rides_go нет столбцов, где могли бы быть неявные дубликаты. Поэтому проверка на их наличие не требуется."
   ]
  },
  {
   "cell_type": "code",
   "execution_count": 16,
   "id": "6e6eae88",
   "metadata": {},
   "outputs": [
    {
     "data": {
      "text/html": [
       "<div>\n",
       "<style scoped>\n",
       "    .dataframe tbody tr th:only-of-type {\n",
       "        vertical-align: middle;\n",
       "    }\n",
       "\n",
       "    .dataframe tbody tr th {\n",
       "        vertical-align: top;\n",
       "    }\n",
       "\n",
       "    .dataframe thead th {\n",
       "        text-align: right;\n",
       "    }\n",
       "</style>\n",
       "<table border=\"1\" class=\"dataframe\">\n",
       "  <thead>\n",
       "    <tr style=\"text-align: right;\">\n",
       "      <th></th>\n",
       "      <th>subscription_type</th>\n",
       "      <th>minute_price</th>\n",
       "      <th>start_ride_price</th>\n",
       "      <th>subscription_fee</th>\n",
       "    </tr>\n",
       "  </thead>\n",
       "  <tbody>\n",
       "    <tr>\n",
       "      <th>0</th>\n",
       "      <td>free</td>\n",
       "      <td>8</td>\n",
       "      <td>50</td>\n",
       "      <td>0</td>\n",
       "    </tr>\n",
       "    <tr>\n",
       "      <th>1</th>\n",
       "      <td>ultra</td>\n",
       "      <td>6</td>\n",
       "      <td>0</td>\n",
       "      <td>199</td>\n",
       "    </tr>\n",
       "  </tbody>\n",
       "</table>\n",
       "</div>"
      ],
      "text/plain": [
       "  subscription_type  minute_price  start_ride_price  subscription_fee\n",
       "0              free             8                50                 0\n",
       "1             ultra             6                 0               199"
      ]
     },
     "execution_count": 16,
     "metadata": {},
     "output_type": "execute_result"
    }
   ],
   "source": [
    "# Датафрейм subscriptions_go\n",
    "subscriptions_go"
   ]
  },
  {
   "cell_type": "markdown",
   "id": "1cf4ba18",
   "metadata": {},
   "source": [
    "В датафрейме subscriptions_go  две строки, с данными о типе подписки. Пропуски и дубликаты в данном датафрейме отсутствуют."
   ]
  },
  {
   "cell_type": "markdown",
   "id": "04394aa0",
   "metadata": {},
   "source": [
    "**Вывод:**\n",
    "- столбец date датафрейма users_go приведен к формату datetime.\n",
    "- в датафрейм users_go добавлен новый столбец с месяцем (month).\n",
    "- в users_go не было найдено пропущенных значений. При проверке в датафрейме было выявлено и сключено 31 полных дубликатов. Неявные дубликаты в данном датафрейме отсутствуют.\n",
    "- в rides_go не были найдены пропущенные значения, дубликаты.\n",
    "- в subscriptions_go не были найдены пропущенные значения, дубликаты."
   ]
  },
  {
   "cell_type": "code",
   "execution_count": 18,
   "id": "587acd3a",
   "metadata": {},
   "outputs": [
    {
     "data": {
      "text/plain": [
       "12013     0.500000\n",
       "17314     0.500000\n",
       "15029     0.500000\n",
       "7437      0.500000\n",
       "12967     0.500000\n",
       "           ...    \n",
       "6453     38.265229\n",
       "1998     38.352763\n",
       "2623     39.526602\n",
       "4709     39.873856\n",
       "4215     40.823963\n",
       "Name: duration, Length: 18068, dtype: float64"
      ]
     },
     "execution_count": 18,
     "metadata": {},
     "output_type": "execute_result"
    }
   ],
   "source": [
    "rides_go['duration'].sort_values()"
   ]
  },
  {
   "cell_type": "code",
   "execution_count": 19,
   "id": "52f6c02a",
   "metadata": {},
   "outputs": [
    {
     "data": {
      "text/plain": [
       "6531     0.5\n",
       "14615    0.5\n",
       "14574    0.5\n",
       "14417    0.5\n",
       "14342    0.5\n",
       "        ... \n",
       "9581     0.5\n",
       "9497     0.5\n",
       "9282     0.5\n",
       "10426    0.5\n",
       "17909    0.5\n",
       "Name: duration, Length: 95, dtype: float64"
      ]
     },
     "execution_count": 19,
     "metadata": {},
     "output_type": "execute_result"
    }
   ],
   "source": [
    "rides_go[rides_go['duration'] < 2]['duration'].sort_values()"
   ]
  },
  {
   "cell_type": "markdown",
   "id": "44a2ef7b",
   "metadata": {},
   "source": [
    "Есть аномально короткие заезды по 30 секунд."
   ]
  },
  {
   "cell_type": "code",
   "execution_count": 20,
   "id": "1e2728c3",
   "metadata": {},
   "outputs": [
    {
     "data": {
      "text/html": [
       "<div>\n",
       "<style scoped>\n",
       "    .dataframe tbody tr th:only-of-type {\n",
       "        vertical-align: middle;\n",
       "    }\n",
       "\n",
       "    .dataframe tbody tr th {\n",
       "        vertical-align: top;\n",
       "    }\n",
       "\n",
       "    .dataframe thead th {\n",
       "        text-align: right;\n",
       "    }\n",
       "</style>\n",
       "<table border=\"1\" class=\"dataframe\">\n",
       "  <thead>\n",
       "    <tr style=\"text-align: right;\">\n",
       "      <th></th>\n",
       "      <th>user_id</th>\n",
       "      <th>distance</th>\n",
       "      <th>duration</th>\n",
       "      <th>date</th>\n",
       "      <th>month</th>\n",
       "    </tr>\n",
       "  </thead>\n",
       "  <tbody>\n",
       "    <tr>\n",
       "      <th>6531</th>\n",
       "      <td>701</td>\n",
       "      <td>4196.445201</td>\n",
       "      <td>0.5</td>\n",
       "      <td>2021-08-31</td>\n",
       "      <td>8</td>\n",
       "    </tr>\n",
       "    <tr>\n",
       "      <th>6570</th>\n",
       "      <td>704</td>\n",
       "      <td>4830.824371</td>\n",
       "      <td>0.5</td>\n",
       "      <td>2021-10-14</td>\n",
       "      <td>10</td>\n",
       "    </tr>\n",
       "    <tr>\n",
       "      <th>6680</th>\n",
       "      <td>712</td>\n",
       "      <td>4684.004397</td>\n",
       "      <td>0.5</td>\n",
       "      <td>2021-03-04</td>\n",
       "      <td>3</td>\n",
       "    </tr>\n",
       "    <tr>\n",
       "      <th>6695</th>\n",
       "      <td>713</td>\n",
       "      <td>5215.642710</td>\n",
       "      <td>0.5</td>\n",
       "      <td>2021-02-25</td>\n",
       "      <td>2</td>\n",
       "    </tr>\n",
       "    <tr>\n",
       "      <th>6768</th>\n",
       "      <td>718</td>\n",
       "      <td>5197.436649</td>\n",
       "      <td>0.5</td>\n",
       "      <td>2021-02-11</td>\n",
       "      <td>2</td>\n",
       "    </tr>\n",
       "    <tr>\n",
       "      <th>...</th>\n",
       "      <td>...</td>\n",
       "      <td>...</td>\n",
       "      <td>...</td>\n",
       "      <td>...</td>\n",
       "      <td>...</td>\n",
       "    </tr>\n",
       "    <tr>\n",
       "      <th>17004</th>\n",
       "      <td>1460</td>\n",
       "      <td>5531.335845</td>\n",
       "      <td>0.5</td>\n",
       "      <td>2021-01-19</td>\n",
       "      <td>1</td>\n",
       "    </tr>\n",
       "    <tr>\n",
       "      <th>17242</th>\n",
       "      <td>1477</td>\n",
       "      <td>6724.932981</td>\n",
       "      <td>0.5</td>\n",
       "      <td>2021-01-12</td>\n",
       "      <td>1</td>\n",
       "    </tr>\n",
       "    <tr>\n",
       "      <th>17314</th>\n",
       "      <td>1483</td>\n",
       "      <td>4445.481070</td>\n",
       "      <td>0.5</td>\n",
       "      <td>2021-03-06</td>\n",
       "      <td>3</td>\n",
       "    </tr>\n",
       "    <tr>\n",
       "      <th>17505</th>\n",
       "      <td>1496</td>\n",
       "      <td>5722.551787</td>\n",
       "      <td>0.5</td>\n",
       "      <td>2021-02-14</td>\n",
       "      <td>2</td>\n",
       "    </tr>\n",
       "    <tr>\n",
       "      <th>17909</th>\n",
       "      <td>1524</td>\n",
       "      <td>4103.998874</td>\n",
       "      <td>0.5</td>\n",
       "      <td>2021-06-18</td>\n",
       "      <td>6</td>\n",
       "    </tr>\n",
       "  </tbody>\n",
       "</table>\n",
       "<p>95 rows × 5 columns</p>\n",
       "</div>"
      ],
      "text/plain": [
       "       user_id     distance  duration       date  month\n",
       "6531       701  4196.445201       0.5 2021-08-31      8\n",
       "6570       704  4830.824371       0.5 2021-10-14     10\n",
       "6680       712  4684.004397       0.5 2021-03-04      3\n",
       "6695       713  5215.642710       0.5 2021-02-25      2\n",
       "6768       718  5197.436649       0.5 2021-02-11      2\n",
       "...        ...          ...       ...        ...    ...\n",
       "17004     1460  5531.335845       0.5 2021-01-19      1\n",
       "17242     1477  6724.932981       0.5 2021-01-12      1\n",
       "17314     1483  4445.481070       0.5 2021-03-06      3\n",
       "17505     1496  5722.551787       0.5 2021-02-14      2\n",
       "17909     1524  4103.998874       0.5 2021-06-18      6\n",
       "\n",
       "[95 rows x 5 columns]"
      ]
     },
     "execution_count": 20,
     "metadata": {},
     "output_type": "execute_result"
    }
   ],
   "source": [
    "# посмотрим на строки со значением 0.5 в столбце длительность\n",
    "rides_go[rides_go['duration'] == 0.5]"
   ]
  },
  {
   "cell_type": "markdown",
   "id": "88b7859d",
   "metadata": {},
   "source": [
    "Явно значения расстояния поездки не соответствуют времени в полминуты. Скорее всего техническая ошибка в данных. Поскольку таких строк достаточно мало (95 из 18068) их можно оставить в датафрейме."
   ]
  },
  {
   "cell_type": "markdown",
   "id": "212593c7",
   "metadata": {},
   "source": [
    "#### Шаг 3. Исследовательский анализ данных"
   ]
  },
  {
   "cell_type": "markdown",
   "id": "e57fd135",
   "metadata": {},
   "source": [
    "**3.1. Частота встречаемости городов**"
   ]
  },
  {
   "cell_type": "markdown",
   "id": "d6dc650f",
   "metadata": {},
   "source": [
    "Посмотрим на количество уникальных пользователей в каждом из городов. Для этого построим сводную таблицу, а затем отобразим данные на столбчатой диаграмме."
   ]
  },
  {
   "cell_type": "code",
   "execution_count": 21,
   "id": "5ad4ffa8",
   "metadata": {},
   "outputs": [
    {
     "data": {
      "image/png": "[encoded data removed]",
      "text/plain": [
       "<Figure size 720x432 with 1 Axes>"
      ]
     },
     "metadata": {
      "needs_background": "light"
     },
     "output_type": "display_data"
    }
   ],
   "source": [
    "(users_go\n",
    " .pivot_table(index='city', values='user_id', aggfunc='count')\n",
    " .reset_index()\n",
    " .sort_values('user_id', ascending=False)\n",
    " .plot(kind='bar', x='city', y='user_id', figsize=(10,6))\n",
    ")\n",
    "plt.title('Распределение пользователей по городам', size=15)\n",
    "plt.xlabel('Название города', size=13)\n",
    "plt.ylabel('Количество уникальных пользователей', size=13)\n",
    "plt.show()"
   ]
  },
  {
   "cell_type": "markdown",
   "id": "10960534",
   "metadata": {},
   "source": [
    "На диаграмме выше видно, что в датафрейме с уникальными пользователями наиболее часто встрячается город Пятигорск. Меньше всего уникальных пользователей в Москве (соответственно, частота встречаемости Москвы наименьшая среди всех городов)."
   ]
  },
  {
   "cell_type": "code",
   "execution_count": 22,
   "id": "58a20ac0",
   "metadata": {},
   "outputs": [
    {
     "data": {
      "text/html": [
       "<div>\n",
       "<style scoped>\n",
       "    .dataframe tbody tr th:only-of-type {\n",
       "        vertical-align: middle;\n",
       "    }\n",
       "\n",
       "    .dataframe tbody tr th {\n",
       "        vertical-align: top;\n",
       "    }\n",
       "\n",
       "    .dataframe thead th {\n",
       "        text-align: right;\n",
       "    }\n",
       "</style>\n",
       "<table border=\"1\" class=\"dataframe\">\n",
       "  <thead>\n",
       "    <tr style=\"text-align: right;\">\n",
       "      <th></th>\n",
       "      <th>Город</th>\n",
       "      <th>Количество уникальных пользователей</th>\n",
       "    </tr>\n",
       "  </thead>\n",
       "  <tbody>\n",
       "    <tr>\n",
       "      <th>4</th>\n",
       "      <td>Пятигорск</td>\n",
       "      <td>219</td>\n",
       "    </tr>\n",
       "    <tr>\n",
       "      <th>0</th>\n",
       "      <td>Екатеринбург</td>\n",
       "      <td>204</td>\n",
       "    </tr>\n",
       "    <tr>\n",
       "      <th>5</th>\n",
       "      <td>Ростов-на-Дону</td>\n",
       "      <td>198</td>\n",
       "    </tr>\n",
       "    <tr>\n",
       "      <th>1</th>\n",
       "      <td>Краснодар</td>\n",
       "      <td>193</td>\n",
       "    </tr>\n",
       "    <tr>\n",
       "      <th>6</th>\n",
       "      <td>Сочи</td>\n",
       "      <td>189</td>\n",
       "    </tr>\n",
       "    <tr>\n",
       "      <th>3</th>\n",
       "      <td>Омск</td>\n",
       "      <td>183</td>\n",
       "    </tr>\n",
       "    <tr>\n",
       "      <th>7</th>\n",
       "      <td>Тюмень</td>\n",
       "      <td>180</td>\n",
       "    </tr>\n",
       "    <tr>\n",
       "      <th>2</th>\n",
       "      <td>Москва</td>\n",
       "      <td>168</td>\n",
       "    </tr>\n",
       "  </tbody>\n",
       "</table>\n",
       "</div>"
      ],
      "text/plain": [
       "            Город  Количество уникальных пользователей\n",
       "4       Пятигорск                                  219\n",
       "0    Екатеринбург                                  204\n",
       "5  Ростов-на-Дону                                  198\n",
       "1       Краснодар                                  193\n",
       "6            Сочи                                  189\n",
       "3            Омск                                  183\n",
       "7          Тюмень                                  180\n",
       "2          Москва                                  168"
      ]
     },
     "execution_count": 22,
     "metadata": {},
     "output_type": "execute_result"
    }
   ],
   "source": [
    "frequency_city = (users_go\n",
    "                  .pivot_table(index='city', values='user_id', aggfunc='count')\n",
    "                  .reset_index() \n",
    "                  .sort_values('user_id', ascending=False))\n",
    "frequency_city.columns = ['Город', 'Количество уникальных пользователей']\n",
    "frequency_city"
   ]
  },
  {
   "cell_type": "markdown",
   "id": "f321089e",
   "metadata": {},
   "source": [
    "Объединим датафреймы rides_go и users_go по столбцу user_id:"
   ]
  },
  {
   "cell_type": "code",
   "execution_count": 23,
   "id": "6e6a2cfb",
   "metadata": {},
   "outputs": [],
   "source": [
    "rides_users_go = rides_go.merge(users_go, on='user_id')"
   ]
  },
  {
   "cell_type": "markdown",
   "id": "c72af8a6",
   "metadata": {},
   "source": [
    "Посмотрим на распределение количества поездок по городам:"
   ]
  },
  {
   "cell_type": "code",
   "execution_count": 24,
   "id": "6e61e0f9",
   "metadata": {},
   "outputs": [
    {
     "data": {
      "image/png": "[encoded data removed]",
      "text/plain": [
       "<Figure size 720x432 with 1 Axes>"
      ]
     },
     "metadata": {
      "needs_background": "light"
     },
     "output_type": "display_data"
    }
   ],
   "source": [
    "(rides_users_go\n",
    " .pivot_table(index='city', values='user_id', aggfunc='count')\n",
    " .reset_index()\n",
    " .sort_values('user_id', ascending=False)\n",
    " .plot(kind='bar', x='city', y='user_id', figsize=(10,6))\n",
    ")\n",
    "plt.title('Распределение количества поездок по городам', size=15)\n",
    "plt.xlabel('Название города', size=13)\n",
    "plt.ylabel('Количество поездок', size=13)\n",
    "plt.show()"
   ]
  },
  {
   "cell_type": "markdown",
   "id": "b928166c",
   "metadata": {},
   "source": [
    "**3.2 соотношение пользователей с подпиской и без подписки**"
   ]
  },
  {
   "cell_type": "code",
   "execution_count": 25,
   "id": "8802253d",
   "metadata": {},
   "outputs": [
    {
     "name": "stdout",
     "output_type": "stream",
     "text": [
      "Доля пользователей с подпиской ultra: 45.57 %\n"
     ]
    }
   ],
   "source": [
    "users_sub = users_go.pivot_table(index='subscription_type', values='user_id', aggfunc='count')\n",
    "print('Доля пользователей с подпиской ultra:', round(users_sub['user_id']['ultra']/users_sub['user_id'].sum()*100, 2), '%')"
   ]
  },
  {
   "cell_type": "code",
   "execution_count": 26,
   "id": "803b8da4",
   "metadata": {},
   "outputs": [
    {
     "data": {
      "image/png": "[encoded data removed]",
      "text/plain": [
       "<Figure size 720x432 with 1 Axes>"
      ]
     },
     "metadata": {},
     "output_type": "display_data"
    }
   ],
   "source": [
    "(users_sub\n",
    " .reset_index()\n",
    " .plot(kind='pie', x='subscription_type', y='user_id', figsize=(10,6), labels=users_sub.reset_index()['subscription_type'].unique(),  autopct = \"%.0f%%\",)\n",
    ")\n",
    "\n",
    "plt.title('Распределение пользователей по типу подписки', size=15)\n",
    "plt.show()"
   ]
  },
  {
   "cell_type": "markdown",
   "id": "7029a45d",
   "metadata": {},
   "source": [
    "**3.3 возраст пользователей**"
   ]
  },
  {
   "cell_type": "code",
   "execution_count": 28,
   "id": "507c1492",
   "metadata": {},
   "outputs": [
    {
     "name": "stdout",
     "output_type": "stream",
     "text": [
      "Медианное значение для возраста пользователей: 25.0\n",
      "Наиболее часто встречающееся значение возраста: 25\n"
     ]
    }
   ],
   "source": [
    "print('Медианное значение для возраста пользователей:', users_go['age'].median())\n",
    "print('Наиболее часто встречающееся значение возраста:', users_go['age'].mode()[0])"
   ]
  },
  {
   "cell_type": "markdown",
   "id": "730f0796",
   "metadata": {},
   "source": [
    "В данных о возрасте пользователей мода и медиана равны."
   ]
  },
  {
   "cell_type": "code",
   "execution_count": 29,
   "id": "a1c20362",
   "metadata": {},
   "outputs": [
    {
     "data": {
      "image/png": "[encoded data removed]",
      "text/plain": [
       "<Figure size 720x432 with 1 Axes>"
      ]
     },
     "metadata": {
      "needs_background": "light"
     },
     "output_type": "display_data"
    }
   ],
   "source": [
    "users_go['age'].hist(bins=30, figsize=(10,6))\n",
    "plt.title('Распределение возраста пользователей', size=15)\n",
    "plt.xlabel('Возраст', size=13)\n",
    "plt.ylabel('Количество наблюдений', size=13)\n",
    "plt.axvline(users_go['age'].median(), color='k', linestyle='-', linewidth=1)\n",
    "plt.show()"
   ]
  },
  {
   "cell_type": "markdown",
   "id": "149c0c2d",
   "metadata": {},
   "source": [
    "Распределение похоже на нормальное."
   ]
  },
  {
   "cell_type": "code",
   "execution_count": 30,
   "id": "824363c7",
   "metadata": {},
   "outputs": [
    {
     "data": {
      "image/png": "[encoded data removed]",
      "text/plain": [
       "<Figure size 720x432 with 1 Axes>"
      ]
     },
     "metadata": {
      "needs_background": "light"
     },
     "output_type": "display_data"
    }
   ],
   "source": [
    "users_go['age'].plot(kind='box', figsize=(10,6))\n",
    "plt.title('Распределение возраста пользователей', size=15)\n",
    "plt.xlabel('Распределение наблюдений', size=13)\n",
    "plt.ylabel('Возраст', size=13)\n",
    "plt.show()"
   ]
  },
  {
   "cell_type": "code",
   "execution_count": 31,
   "id": "a9e6e8a9",
   "metadata": {},
   "outputs": [
    {
     "data": {
      "text/plain": [
       "count    1534.000000\n",
       "mean       24.903520\n",
       "std         4.572367\n",
       "min        12.000000\n",
       "25%        22.000000\n",
       "50%        25.000000\n",
       "75%        28.000000\n",
       "max        43.000000\n",
       "Name: age, dtype: float64"
      ]
     },
     "execution_count": 31,
     "metadata": {},
     "output_type": "execute_result"
    }
   ],
   "source": [
    "users_go['age'].describe()"
   ]
  },
  {
   "cell_type": "markdown",
   "id": "949840ba",
   "metadata": {},
   "source": [
    "Выше видно, что 75% пользователей находятся в возрасте от 22 до 28 лет (между 1 и 3 квартилем). \n",
    "Следует отметить, что среди пользователей некоторым менее 18 лет, именно с этого возраста разрешен прокат самокатов. В некоторых компаниях и регионах разрешено с 14 лет, но при письменном согласии родителей. В датасете минимальный возраст 12 лет, это явное нарушение существующих норм."
   ]
  },
  {
   "cell_type": "markdown",
   "id": "ad39ba54",
   "metadata": {},
   "source": [
    "**3.4 расстояние, которое пользователь преодолел за одну поездку**"
   ]
  },
  {
   "cell_type": "markdown",
   "id": "95c9eda2",
   "metadata": {},
   "source": [
    "Построим график распределения среднего расстояния поездки для каждого пользователя."
   ]
  },
  {
   "cell_type": "code",
   "execution_count": 32,
   "id": "b362b2cc",
   "metadata": {},
   "outputs": [
    {
     "data": {
      "image/png": "[encoded data removed]",
      "text/plain": [
       "<Figure size 720x432 with 1 Axes>"
      ]
     },
     "metadata": {
      "needs_background": "light"
     },
     "output_type": "display_data"
    }
   ],
   "source": [
    "rides_go['distance'].hist(bins=100, figsize=(10,6))\n",
    "\n",
    "plt.title('Распределение расстояния поездки пользователей', size=15)\n",
    "plt.xlabel('Расстояние, м', size=13)\n",
    "plt.ylabel('Количество наблюдений', size=13)\n",
    "plt.axvline(rides_go['distance'].median(), color='r', linestyle='-', linewidth=2)\n",
    "plt.show()"
   ]
  },
  {
   "cell_type": "code",
   "execution_count": 33,
   "id": "94095b7f",
   "metadata": {},
   "outputs": [
    {
     "data": {
      "image/png": "[encoded data removed]",
      "text/plain": [
       "<Figure size 720x432 with 1 Axes>"
      ]
     },
     "metadata": {
      "needs_background": "light"
     },
     "output_type": "display_data"
    }
   ],
   "source": [
    "rides_go['distance'].plot(kind='box', figsize=(10,6))\n",
    "plt.title('Распределение расстояния поездки пользователей', size=15)\n",
    "plt.xlabel('Распределение наблюдений', size=13)\n",
    "plt.ylabel('Расстояние, м', size=13)\n",
    "plt.show()"
   ]
  },
  {
   "cell_type": "code",
   "execution_count": 34,
   "id": "114826a5",
   "metadata": {},
   "outputs": [
    {
     "data": {
      "text/plain": [
       "count    18068.000000\n",
       "mean      3070.659976\n",
       "std       1116.831209\n",
       "min          0.855683\n",
       "25%       2543.226360\n",
       "50%       3133.609994\n",
       "75%       3776.222735\n",
       "max       7211.007745\n",
       "Name: distance, dtype: float64"
      ]
     },
     "execution_count": 34,
     "metadata": {},
     "output_type": "execute_result"
    }
   ],
   "source": [
    "rides_go['distance'].describe()"
   ]
  },
  {
   "cell_type": "markdown",
   "id": "67dd0d26",
   "metadata": {},
   "source": [
    "Исходя из данных выше, можно заметить следующее:\n",
    "- в основном расстояние одной поездки от 2,5 до 3,7 км. \n",
    "- есть достаточно много выбросов снизу (и, соответственно, малый пик на гистограмме в поездках до 1км) - поездки на самокате действительно могут быть очень короткими."
   ]
  },
  {
   "cell_type": "markdown",
   "id": "9335dd2b",
   "metadata": {},
   "source": [
    "**3.5 продолжительность поездок**"
   ]
  },
  {
   "cell_type": "markdown",
   "id": "4330497b",
   "metadata": {},
   "source": [
    "Сгруппируем данные о длительности поездки по пользователям и посмотрим на распределених значений."
   ]
  },
  {
   "cell_type": "code",
   "execution_count": 35,
   "id": "7d306636",
   "metadata": {},
   "outputs": [
    {
     "data": {
      "image/png": "[encoded data removed]",
      "text/plain": [
       "<Figure size 720x432 with 1 Axes>"
      ]
     },
     "metadata": {
      "needs_background": "light"
     },
     "output_type": "display_data"
    }
   ],
   "source": [
    "rides_go['duration'].hist(bins=50, figsize=(10,6))\n",
    "\n",
    "plt.title('Распределение продолжительности поездки пользователей', size=15)\n",
    "plt.xlabel('Время поездки', size=13)\n",
    "plt.ylabel('Количество наблюдений', size=13)\n",
    "plt.axvline(rides_go['duration'].median(), color='r', linestyle='-', linewidth=2)\n",
    "plt.show()"
   ]
  },
  {
   "cell_type": "code",
   "execution_count": 36,
   "id": "d291e882",
   "metadata": {},
   "outputs": [
    {
     "data": {
      "image/png": "[encoded data removed]",
      "text/plain": [
       "<Figure size 720x432 with 1 Axes>"
      ]
     },
     "metadata": {
      "needs_background": "light"
     },
     "output_type": "display_data"
    }
   ],
   "source": [
    "rides_go['duration'].plot(kind='box', figsize=(10,6))\n",
    "plt.title('Распределение продолжительности поездки пользователей', size=15)\n",
    "plt.xlabel('Распределение наблюдений', size=13)\n",
    "plt.ylabel('Длительность поездки', size=13)\n",
    "plt.show()"
   ]
  },
  {
   "cell_type": "code",
   "execution_count": 37,
   "id": "5c56616e",
   "metadata": {},
   "outputs": [
    {
     "data": {
      "text/plain": [
       "count    18068.000000\n",
       "mean        17.805011\n",
       "std          6.091051\n",
       "min          0.500000\n",
       "25%         13.597563\n",
       "50%         17.678395\n",
       "75%         21.724800\n",
       "max         40.823963\n",
       "Name: duration, dtype: float64"
      ]
     },
     "execution_count": 37,
     "metadata": {},
     "output_type": "execute_result"
    }
   ],
   "source": [
    "rides_go['duration'].describe()"
   ]
  },
  {
   "cell_type": "markdown",
   "id": "08adaadb",
   "metadata": {},
   "source": [
    "Одна поездка в 75% случаев составляла от 13 до 22 минут (1 и 3 квартили).\n",
    "Судя по минимальному значению, в данных есть аномалии - присутствуют поездки длительностью менее 1 минуты. Несмотря на такую низкую продолжительность, строки с аномально короткими поездками удалять не следует, так как в дальнейшем будет производится расчет выручки (можно потерять важные данный в других столбцах таких строк)."
   ]
  },
  {
   "cell_type": "markdown",
   "id": "febc27c3",
   "metadata": {},
   "source": [
    "**Вывод:**\n",
    "- В датафрейме с уникальными пользователями наиболее часто встрячается город Пятигорск. Меньше всего уникальных пользователей в Москве (соответственно, частота встречаемости Москвы наименьшая среди всех городов).\n",
    "- Доля пользователей с подпиской ultra составляет 45.57% от общего количества наблюдений.\n",
    "- Большинство пользователей (а именно 75%) находятся в возрасте от 22 до 28 лет. Наиболее частовстречающееся значение возраста пользователя (мода) - 25 лет.\n",
    "- В основном средняя дальность поездки составляет от 2,5 км до 3,7 км (от 1 до 3 квартиля). Также в данных видно некоторое количество выбросов снизу диаграммы \"ящика\".\n",
    "- Одна поездка в 75% случаев составляла от 13 до 22 минут (1 и 3 квартили)"
   ]
  },
  {
   "cell_type": "markdown",
   "id": "4ef51331",
   "metadata": {},
   "source": [
    "#### Шаг 4. Объединение данных"
   ]
  },
  {
   "cell_type": "markdown",
   "id": "666f9be7",
   "metadata": {},
   "source": [
    "**4.1 Объедините данные о пользователях, поездках и подписках в один датафрейм.**"
   ]
  },
  {
   "cell_type": "markdown",
   "id": "597b5dfe",
   "metadata": {},
   "source": [
    "На шаге 3.1 были объединены датафреймы users_go и rides_go. Добавим к объединенным данным датафрейм subscription_go."
   ]
  },
  {
   "cell_type": "code",
   "execution_count": 38,
   "id": "a2f79e54",
   "metadata": {},
   "outputs": [
    {
     "data": {
      "text/html": [
       "<div>\n",
       "<style scoped>\n",
       "    .dataframe tbody tr th:only-of-type {\n",
       "        vertical-align: middle;\n",
       "    }\n",
       "\n",
       "    .dataframe tbody tr th {\n",
       "        vertical-align: top;\n",
       "    }\n",
       "\n",
       "    .dataframe thead th {\n",
       "        text-align: right;\n",
       "    }\n",
       "</style>\n",
       "<table border=\"1\" class=\"dataframe\">\n",
       "  <thead>\n",
       "    <tr style=\"text-align: right;\">\n",
       "      <th></th>\n",
       "      <th>user_id</th>\n",
       "      <th>distance</th>\n",
       "      <th>duration</th>\n",
       "      <th>date</th>\n",
       "      <th>month</th>\n",
       "      <th>name</th>\n",
       "      <th>age</th>\n",
       "      <th>city</th>\n",
       "      <th>subscription_type</th>\n",
       "      <th>minute_price</th>\n",
       "      <th>start_ride_price</th>\n",
       "      <th>subscription_fee</th>\n",
       "    </tr>\n",
       "  </thead>\n",
       "  <tbody>\n",
       "    <tr>\n",
       "      <th>0</th>\n",
       "      <td>1</td>\n",
       "      <td>4409.919140</td>\n",
       "      <td>25.599769</td>\n",
       "      <td>2021-01-01</td>\n",
       "      <td>1</td>\n",
       "      <td>Кира</td>\n",
       "      <td>22</td>\n",
       "      <td>Тюмень</td>\n",
       "      <td>ultra</td>\n",
       "      <td>6</td>\n",
       "      <td>0</td>\n",
       "      <td>199</td>\n",
       "    </tr>\n",
       "    <tr>\n",
       "      <th>1</th>\n",
       "      <td>1</td>\n",
       "      <td>2617.592153</td>\n",
       "      <td>15.816871</td>\n",
       "      <td>2021-01-18</td>\n",
       "      <td>1</td>\n",
       "      <td>Кира</td>\n",
       "      <td>22</td>\n",
       "      <td>Тюмень</td>\n",
       "      <td>ultra</td>\n",
       "      <td>6</td>\n",
       "      <td>0</td>\n",
       "      <td>199</td>\n",
       "    </tr>\n",
       "    <tr>\n",
       "      <th>2</th>\n",
       "      <td>1</td>\n",
       "      <td>754.159807</td>\n",
       "      <td>6.232113</td>\n",
       "      <td>2021-04-20</td>\n",
       "      <td>4</td>\n",
       "      <td>Кира</td>\n",
       "      <td>22</td>\n",
       "      <td>Тюмень</td>\n",
       "      <td>ultra</td>\n",
       "      <td>6</td>\n",
       "      <td>0</td>\n",
       "      <td>199</td>\n",
       "    </tr>\n",
       "    <tr>\n",
       "      <th>3</th>\n",
       "      <td>1</td>\n",
       "      <td>2694.783254</td>\n",
       "      <td>18.511000</td>\n",
       "      <td>2021-08-11</td>\n",
       "      <td>8</td>\n",
       "      <td>Кира</td>\n",
       "      <td>22</td>\n",
       "      <td>Тюмень</td>\n",
       "      <td>ultra</td>\n",
       "      <td>6</td>\n",
       "      <td>0</td>\n",
       "      <td>199</td>\n",
       "    </tr>\n",
       "    <tr>\n",
       "      <th>4</th>\n",
       "      <td>1</td>\n",
       "      <td>4028.687306</td>\n",
       "      <td>26.265803</td>\n",
       "      <td>2021-08-28</td>\n",
       "      <td>8</td>\n",
       "      <td>Кира</td>\n",
       "      <td>22</td>\n",
       "      <td>Тюмень</td>\n",
       "      <td>ultra</td>\n",
       "      <td>6</td>\n",
       "      <td>0</td>\n",
       "      <td>199</td>\n",
       "    </tr>\n",
       "  </tbody>\n",
       "</table>\n",
       "</div>"
      ],
      "text/plain": [
       "   user_id     distance   duration       date  month  name  age    city  \\\n",
       "0        1  4409.919140  25.599769 2021-01-01      1  Кира   22  Тюмень   \n",
       "1        1  2617.592153  15.816871 2021-01-18      1  Кира   22  Тюмень   \n",
       "2        1   754.159807   6.232113 2021-04-20      4  Кира   22  Тюмень   \n",
       "3        1  2694.783254  18.511000 2021-08-11      8  Кира   22  Тюмень   \n",
       "4        1  4028.687306  26.265803 2021-08-28      8  Кира   22  Тюмень   \n",
       "\n",
       "  subscription_type  minute_price  start_ride_price  subscription_fee  \n",
       "0             ultra             6                 0               199  \n",
       "1             ultra             6                 0               199  \n",
       "2             ultra             6                 0               199  \n",
       "3             ultra             6                 0               199  \n",
       "4             ultra             6                 0               199  "
      ]
     },
     "execution_count": 38,
     "metadata": {},
     "output_type": "execute_result"
    }
   ],
   "source": [
    "total_merged_go = rides_users_go.merge(subscriptions_go, on='subscription_type')\n",
    "total_merged_go['distance'] = total_merged_go['distance']\n",
    "total_merged_go.head()"
   ]
  },
  {
   "cell_type": "code",
   "execution_count": 39,
   "id": "33cccbb7",
   "metadata": {},
   "outputs": [
    {
     "name": "stdout",
     "output_type": "stream",
     "text": [
      "<class 'pandas.core.frame.DataFrame'>\n",
      "Int64Index: 18068 entries, 0 to 18067\n",
      "Data columns (total 12 columns):\n",
      " #   Column             Non-Null Count  Dtype         \n",
      "---  ------             --------------  -----         \n",
      " 0   user_id            18068 non-null  int64         \n",
      " 1   distance           18068 non-null  float64       \n",
      " 2   duration           18068 non-null  float64       \n",
      " 3   date               18068 non-null  datetime64[ns]\n",
      " 4   month              18068 non-null  int64         \n",
      " 5   name               18068 non-null  object        \n",
      " 6   age                18068 non-null  int64         \n",
      " 7   city               18068 non-null  object        \n",
      " 8   subscription_type  18068 non-null  object        \n",
      " 9   minute_price       18068 non-null  int64         \n",
      " 10  start_ride_price   18068 non-null  int64         \n",
      " 11  subscription_fee   18068 non-null  int64         \n",
      "dtypes: datetime64[ns](1), float64(2), int64(6), object(3)\n",
      "memory usage: 1.8+ MB\n"
     ]
    }
   ],
   "source": [
    "total_merged_go.info()"
   ]
  },
  {
   "cell_type": "markdown",
   "id": "46c27131",
   "metadata": {},
   "source": [
    "Пропуски отсутствуют. Размерность по строкам та же как в users_go."
   ]
  },
  {
   "cell_type": "markdown",
   "id": "d1525198",
   "metadata": {},
   "source": [
    "**4.2 Создадим ещё два датафрейма из датафрейма, созданного на этапе 4.1:\n",
    "c данными о пользователях без подписки;\n",
    "с данными о пользователях с подпиской.**"
   ]
  },
  {
   "cell_type": "markdown",
   "id": "96a09c24",
   "metadata": {},
   "source": [
    "Создадим два датафрейма, разделенных по типу подписки."
   ]
  },
  {
   "cell_type": "code",
   "execution_count": 40,
   "id": "20a12ed9",
   "metadata": {},
   "outputs": [
    {
     "data": {
      "text/html": [
       "<div>\n",
       "<style scoped>\n",
       "    .dataframe tbody tr th:only-of-type {\n",
       "        vertical-align: middle;\n",
       "    }\n",
       "\n",
       "    .dataframe tbody tr th {\n",
       "        vertical-align: top;\n",
       "    }\n",
       "\n",
       "    .dataframe thead th {\n",
       "        text-align: right;\n",
       "    }\n",
       "</style>\n",
       "<table border=\"1\" class=\"dataframe\">\n",
       "  <thead>\n",
       "    <tr style=\"text-align: right;\">\n",
       "      <th></th>\n",
       "      <th>user_id</th>\n",
       "      <th>distance</th>\n",
       "      <th>duration</th>\n",
       "      <th>date</th>\n",
       "      <th>month</th>\n",
       "      <th>name</th>\n",
       "      <th>age</th>\n",
       "      <th>city</th>\n",
       "      <th>subscription_type</th>\n",
       "      <th>minute_price</th>\n",
       "      <th>start_ride_price</th>\n",
       "      <th>subscription_fee</th>\n",
       "    </tr>\n",
       "  </thead>\n",
       "  <tbody>\n",
       "    <tr>\n",
       "      <th>0</th>\n",
       "      <td>1</td>\n",
       "      <td>4409.919140</td>\n",
       "      <td>25.599769</td>\n",
       "      <td>2021-01-01</td>\n",
       "      <td>1</td>\n",
       "      <td>Кира</td>\n",
       "      <td>22</td>\n",
       "      <td>Тюмень</td>\n",
       "      <td>ultra</td>\n",
       "      <td>6</td>\n",
       "      <td>0</td>\n",
       "      <td>199</td>\n",
       "    </tr>\n",
       "    <tr>\n",
       "      <th>1</th>\n",
       "      <td>1</td>\n",
       "      <td>2617.592153</td>\n",
       "      <td>15.816871</td>\n",
       "      <td>2021-01-18</td>\n",
       "      <td>1</td>\n",
       "      <td>Кира</td>\n",
       "      <td>22</td>\n",
       "      <td>Тюмень</td>\n",
       "      <td>ultra</td>\n",
       "      <td>6</td>\n",
       "      <td>0</td>\n",
       "      <td>199</td>\n",
       "    </tr>\n",
       "    <tr>\n",
       "      <th>2</th>\n",
       "      <td>1</td>\n",
       "      <td>754.159807</td>\n",
       "      <td>6.232113</td>\n",
       "      <td>2021-04-20</td>\n",
       "      <td>4</td>\n",
       "      <td>Кира</td>\n",
       "      <td>22</td>\n",
       "      <td>Тюмень</td>\n",
       "      <td>ultra</td>\n",
       "      <td>6</td>\n",
       "      <td>0</td>\n",
       "      <td>199</td>\n",
       "    </tr>\n",
       "    <tr>\n",
       "      <th>3</th>\n",
       "      <td>1</td>\n",
       "      <td>2694.783254</td>\n",
       "      <td>18.511000</td>\n",
       "      <td>2021-08-11</td>\n",
       "      <td>8</td>\n",
       "      <td>Кира</td>\n",
       "      <td>22</td>\n",
       "      <td>Тюмень</td>\n",
       "      <td>ultra</td>\n",
       "      <td>6</td>\n",
       "      <td>0</td>\n",
       "      <td>199</td>\n",
       "    </tr>\n",
       "    <tr>\n",
       "      <th>4</th>\n",
       "      <td>1</td>\n",
       "      <td>4028.687306</td>\n",
       "      <td>26.265803</td>\n",
       "      <td>2021-08-28</td>\n",
       "      <td>8</td>\n",
       "      <td>Кира</td>\n",
       "      <td>22</td>\n",
       "      <td>Тюмень</td>\n",
       "      <td>ultra</td>\n",
       "      <td>6</td>\n",
       "      <td>0</td>\n",
       "      <td>199</td>\n",
       "    </tr>\n",
       "    <tr>\n",
       "      <th>...</th>\n",
       "      <td>...</td>\n",
       "      <td>...</td>\n",
       "      <td>...</td>\n",
       "      <td>...</td>\n",
       "      <td>...</td>\n",
       "      <td>...</td>\n",
       "      <td>...</td>\n",
       "      <td>...</td>\n",
       "      <td>...</td>\n",
       "      <td>...</td>\n",
       "      <td>...</td>\n",
       "      <td>...</td>\n",
       "    </tr>\n",
       "    <tr>\n",
       "      <th>6495</th>\n",
       "      <td>699</td>\n",
       "      <td>3973.046497</td>\n",
       "      <td>24.671163</td>\n",
       "      <td>2021-08-29</td>\n",
       "      <td>8</td>\n",
       "      <td>Оксана</td>\n",
       "      <td>22</td>\n",
       "      <td>Москва</td>\n",
       "      <td>ultra</td>\n",
       "      <td>6</td>\n",
       "      <td>0</td>\n",
       "      <td>199</td>\n",
       "    </tr>\n",
       "    <tr>\n",
       "      <th>6496</th>\n",
       "      <td>699</td>\n",
       "      <td>3288.702563</td>\n",
       "      <td>15.892886</td>\n",
       "      <td>2021-09-12</td>\n",
       "      <td>9</td>\n",
       "      <td>Оксана</td>\n",
       "      <td>22</td>\n",
       "      <td>Москва</td>\n",
       "      <td>ultra</td>\n",
       "      <td>6</td>\n",
       "      <td>0</td>\n",
       "      <td>199</td>\n",
       "    </tr>\n",
       "    <tr>\n",
       "      <th>6497</th>\n",
       "      <td>699</td>\n",
       "      <td>3076.159348</td>\n",
       "      <td>14.389525</td>\n",
       "      <td>2021-09-26</td>\n",
       "      <td>9</td>\n",
       "      <td>Оксана</td>\n",
       "      <td>22</td>\n",
       "      <td>Москва</td>\n",
       "      <td>ultra</td>\n",
       "      <td>6</td>\n",
       "      <td>0</td>\n",
       "      <td>199</td>\n",
       "    </tr>\n",
       "    <tr>\n",
       "      <th>6498</th>\n",
       "      <td>699</td>\n",
       "      <td>4707.845501</td>\n",
       "      <td>15.839579</td>\n",
       "      <td>2021-10-17</td>\n",
       "      <td>10</td>\n",
       "      <td>Оксана</td>\n",
       "      <td>22</td>\n",
       "      <td>Москва</td>\n",
       "      <td>ultra</td>\n",
       "      <td>6</td>\n",
       "      <td>0</td>\n",
       "      <td>199</td>\n",
       "    </tr>\n",
       "    <tr>\n",
       "      <th>6499</th>\n",
       "      <td>699</td>\n",
       "      <td>3202.890770</td>\n",
       "      <td>25.217345</td>\n",
       "      <td>2021-12-03</td>\n",
       "      <td>12</td>\n",
       "      <td>Оксана</td>\n",
       "      <td>22</td>\n",
       "      <td>Москва</td>\n",
       "      <td>ultra</td>\n",
       "      <td>6</td>\n",
       "      <td>0</td>\n",
       "      <td>199</td>\n",
       "    </tr>\n",
       "  </tbody>\n",
       "</table>\n",
       "<p>6500 rows × 12 columns</p>\n",
       "</div>"
      ],
      "text/plain": [
       "      user_id     distance   duration       date  month    name  age    city  \\\n",
       "0           1  4409.919140  25.599769 2021-01-01      1    Кира   22  Тюмень   \n",
       "1           1  2617.592153  15.816871 2021-01-18      1    Кира   22  Тюмень   \n",
       "2           1   754.159807   6.232113 2021-04-20      4    Кира   22  Тюмень   \n",
       "3           1  2694.783254  18.511000 2021-08-11      8    Кира   22  Тюмень   \n",
       "4           1  4028.687306  26.265803 2021-08-28      8    Кира   22  Тюмень   \n",
       "...       ...          ...        ...        ...    ...     ...  ...     ...   \n",
       "6495      699  3973.046497  24.671163 2021-08-29      8  Оксана   22  Москва   \n",
       "6496      699  3288.702563  15.892886 2021-09-12      9  Оксана   22  Москва   \n",
       "6497      699  3076.159348  14.389525 2021-09-26      9  Оксана   22  Москва   \n",
       "6498      699  4707.845501  15.839579 2021-10-17     10  Оксана   22  Москва   \n",
       "6499      699  3202.890770  25.217345 2021-12-03     12  Оксана   22  Москва   \n",
       "\n",
       "     subscription_type  minute_price  start_ride_price  subscription_fee  \n",
       "0                ultra             6                 0               199  \n",
       "1                ultra             6                 0               199  \n",
       "2                ultra             6                 0               199  \n",
       "3                ultra             6                 0               199  \n",
       "4                ultra             6                 0               199  \n",
       "...                ...           ...               ...               ...  \n",
       "6495             ultra             6                 0               199  \n",
       "6496             ultra             6                 0               199  \n",
       "6497             ultra             6                 0               199  \n",
       "6498             ultra             6                 0               199  \n",
       "6499             ultra             6                 0               199  \n",
       "\n",
       "[6500 rows x 12 columns]"
      ]
     },
     "execution_count": 40,
     "metadata": {},
     "output_type": "execute_result"
    }
   ],
   "source": [
    "data_ultra = total_merged_go.query('subscription_type == \"ultra\"').reset_index(drop=True)\n",
    "data_ultra"
   ]
  },
  {
   "cell_type": "code",
   "execution_count": 41,
   "id": "6d29e920",
   "metadata": {},
   "outputs": [
    {
     "data": {
      "text/html": [
       "<div>\n",
       "<style scoped>\n",
       "    .dataframe tbody tr th:only-of-type {\n",
       "        vertical-align: middle;\n",
       "    }\n",
       "\n",
       "    .dataframe tbody tr th {\n",
       "        vertical-align: top;\n",
       "    }\n",
       "\n",
       "    .dataframe thead th {\n",
       "        text-align: right;\n",
       "    }\n",
       "</style>\n",
       "<table border=\"1\" class=\"dataframe\">\n",
       "  <thead>\n",
       "    <tr style=\"text-align: right;\">\n",
       "      <th></th>\n",
       "      <th>user_id</th>\n",
       "      <th>distance</th>\n",
       "      <th>duration</th>\n",
       "      <th>date</th>\n",
       "      <th>month</th>\n",
       "      <th>name</th>\n",
       "      <th>age</th>\n",
       "      <th>city</th>\n",
       "      <th>subscription_type</th>\n",
       "      <th>minute_price</th>\n",
       "      <th>start_ride_price</th>\n",
       "      <th>subscription_fee</th>\n",
       "    </tr>\n",
       "  </thead>\n",
       "  <tbody>\n",
       "    <tr>\n",
       "      <th>0</th>\n",
       "      <td>700</td>\n",
       "      <td>2515.690719</td>\n",
       "      <td>14.944286</td>\n",
       "      <td>2021-01-02</td>\n",
       "      <td>1</td>\n",
       "      <td>Айдар</td>\n",
       "      <td>22</td>\n",
       "      <td>Омск</td>\n",
       "      <td>free</td>\n",
       "      <td>8</td>\n",
       "      <td>50</td>\n",
       "      <td>0</td>\n",
       "    </tr>\n",
       "    <tr>\n",
       "      <th>1</th>\n",
       "      <td>700</td>\n",
       "      <td>846.932642</td>\n",
       "      <td>16.234663</td>\n",
       "      <td>2021-02-01</td>\n",
       "      <td>2</td>\n",
       "      <td>Айдар</td>\n",
       "      <td>22</td>\n",
       "      <td>Омск</td>\n",
       "      <td>free</td>\n",
       "      <td>8</td>\n",
       "      <td>50</td>\n",
       "      <td>0</td>\n",
       "    </tr>\n",
       "    <tr>\n",
       "      <th>2</th>\n",
       "      <td>700</td>\n",
       "      <td>4004.434142</td>\n",
       "      <td>20.016628</td>\n",
       "      <td>2021-02-04</td>\n",
       "      <td>2</td>\n",
       "      <td>Айдар</td>\n",
       "      <td>22</td>\n",
       "      <td>Омск</td>\n",
       "      <td>free</td>\n",
       "      <td>8</td>\n",
       "      <td>50</td>\n",
       "      <td>0</td>\n",
       "    </tr>\n",
       "    <tr>\n",
       "      <th>3</th>\n",
       "      <td>700</td>\n",
       "      <td>1205.911290</td>\n",
       "      <td>9.782872</td>\n",
       "      <td>2021-02-10</td>\n",
       "      <td>2</td>\n",
       "      <td>Айдар</td>\n",
       "      <td>22</td>\n",
       "      <td>Омск</td>\n",
       "      <td>free</td>\n",
       "      <td>8</td>\n",
       "      <td>50</td>\n",
       "      <td>0</td>\n",
       "    </tr>\n",
       "    <tr>\n",
       "      <th>4</th>\n",
       "      <td>700</td>\n",
       "      <td>3047.379435</td>\n",
       "      <td>17.427673</td>\n",
       "      <td>2021-02-14</td>\n",
       "      <td>2</td>\n",
       "      <td>Айдар</td>\n",
       "      <td>22</td>\n",
       "      <td>Омск</td>\n",
       "      <td>free</td>\n",
       "      <td>8</td>\n",
       "      <td>50</td>\n",
       "      <td>0</td>\n",
       "    </tr>\n",
       "    <tr>\n",
       "      <th>...</th>\n",
       "      <td>...</td>\n",
       "      <td>...</td>\n",
       "      <td>...</td>\n",
       "      <td>...</td>\n",
       "      <td>...</td>\n",
       "      <td>...</td>\n",
       "      <td>...</td>\n",
       "      <td>...</td>\n",
       "      <td>...</td>\n",
       "      <td>...</td>\n",
       "      <td>...</td>\n",
       "      <td>...</td>\n",
       "    </tr>\n",
       "    <tr>\n",
       "      <th>11563</th>\n",
       "      <td>1534</td>\n",
       "      <td>3781.098080</td>\n",
       "      <td>19.822962</td>\n",
       "      <td>2021-11-04</td>\n",
       "      <td>11</td>\n",
       "      <td>Альберт</td>\n",
       "      <td>25</td>\n",
       "      <td>Краснодар</td>\n",
       "      <td>free</td>\n",
       "      <td>8</td>\n",
       "      <td>50</td>\n",
       "      <td>0</td>\n",
       "    </tr>\n",
       "    <tr>\n",
       "      <th>11564</th>\n",
       "      <td>1534</td>\n",
       "      <td>2840.423057</td>\n",
       "      <td>21.409799</td>\n",
       "      <td>2021-11-16</td>\n",
       "      <td>11</td>\n",
       "      <td>Альберт</td>\n",
       "      <td>25</td>\n",
       "      <td>Краснодар</td>\n",
       "      <td>free</td>\n",
       "      <td>8</td>\n",
       "      <td>50</td>\n",
       "      <td>0</td>\n",
       "    </tr>\n",
       "    <tr>\n",
       "      <th>11565</th>\n",
       "      <td>1534</td>\n",
       "      <td>3826.185507</td>\n",
       "      <td>18.435051</td>\n",
       "      <td>2021-11-18</td>\n",
       "      <td>11</td>\n",
       "      <td>Альберт</td>\n",
       "      <td>25</td>\n",
       "      <td>Краснодар</td>\n",
       "      <td>free</td>\n",
       "      <td>8</td>\n",
       "      <td>50</td>\n",
       "      <td>0</td>\n",
       "    </tr>\n",
       "    <tr>\n",
       "      <th>11566</th>\n",
       "      <td>1534</td>\n",
       "      <td>2902.308661</td>\n",
       "      <td>16.674362</td>\n",
       "      <td>2021-11-27</td>\n",
       "      <td>11</td>\n",
       "      <td>Альберт</td>\n",
       "      <td>25</td>\n",
       "      <td>Краснодар</td>\n",
       "      <td>free</td>\n",
       "      <td>8</td>\n",
       "      <td>50</td>\n",
       "      <td>0</td>\n",
       "    </tr>\n",
       "    <tr>\n",
       "      <th>11567</th>\n",
       "      <td>1534</td>\n",
       "      <td>2371.711192</td>\n",
       "      <td>15.893917</td>\n",
       "      <td>2021-12-29</td>\n",
       "      <td>12</td>\n",
       "      <td>Альберт</td>\n",
       "      <td>25</td>\n",
       "      <td>Краснодар</td>\n",
       "      <td>free</td>\n",
       "      <td>8</td>\n",
       "      <td>50</td>\n",
       "      <td>0</td>\n",
       "    </tr>\n",
       "  </tbody>\n",
       "</table>\n",
       "<p>11568 rows × 12 columns</p>\n",
       "</div>"
      ],
      "text/plain": [
       "       user_id     distance   duration       date  month     name  age  \\\n",
       "0          700  2515.690719  14.944286 2021-01-02      1    Айдар   22   \n",
       "1          700   846.932642  16.234663 2021-02-01      2    Айдар   22   \n",
       "2          700  4004.434142  20.016628 2021-02-04      2    Айдар   22   \n",
       "3          700  1205.911290   9.782872 2021-02-10      2    Айдар   22   \n",
       "4          700  3047.379435  17.427673 2021-02-14      2    Айдар   22   \n",
       "...        ...          ...        ...        ...    ...      ...  ...   \n",
       "11563     1534  3781.098080  19.822962 2021-11-04     11  Альберт   25   \n",
       "11564     1534  2840.423057  21.409799 2021-11-16     11  Альберт   25   \n",
       "11565     1534  3826.185507  18.435051 2021-11-18     11  Альберт   25   \n",
       "11566     1534  2902.308661  16.674362 2021-11-27     11  Альберт   25   \n",
       "11567     1534  2371.711192  15.893917 2021-12-29     12  Альберт   25   \n",
       "\n",
       "            city subscription_type  minute_price  start_ride_price  \\\n",
       "0           Омск              free             8                50   \n",
       "1           Омск              free             8                50   \n",
       "2           Омск              free             8                50   \n",
       "3           Омск              free             8                50   \n",
       "4           Омск              free             8                50   \n",
       "...          ...               ...           ...               ...   \n",
       "11563  Краснодар              free             8                50   \n",
       "11564  Краснодар              free             8                50   \n",
       "11565  Краснодар              free             8                50   \n",
       "11566  Краснодар              free             8                50   \n",
       "11567  Краснодар              free             8                50   \n",
       "\n",
       "       subscription_fee  \n",
       "0                     0  \n",
       "1                     0  \n",
       "2                     0  \n",
       "3                     0  \n",
       "4                     0  \n",
       "...                 ...  \n",
       "11563                 0  \n",
       "11564                 0  \n",
       "11565                 0  \n",
       "11566                 0  \n",
       "11567                 0  \n",
       "\n",
       "[11568 rows x 12 columns]"
      ]
     },
     "execution_count": 41,
     "metadata": {},
     "output_type": "execute_result"
    }
   ],
   "source": [
    "data_free = total_merged_go.query('subscription_type == \"free\"').reset_index(drop=True)\n",
    "data_free"
   ]
  },
  {
   "cell_type": "markdown",
   "id": "866d0e82",
   "metadata": {},
   "source": [
    "**4.3 Визуализация информации о расстоянии и времени поездок для пользователей обеих категорий.**"
   ]
  },
  {
   "cell_type": "code",
   "execution_count": 42,
   "id": "8944123b",
   "metadata": {},
   "outputs": [
    {
     "data": {
      "image/png": "[encoded data removed]",
      "text/plain": [
       "<Figure size 720x432 with 1 Axes>"
      ]
     },
     "metadata": {
      "needs_background": "light"
     },
     "output_type": "display_data"
    },
    {
     "data": {
      "image/png": "[encoded data removed]",
      "text/plain": [
       "<Figure size 720x432 with 1 Axes>"
      ]
     },
     "metadata": {
      "needs_background": "light"
     },
     "output_type": "display_data"
    }
   ],
   "source": [
    "ultra_d_avg = data_ultra.pivot_table(index='user_id', values='distance')\n",
    "free_d_avg = data_free.pivot_table(index='user_id', values='distance')\n",
    "\n",
    "ultra_d_avg.plot(kind='hist', bins=30, figsize=(10,6), color='g', alpha=0.7, label='ultra_distance')\n",
    "plt.axvline(ultra_d_avg['distance'].median(), color='r', linestyle='-', linewidth=2)\n",
    "plt.title('Распределение среднего расстояния поездки пользователей с подпиской ultra', size=15)\n",
    "plt.xlabel('Среднее расстояние, м', size=13)\n",
    "plt.ylabel('Количество наблюдений', size=13)\n",
    "plt.show()\n",
    "\n",
    "free_d_avg.plot(kind='hist', bins=30, figsize=(10,6), label='free_distance')\n",
    "plt.axvline(free_d_avg['distance'].median(), color='r', linestyle='-', linewidth=2)\n",
    "plt.title('Распределение среднего расстояния поездки пользователей без подписки', size=15)\n",
    "plt.xlabel('Среднее расстояние, м', size=13)\n",
    "plt.ylabel('Количество наблюдений', size=13)\n",
    "plt.show()\n"
   ]
  },
  {
   "cell_type": "code",
   "execution_count": 43,
   "id": "cb5e6349",
   "metadata": {},
   "outputs": [
    {
     "data": {
      "text/html": [
       "<div>\n",
       "<style scoped>\n",
       "    .dataframe tbody tr th:only-of-type {\n",
       "        vertical-align: middle;\n",
       "    }\n",
       "\n",
       "    .dataframe tbody tr th {\n",
       "        vertical-align: top;\n",
       "    }\n",
       "\n",
       "    .dataframe thead th {\n",
       "        text-align: right;\n",
       "    }\n",
       "</style>\n",
       "<table border=\"1\" class=\"dataframe\">\n",
       "  <thead>\n",
       "    <tr style=\"text-align: right;\">\n",
       "      <th></th>\n",
       "      <th>distance</th>\n",
       "    </tr>\n",
       "  </thead>\n",
       "  <tbody>\n",
       "    <tr>\n",
       "      <th>count</th>\n",
       "      <td>699.000000</td>\n",
       "    </tr>\n",
       "    <tr>\n",
       "      <th>mean</th>\n",
       "      <td>3113.459926</td>\n",
       "    </tr>\n",
       "    <tr>\n",
       "      <th>std</th>\n",
       "      <td>299.706136</td>\n",
       "    </tr>\n",
       "    <tr>\n",
       "      <th>min</th>\n",
       "      <td>2098.297845</td>\n",
       "    </tr>\n",
       "    <tr>\n",
       "      <th>25%</th>\n",
       "      <td>2925.005435</td>\n",
       "    </tr>\n",
       "    <tr>\n",
       "      <th>50%</th>\n",
       "      <td>3134.349186</td>\n",
       "    </tr>\n",
       "    <tr>\n",
       "      <th>75%</th>\n",
       "      <td>3312.191643</td>\n",
       "    </tr>\n",
       "    <tr>\n",
       "      <th>max</th>\n",
       "      <td>3939.773328</td>\n",
       "    </tr>\n",
       "  </tbody>\n",
       "</table>\n",
       "</div>"
      ],
      "text/plain": [
       "          distance\n",
       "count   699.000000\n",
       "mean   3113.459926\n",
       "std     299.706136\n",
       "min    2098.297845\n",
       "25%    2925.005435\n",
       "50%    3134.349186\n",
       "75%    3312.191643\n",
       "max    3939.773328"
      ]
     },
     "execution_count": 43,
     "metadata": {},
     "output_type": "execute_result"
    }
   ],
   "source": [
    "ultra_d_avg.describe() #информация по данным о пользователях с подпиской"
   ]
  },
  {
   "cell_type": "code",
   "execution_count": 44,
   "id": "3050933b",
   "metadata": {},
   "outputs": [
    {
     "data": {
      "text/html": [
       "<div>\n",
       "<style scoped>\n",
       "    .dataframe tbody tr th:only-of-type {\n",
       "        vertical-align: middle;\n",
       "    }\n",
       "\n",
       "    .dataframe tbody tr th {\n",
       "        vertical-align: top;\n",
       "    }\n",
       "\n",
       "    .dataframe thead th {\n",
       "        text-align: right;\n",
       "    }\n",
       "</style>\n",
       "<table border=\"1\" class=\"dataframe\">\n",
       "  <thead>\n",
       "    <tr style=\"text-align: right;\">\n",
       "      <th></th>\n",
       "      <th>distance</th>\n",
       "    </tr>\n",
       "  </thead>\n",
       "  <tbody>\n",
       "    <tr>\n",
       "      <th>count</th>\n",
       "      <td>835.000000</td>\n",
       "    </tr>\n",
       "    <tr>\n",
       "      <th>mean</th>\n",
       "      <td>3047.023441</td>\n",
       "    </tr>\n",
       "    <tr>\n",
       "      <th>std</th>\n",
       "      <td>346.570021</td>\n",
       "    </tr>\n",
       "    <tr>\n",
       "      <th>min</th>\n",
       "      <td>1630.788427</td>\n",
       "    </tr>\n",
       "    <tr>\n",
       "      <th>25%</th>\n",
       "      <td>2820.516763</td>\n",
       "    </tr>\n",
       "    <tr>\n",
       "      <th>50%</th>\n",
       "      <td>3057.940909</td>\n",
       "    </tr>\n",
       "    <tr>\n",
       "      <th>75%</th>\n",
       "      <td>3276.990199</td>\n",
       "    </tr>\n",
       "    <tr>\n",
       "      <th>max</th>\n",
       "      <td>4287.519387</td>\n",
       "    </tr>\n",
       "  </tbody>\n",
       "</table>\n",
       "</div>"
      ],
      "text/plain": [
       "          distance\n",
       "count   835.000000\n",
       "mean   3047.023441\n",
       "std     346.570021\n",
       "min    1630.788427\n",
       "25%    2820.516763\n",
       "50%    3057.940909\n",
       "75%    3276.990199\n",
       "max    4287.519387"
      ]
     },
     "execution_count": 44,
     "metadata": {},
     "output_type": "execute_result"
    }
   ],
   "source": [
    "free_d_avg.describe() #информация по данным о пользователях без подписки"
   ]
  },
  {
   "cell_type": "markdown",
   "id": "d6ef6282",
   "metadata": {},
   "source": [
    "Среднее расстояние одной поездки у пользователей с подпиской - от 2,9 до 3,3 км.\n",
    "Среднее расстояние одной поездки у пользователей без подписки - от 2,8 до 3,2 км.\n",
    "Значения среднего расстояния одной поездки у пользователей с разным типом подписки примерно одинаковое."
   ]
  },
  {
   "cell_type": "markdown",
   "id": "4fa6dc8b",
   "metadata": {},
   "source": [
    "Теперь посмотрим на среднюю длительность одной поездки по пользователям с разным типом подписки."
   ]
  },
  {
   "cell_type": "code",
   "execution_count": 45,
   "id": "a6e0cd93",
   "metadata": {},
   "outputs": [
    {
     "data": {
      "image/png": "[encoded data removed]",
      "text/plain": [
       "<Figure size 720x432 with 1 Axes>"
      ]
     },
     "metadata": {
      "needs_background": "light"
     },
     "output_type": "display_data"
    },
    {
     "data": {
      "image/png": "[encoded data removed]",
      "text/plain": [
       "<Figure size 720x432 with 1 Axes>"
      ]
     },
     "metadata": {
      "needs_background": "light"
     },
     "output_type": "display_data"
    }
   ],
   "source": [
    "ultra_dur_avg = data_ultra.pivot_table(index='user_id', values='duration')\n",
    "free_dur_avg = data_free.pivot_table(index='user_id', values='duration')\n",
    "\n",
    "ultra_dur_avg.plot(kind='hist', bins=30, figsize=(10,6), color='g', alpha=0.7)\n",
    "plt.axvline(ultra_dur_avg['duration'].median(), color='r', linestyle='-', linewidth=2)\n",
    "plt.title('Распределение средней длительности поездки пользователей с подпиской', size=15)\n",
    "plt.xlabel('Средняя длительность, с', size=13)\n",
    "plt.ylabel('Количество наблюдений', size=13)\n",
    "plt.show()\n",
    "\n",
    "free_dur_avg.plot(kind='hist', bins=30, figsize=(10,6))\n",
    "plt.axvline(free_dur_avg['duration'].median(), color='r', linestyle='-', linewidth=2)\n",
    "plt.title('Распределение средней длительности поездки пользователей без подписки', size=15)\n",
    "plt.xlabel('Средняя длительность, с', size=13)\n",
    "plt.ylabel('Количество наблюдений', size=13)\n",
    "plt.show()"
   ]
  },
  {
   "cell_type": "code",
   "execution_count": 46,
   "id": "8d42302c",
   "metadata": {},
   "outputs": [
    {
     "data": {
      "text/html": [
       "<div>\n",
       "<style scoped>\n",
       "    .dataframe tbody tr th:only-of-type {\n",
       "        vertical-align: middle;\n",
       "    }\n",
       "\n",
       "    .dataframe tbody tr th {\n",
       "        vertical-align: top;\n",
       "    }\n",
       "\n",
       "    .dataframe thead th {\n",
       "        text-align: right;\n",
       "    }\n",
       "</style>\n",
       "<table border=\"1\" class=\"dataframe\">\n",
       "  <thead>\n",
       "    <tr style=\"text-align: right;\">\n",
       "      <th></th>\n",
       "      <th>duration</th>\n",
       "    </tr>\n",
       "  </thead>\n",
       "  <tbody>\n",
       "    <tr>\n",
       "      <th>count</th>\n",
       "      <td>699.000000</td>\n",
       "    </tr>\n",
       "    <tr>\n",
       "      <th>mean</th>\n",
       "      <td>18.574380</td>\n",
       "    </tr>\n",
       "    <tr>\n",
       "      <th>std</th>\n",
       "      <td>2.015094</td>\n",
       "    </tr>\n",
       "    <tr>\n",
       "      <th>min</th>\n",
       "      <td>11.385922</td>\n",
       "    </tr>\n",
       "    <tr>\n",
       "      <th>25%</th>\n",
       "      <td>17.278630</td>\n",
       "    </tr>\n",
       "    <tr>\n",
       "      <th>50%</th>\n",
       "      <td>18.585189</td>\n",
       "    </tr>\n",
       "    <tr>\n",
       "      <th>75%</th>\n",
       "      <td>19.789236</td>\n",
       "    </tr>\n",
       "    <tr>\n",
       "      <th>max</th>\n",
       "      <td>26.136000</td>\n",
       "    </tr>\n",
       "  </tbody>\n",
       "</table>\n",
       "</div>"
      ],
      "text/plain": [
       "         duration\n",
       "count  699.000000\n",
       "mean    18.574380\n",
       "std      2.015094\n",
       "min     11.385922\n",
       "25%     17.278630\n",
       "50%     18.585189\n",
       "75%     19.789236\n",
       "max     26.136000"
      ]
     },
     "execution_count": 46,
     "metadata": {},
     "output_type": "execute_result"
    }
   ],
   "source": [
    "ultra_dur_avg.describe() "
   ]
  },
  {
   "cell_type": "code",
   "execution_count": 47,
   "id": "38cd2195",
   "metadata": {},
   "outputs": [
    {
     "data": {
      "text/html": [
       "<div>\n",
       "<style scoped>\n",
       "    .dataframe tbody tr th:only-of-type {\n",
       "        vertical-align: middle;\n",
       "    }\n",
       "\n",
       "    .dataframe tbody tr th {\n",
       "        vertical-align: top;\n",
       "    }\n",
       "\n",
       "    .dataframe thead th {\n",
       "        text-align: right;\n",
       "    }\n",
       "</style>\n",
       "<table border=\"1\" class=\"dataframe\">\n",
       "  <thead>\n",
       "    <tr style=\"text-align: right;\">\n",
       "      <th></th>\n",
       "      <th>duration</th>\n",
       "    </tr>\n",
       "  </thead>\n",
       "  <tbody>\n",
       "    <tr>\n",
       "      <th>count</th>\n",
       "      <td>835.000000</td>\n",
       "    </tr>\n",
       "    <tr>\n",
       "      <th>mean</th>\n",
       "      <td>17.384033</td>\n",
       "    </tr>\n",
       "    <tr>\n",
       "      <th>std</th>\n",
       "      <td>1.759845</td>\n",
       "    </tr>\n",
       "    <tr>\n",
       "      <th>min</th>\n",
       "      <td>11.163431</td>\n",
       "    </tr>\n",
       "    <tr>\n",
       "      <th>25%</th>\n",
       "      <td>16.209124</td>\n",
       "    </tr>\n",
       "    <tr>\n",
       "      <th>50%</th>\n",
       "      <td>17.402644</td>\n",
       "    </tr>\n",
       "    <tr>\n",
       "      <th>75%</th>\n",
       "      <td>18.568622</td>\n",
       "    </tr>\n",
       "    <tr>\n",
       "      <th>max</th>\n",
       "      <td>23.069943</td>\n",
       "    </tr>\n",
       "  </tbody>\n",
       "</table>\n",
       "</div>"
      ],
      "text/plain": [
       "         duration\n",
       "count  835.000000\n",
       "mean    17.384033\n",
       "std      1.759845\n",
       "min     11.163431\n",
       "25%     16.209124\n",
       "50%     17.402644\n",
       "75%     18.568622\n",
       "max     23.069943"
      ]
     },
     "execution_count": 47,
     "metadata": {},
     "output_type": "execute_result"
    }
   ],
   "source": [
    "free_dur_avg.describe() "
   ]
  },
  {
   "cell_type": "markdown",
   "id": "cdec150a",
   "metadata": {},
   "source": [
    "Среднее время поездки пользователя с подпиской составляет от 17 до 20 минут. Среднее время поездки пользователя без подписки обычно варьируется от 16 до 19 минут. Разброс средней длительности у пользователей с подпиской чуть больше, чем у пользователей без подписки."
   ]
  },
  {
   "cell_type": "markdown",
   "id": "97fa5b1a",
   "metadata": {},
   "source": [
    "**Вывод:**\n",
    "- Был сформирован общий датасет из трех первоначальных датафреймов.\n",
    "- Были сформированы два датасета: с данными по пользователям с подпиской и с данными по пользователям без подписки.\n",
    "- Среднее расстояние одной поездки у пользователей с подпиской - от 2,9 до 3,3 км. Среднее расстояние одной поездки у пользователей без подписки - от 2,8 до 3,2 км. Значения среднего расстояния одной поездки у пользователей с разным типом подписки примерно одинаковое.\n",
    "- Среднее время поездки пользователя с подпиской составляет от 17 до 20 минут. Среднее время поездки пользователя без подписки обычно варьируется от 16 до 19 минут. Разброс средней длительности у пользователей с подпиской чуть больше, чем у пользователей без подписки."
   ]
  },
  {
   "cell_type": "markdown",
   "id": "402d620f",
   "metadata": {},
   "source": [
    "#### Шаг 5. Подсчёт выручки"
   ]
  },
  {
   "cell_type": "markdown",
   "id": "b0dec2f7",
   "metadata": {},
   "source": [
    "Из объединенного датафрейма в шаге 4, создадим таблицу с данными в разрезе суммарной длительности поездок, расстояния, количества поездок по каждому уникальному пользователи в каждый месяц (датафрейм tottal_agregated)."
   ]
  },
  {
   "cell_type": "code",
   "execution_count": 48,
   "id": "d5130229",
   "metadata": {},
   "outputs": [
    {
     "data": {
      "text/html": [
       "<div>\n",
       "<style scoped>\n",
       "    .dataframe tbody tr th:only-of-type {\n",
       "        vertical-align: middle;\n",
       "    }\n",
       "\n",
       "    .dataframe tbody tr th {\n",
       "        vertical-align: top;\n",
       "    }\n",
       "\n",
       "    .dataframe thead th {\n",
       "        text-align: right;\n",
       "    }\n",
       "</style>\n",
       "<table border=\"1\" class=\"dataframe\">\n",
       "  <thead>\n",
       "    <tr style=\"text-align: right;\">\n",
       "      <th></th>\n",
       "      <th>user_id</th>\n",
       "      <th>distance</th>\n",
       "      <th>duration</th>\n",
       "      <th>date</th>\n",
       "      <th>month</th>\n",
       "      <th>name</th>\n",
       "      <th>age</th>\n",
       "      <th>city</th>\n",
       "      <th>subscription_type</th>\n",
       "      <th>minute_price</th>\n",
       "      <th>start_ride_price</th>\n",
       "      <th>subscription_fee</th>\n",
       "    </tr>\n",
       "  </thead>\n",
       "  <tbody>\n",
       "    <tr>\n",
       "      <th>0</th>\n",
       "      <td>1</td>\n",
       "      <td>4409.919140</td>\n",
       "      <td>26</td>\n",
       "      <td>2021-01-01</td>\n",
       "      <td>1</td>\n",
       "      <td>Кира</td>\n",
       "      <td>22</td>\n",
       "      <td>Тюмень</td>\n",
       "      <td>ultra</td>\n",
       "      <td>6</td>\n",
       "      <td>0</td>\n",
       "      <td>199</td>\n",
       "    </tr>\n",
       "    <tr>\n",
       "      <th>1</th>\n",
       "      <td>1</td>\n",
       "      <td>2617.592153</td>\n",
       "      <td>16</td>\n",
       "      <td>2021-01-18</td>\n",
       "      <td>1</td>\n",
       "      <td>Кира</td>\n",
       "      <td>22</td>\n",
       "      <td>Тюмень</td>\n",
       "      <td>ultra</td>\n",
       "      <td>6</td>\n",
       "      <td>0</td>\n",
       "      <td>199</td>\n",
       "    </tr>\n",
       "    <tr>\n",
       "      <th>2</th>\n",
       "      <td>1</td>\n",
       "      <td>754.159807</td>\n",
       "      <td>7</td>\n",
       "      <td>2021-04-20</td>\n",
       "      <td>4</td>\n",
       "      <td>Кира</td>\n",
       "      <td>22</td>\n",
       "      <td>Тюмень</td>\n",
       "      <td>ultra</td>\n",
       "      <td>6</td>\n",
       "      <td>0</td>\n",
       "      <td>199</td>\n",
       "    </tr>\n",
       "    <tr>\n",
       "      <th>3</th>\n",
       "      <td>1</td>\n",
       "      <td>2694.783254</td>\n",
       "      <td>19</td>\n",
       "      <td>2021-08-11</td>\n",
       "      <td>8</td>\n",
       "      <td>Кира</td>\n",
       "      <td>22</td>\n",
       "      <td>Тюмень</td>\n",
       "      <td>ultra</td>\n",
       "      <td>6</td>\n",
       "      <td>0</td>\n",
       "      <td>199</td>\n",
       "    </tr>\n",
       "    <tr>\n",
       "      <th>4</th>\n",
       "      <td>1</td>\n",
       "      <td>4028.687306</td>\n",
       "      <td>27</td>\n",
       "      <td>2021-08-28</td>\n",
       "      <td>8</td>\n",
       "      <td>Кира</td>\n",
       "      <td>22</td>\n",
       "      <td>Тюмень</td>\n",
       "      <td>ultra</td>\n",
       "      <td>6</td>\n",
       "      <td>0</td>\n",
       "      <td>199</td>\n",
       "    </tr>\n",
       "  </tbody>\n",
       "</table>\n",
       "</div>"
      ],
      "text/plain": [
       "   user_id     distance  duration       date  month  name  age    city  \\\n",
       "0        1  4409.919140        26 2021-01-01      1  Кира   22  Тюмень   \n",
       "1        1  2617.592153        16 2021-01-18      1  Кира   22  Тюмень   \n",
       "2        1   754.159807         7 2021-04-20      4  Кира   22  Тюмень   \n",
       "3        1  2694.783254        19 2021-08-11      8  Кира   22  Тюмень   \n",
       "4        1  4028.687306        27 2021-08-28      8  Кира   22  Тюмень   \n",
       "\n",
       "  subscription_type  minute_price  start_ride_price  subscription_fee  \n",
       "0             ultra             6                 0               199  \n",
       "1             ultra             6                 0               199  \n",
       "2             ultra             6                 0               199  \n",
       "3             ultra             6                 0               199  \n",
       "4             ultra             6                 0               199  "
      ]
     },
     "execution_count": 48,
     "metadata": {},
     "output_type": "execute_result"
    }
   ],
   "source": [
    "total_merged_go['duration'] = total_merged_go['duration'].apply(m.ceil)\n",
    "total_merged_go.head()"
   ]
  },
  {
   "cell_type": "code",
   "execution_count": 49,
   "id": "e0afd05a",
   "metadata": {},
   "outputs": [
    {
     "data": {
      "text/html": [
       "<div>\n",
       "<style scoped>\n",
       "    .dataframe tbody tr th:only-of-type {\n",
       "        vertical-align: middle;\n",
       "    }\n",
       "\n",
       "    .dataframe tbody tr th {\n",
       "        vertical-align: top;\n",
       "    }\n",
       "\n",
       "    .dataframe thead th {\n",
       "        text-align: right;\n",
       "    }\n",
       "</style>\n",
       "<table border=\"1\" class=\"dataframe\">\n",
       "  <thead>\n",
       "    <tr style=\"text-align: right;\">\n",
       "      <th></th>\n",
       "      <th></th>\n",
       "      <th>distance</th>\n",
       "      <th>duration</th>\n",
       "      <th>no_rides</th>\n",
       "      <th>delete</th>\n",
       "    </tr>\n",
       "    <tr>\n",
       "      <th>user_id</th>\n",
       "      <th>month</th>\n",
       "      <th></th>\n",
       "      <th></th>\n",
       "      <th></th>\n",
       "      <th></th>\n",
       "    </tr>\n",
       "  </thead>\n",
       "  <tbody>\n",
       "    <tr>\n",
       "      <th rowspan=\"5\" valign=\"top\">1</th>\n",
       "      <th>1</th>\n",
       "      <td>7027.51</td>\n",
       "      <td>42</td>\n",
       "      <td>2</td>\n",
       "      <td>2</td>\n",
       "    </tr>\n",
       "    <tr>\n",
       "      <th>4</th>\n",
       "      <td>754.16</td>\n",
       "      <td>7</td>\n",
       "      <td>1</td>\n",
       "      <td>1</td>\n",
       "    </tr>\n",
       "    <tr>\n",
       "      <th>8</th>\n",
       "      <td>6723.47</td>\n",
       "      <td>46</td>\n",
       "      <td>2</td>\n",
       "      <td>2</td>\n",
       "    </tr>\n",
       "    <tr>\n",
       "      <th>10</th>\n",
       "      <td>5809.91</td>\n",
       "      <td>32</td>\n",
       "      <td>2</td>\n",
       "      <td>2</td>\n",
       "    </tr>\n",
       "    <tr>\n",
       "      <th>11</th>\n",
       "      <td>7003.50</td>\n",
       "      <td>56</td>\n",
       "      <td>3</td>\n",
       "      <td>3</td>\n",
       "    </tr>\n",
       "    <tr>\n",
       "      <th>...</th>\n",
       "      <th>...</th>\n",
       "      <td>...</td>\n",
       "      <td>...</td>\n",
       "      <td>...</td>\n",
       "      <td>...</td>\n",
       "    </tr>\n",
       "    <tr>\n",
       "      <th rowspan=\"5\" valign=\"top\">1534</th>\n",
       "      <th>6</th>\n",
       "      <td>3409.47</td>\n",
       "      <td>26</td>\n",
       "      <td>2</td>\n",
       "      <td>2</td>\n",
       "    </tr>\n",
       "    <tr>\n",
       "      <th>8</th>\n",
       "      <td>7622.45</td>\n",
       "      <td>48</td>\n",
       "      <td>2</td>\n",
       "      <td>2</td>\n",
       "    </tr>\n",
       "    <tr>\n",
       "      <th>9</th>\n",
       "      <td>4928.17</td>\n",
       "      <td>23</td>\n",
       "      <td>1</td>\n",
       "      <td>1</td>\n",
       "    </tr>\n",
       "    <tr>\n",
       "      <th>11</th>\n",
       "      <td>13350.02</td>\n",
       "      <td>78</td>\n",
       "      <td>4</td>\n",
       "      <td>4</td>\n",
       "    </tr>\n",
       "    <tr>\n",
       "      <th>12</th>\n",
       "      <td>2371.71</td>\n",
       "      <td>16</td>\n",
       "      <td>1</td>\n",
       "      <td>1</td>\n",
       "    </tr>\n",
       "  </tbody>\n",
       "</table>\n",
       "<p>11331 rows × 4 columns</p>\n",
       "</div>"
      ],
      "text/plain": [
       "               distance  duration  no_rides  delete\n",
       "user_id month                                      \n",
       "1       1       7027.51        42         2       2\n",
       "        4        754.16         7         1       1\n",
       "        8       6723.47        46         2       2\n",
       "        10      5809.91        32         2       2\n",
       "        11      7003.50        56         3       3\n",
       "...                 ...       ...       ...     ...\n",
       "1534    6       3409.47        26         2       2\n",
       "        8       7622.45        48         2       2\n",
       "        9       4928.17        23         1       1\n",
       "        11     13350.02        78         4       4\n",
       "        12      2371.71        16         1       1\n",
       "\n",
       "[11331 rows x 4 columns]"
      ]
     },
     "execution_count": 49,
     "metadata": {},
     "output_type": "execute_result"
    }
   ],
   "source": [
    "total_merged_go['distance'] = round(total_merged_go['distance'], 2)\n",
    "total_agregated = total_merged_go.pivot_table(index=['user_id', 'month'], values=['distance', 'duration'], aggfunc=['sum','count'])\n",
    "total_agregated.columns = ['distance', 'duration', 'no_rides', 'delete']\n",
    "total_agregated"
   ]
  },
  {
   "cell_type": "code",
   "execution_count": 50,
   "id": "f54bb9f2",
   "metadata": {},
   "outputs": [
    {
     "data": {
      "text/html": [
       "<div>\n",
       "<style scoped>\n",
       "    .dataframe tbody tr th:only-of-type {\n",
       "        vertical-align: middle;\n",
       "    }\n",
       "\n",
       "    .dataframe tbody tr th {\n",
       "        vertical-align: top;\n",
       "    }\n",
       "\n",
       "    .dataframe thead th {\n",
       "        text-align: right;\n",
       "    }\n",
       "</style>\n",
       "<table border=\"1\" class=\"dataframe\">\n",
       "  <thead>\n",
       "    <tr style=\"text-align: right;\">\n",
       "      <th></th>\n",
       "      <th>user_id</th>\n",
       "      <th>month</th>\n",
       "      <th>distance</th>\n",
       "      <th>duration</th>\n",
       "      <th>no_rides</th>\n",
       "      <th>name</th>\n",
       "      <th>age</th>\n",
       "      <th>city</th>\n",
       "      <th>subscription_type</th>\n",
       "      <th>minute_price</th>\n",
       "      <th>start_ride_price</th>\n",
       "      <th>subscription_fee</th>\n",
       "    </tr>\n",
       "  </thead>\n",
       "  <tbody>\n",
       "    <tr>\n",
       "      <th>0</th>\n",
       "      <td>1</td>\n",
       "      <td>1</td>\n",
       "      <td>7027.51</td>\n",
       "      <td>42</td>\n",
       "      <td>2</td>\n",
       "      <td>Кира</td>\n",
       "      <td>22</td>\n",
       "      <td>Тюмень</td>\n",
       "      <td>ultra</td>\n",
       "      <td>6</td>\n",
       "      <td>0</td>\n",
       "      <td>199</td>\n",
       "    </tr>\n",
       "    <tr>\n",
       "      <th>1</th>\n",
       "      <td>1</td>\n",
       "      <td>4</td>\n",
       "      <td>754.16</td>\n",
       "      <td>7</td>\n",
       "      <td>1</td>\n",
       "      <td>Кира</td>\n",
       "      <td>22</td>\n",
       "      <td>Тюмень</td>\n",
       "      <td>ultra</td>\n",
       "      <td>6</td>\n",
       "      <td>0</td>\n",
       "      <td>199</td>\n",
       "    </tr>\n",
       "    <tr>\n",
       "      <th>2</th>\n",
       "      <td>1</td>\n",
       "      <td>8</td>\n",
       "      <td>6723.47</td>\n",
       "      <td>46</td>\n",
       "      <td>2</td>\n",
       "      <td>Кира</td>\n",
       "      <td>22</td>\n",
       "      <td>Тюмень</td>\n",
       "      <td>ultra</td>\n",
       "      <td>6</td>\n",
       "      <td>0</td>\n",
       "      <td>199</td>\n",
       "    </tr>\n",
       "    <tr>\n",
       "      <th>3</th>\n",
       "      <td>1</td>\n",
       "      <td>10</td>\n",
       "      <td>5809.91</td>\n",
       "      <td>32</td>\n",
       "      <td>2</td>\n",
       "      <td>Кира</td>\n",
       "      <td>22</td>\n",
       "      <td>Тюмень</td>\n",
       "      <td>ultra</td>\n",
       "      <td>6</td>\n",
       "      <td>0</td>\n",
       "      <td>199</td>\n",
       "    </tr>\n",
       "    <tr>\n",
       "      <th>4</th>\n",
       "      <td>1</td>\n",
       "      <td>11</td>\n",
       "      <td>7003.50</td>\n",
       "      <td>56</td>\n",
       "      <td>3</td>\n",
       "      <td>Кира</td>\n",
       "      <td>22</td>\n",
       "      <td>Тюмень</td>\n",
       "      <td>ultra</td>\n",
       "      <td>6</td>\n",
       "      <td>0</td>\n",
       "      <td>199</td>\n",
       "    </tr>\n",
       "    <tr>\n",
       "      <th>...</th>\n",
       "      <td>...</td>\n",
       "      <td>...</td>\n",
       "      <td>...</td>\n",
       "      <td>...</td>\n",
       "      <td>...</td>\n",
       "      <td>...</td>\n",
       "      <td>...</td>\n",
       "      <td>...</td>\n",
       "      <td>...</td>\n",
       "      <td>...</td>\n",
       "      <td>...</td>\n",
       "      <td>...</td>\n",
       "    </tr>\n",
       "    <tr>\n",
       "      <th>11326</th>\n",
       "      <td>1534</td>\n",
       "      <td>6</td>\n",
       "      <td>3409.47</td>\n",
       "      <td>26</td>\n",
       "      <td>2</td>\n",
       "      <td>Альберт</td>\n",
       "      <td>25</td>\n",
       "      <td>Краснодар</td>\n",
       "      <td>free</td>\n",
       "      <td>8</td>\n",
       "      <td>50</td>\n",
       "      <td>0</td>\n",
       "    </tr>\n",
       "    <tr>\n",
       "      <th>11327</th>\n",
       "      <td>1534</td>\n",
       "      <td>8</td>\n",
       "      <td>7622.45</td>\n",
       "      <td>48</td>\n",
       "      <td>2</td>\n",
       "      <td>Альберт</td>\n",
       "      <td>25</td>\n",
       "      <td>Краснодар</td>\n",
       "      <td>free</td>\n",
       "      <td>8</td>\n",
       "      <td>50</td>\n",
       "      <td>0</td>\n",
       "    </tr>\n",
       "    <tr>\n",
       "      <th>11328</th>\n",
       "      <td>1534</td>\n",
       "      <td>9</td>\n",
       "      <td>4928.17</td>\n",
       "      <td>23</td>\n",
       "      <td>1</td>\n",
       "      <td>Альберт</td>\n",
       "      <td>25</td>\n",
       "      <td>Краснодар</td>\n",
       "      <td>free</td>\n",
       "      <td>8</td>\n",
       "      <td>50</td>\n",
       "      <td>0</td>\n",
       "    </tr>\n",
       "    <tr>\n",
       "      <th>11329</th>\n",
       "      <td>1534</td>\n",
       "      <td>11</td>\n",
       "      <td>13350.02</td>\n",
       "      <td>78</td>\n",
       "      <td>4</td>\n",
       "      <td>Альберт</td>\n",
       "      <td>25</td>\n",
       "      <td>Краснодар</td>\n",
       "      <td>free</td>\n",
       "      <td>8</td>\n",
       "      <td>50</td>\n",
       "      <td>0</td>\n",
       "    </tr>\n",
       "    <tr>\n",
       "      <th>11330</th>\n",
       "      <td>1534</td>\n",
       "      <td>12</td>\n",
       "      <td>2371.71</td>\n",
       "      <td>16</td>\n",
       "      <td>1</td>\n",
       "      <td>Альберт</td>\n",
       "      <td>25</td>\n",
       "      <td>Краснодар</td>\n",
       "      <td>free</td>\n",
       "      <td>8</td>\n",
       "      <td>50</td>\n",
       "      <td>0</td>\n",
       "    </tr>\n",
       "  </tbody>\n",
       "</table>\n",
       "<p>11331 rows × 12 columns</p>\n",
       "</div>"
      ],
      "text/plain": [
       "       user_id  month  distance  duration  no_rides     name  age       city  \\\n",
       "0            1      1   7027.51        42         2     Кира   22     Тюмень   \n",
       "1            1      4    754.16         7         1     Кира   22     Тюмень   \n",
       "2            1      8   6723.47        46         2     Кира   22     Тюмень   \n",
       "3            1     10   5809.91        32         2     Кира   22     Тюмень   \n",
       "4            1     11   7003.50        56         3     Кира   22     Тюмень   \n",
       "...        ...    ...       ...       ...       ...      ...  ...        ...   \n",
       "11326     1534      6   3409.47        26         2  Альберт   25  Краснодар   \n",
       "11327     1534      8   7622.45        48         2  Альберт   25  Краснодар   \n",
       "11328     1534      9   4928.17        23         1  Альберт   25  Краснодар   \n",
       "11329     1534     11  13350.02        78         4  Альберт   25  Краснодар   \n",
       "11330     1534     12   2371.71        16         1  Альберт   25  Краснодар   \n",
       "\n",
       "      subscription_type  minute_price  start_ride_price  subscription_fee  \n",
       "0                 ultra             6                 0               199  \n",
       "1                 ultra             6                 0               199  \n",
       "2                 ultra             6                 0               199  \n",
       "3                 ultra             6                 0               199  \n",
       "4                 ultra             6                 0               199  \n",
       "...                 ...           ...               ...               ...  \n",
       "11326              free             8                50                 0  \n",
       "11327              free             8                50                 0  \n",
       "11328              free             8                50                 0  \n",
       "11329              free             8                50                 0  \n",
       "11330              free             8                50                 0  \n",
       "\n",
       "[11331 rows x 12 columns]"
      ]
     },
     "execution_count": 50,
     "metadata": {},
     "output_type": "execute_result"
    }
   ],
   "source": [
    "total_agregated = (total_agregated\n",
    "                   .drop(columns='delete')\n",
    "                   .reset_index()\n",
    "                   .merge(users_go, on='user_id')\n",
    "                   .merge(subscriptions_go, on='subscription_type')\n",
    "                  )\n",
    "total_agregated"
   ]
  },
  {
   "cell_type": "code",
   "execution_count": 51,
   "id": "8ffca9a8",
   "metadata": {},
   "outputs": [
    {
     "name": "stdout",
     "output_type": "stream",
     "text": [
      "<class 'pandas.core.frame.DataFrame'>\n",
      "Int64Index: 11331 entries, 0 to 11330\n",
      "Data columns (total 12 columns):\n",
      " #   Column             Non-Null Count  Dtype  \n",
      "---  ------             --------------  -----  \n",
      " 0   user_id            11331 non-null  int64  \n",
      " 1   month              11331 non-null  int64  \n",
      " 2   distance           11331 non-null  float64\n",
      " 3   duration           11331 non-null  int64  \n",
      " 4   no_rides           11331 non-null  int64  \n",
      " 5   name               11331 non-null  object \n",
      " 6   age                11331 non-null  int64  \n",
      " 7   city               11331 non-null  object \n",
      " 8   subscription_type  11331 non-null  object \n",
      " 9   minute_price       11331 non-null  int64  \n",
      " 10  start_ride_price   11331 non-null  int64  \n",
      " 11  subscription_fee   11331 non-null  int64  \n",
      "dtypes: float64(1), int64(8), object(3)\n",
      "memory usage: 1.1+ MB\n"
     ]
    }
   ],
   "source": [
    "total_agregated.info()"
   ]
  },
  {
   "cell_type": "markdown",
   "id": "9b9c062c",
   "metadata": {},
   "source": [
    "пропусков нет."
   ]
  },
  {
   "cell_type": "code",
   "execution_count": 52,
   "id": "6489d14e",
   "metadata": {},
   "outputs": [
    {
     "data": {
      "text/html": [
       "<div>\n",
       "<style scoped>\n",
       "    .dataframe tbody tr th:only-of-type {\n",
       "        vertical-align: middle;\n",
       "    }\n",
       "\n",
       "    .dataframe tbody tr th {\n",
       "        vertical-align: top;\n",
       "    }\n",
       "\n",
       "    .dataframe thead th {\n",
       "        text-align: right;\n",
       "    }\n",
       "</style>\n",
       "<table border=\"1\" class=\"dataframe\">\n",
       "  <thead>\n",
       "    <tr style=\"text-align: right;\">\n",
       "      <th></th>\n",
       "      <th>user_id</th>\n",
       "      <th>month</th>\n",
       "      <th>distance</th>\n",
       "      <th>duration</th>\n",
       "      <th>no_rides</th>\n",
       "      <th>name</th>\n",
       "      <th>age</th>\n",
       "      <th>city</th>\n",
       "      <th>subscription_type</th>\n",
       "      <th>minute_price</th>\n",
       "      <th>start_ride_price</th>\n",
       "      <th>subscription_fee</th>\n",
       "      <th>revenue</th>\n",
       "    </tr>\n",
       "  </thead>\n",
       "  <tbody>\n",
       "    <tr>\n",
       "      <th>0</th>\n",
       "      <td>1</td>\n",
       "      <td>1</td>\n",
       "      <td>7027.51</td>\n",
       "      <td>42</td>\n",
       "      <td>2</td>\n",
       "      <td>Кира</td>\n",
       "      <td>22</td>\n",
       "      <td>Тюмень</td>\n",
       "      <td>ultra</td>\n",
       "      <td>6</td>\n",
       "      <td>0</td>\n",
       "      <td>199</td>\n",
       "      <td>451</td>\n",
       "    </tr>\n",
       "    <tr>\n",
       "      <th>1</th>\n",
       "      <td>1</td>\n",
       "      <td>4</td>\n",
       "      <td>754.16</td>\n",
       "      <td>7</td>\n",
       "      <td>1</td>\n",
       "      <td>Кира</td>\n",
       "      <td>22</td>\n",
       "      <td>Тюмень</td>\n",
       "      <td>ultra</td>\n",
       "      <td>6</td>\n",
       "      <td>0</td>\n",
       "      <td>199</td>\n",
       "      <td>241</td>\n",
       "    </tr>\n",
       "    <tr>\n",
       "      <th>2</th>\n",
       "      <td>1</td>\n",
       "      <td>8</td>\n",
       "      <td>6723.47</td>\n",
       "      <td>46</td>\n",
       "      <td>2</td>\n",
       "      <td>Кира</td>\n",
       "      <td>22</td>\n",
       "      <td>Тюмень</td>\n",
       "      <td>ultra</td>\n",
       "      <td>6</td>\n",
       "      <td>0</td>\n",
       "      <td>199</td>\n",
       "      <td>475</td>\n",
       "    </tr>\n",
       "    <tr>\n",
       "      <th>3</th>\n",
       "      <td>1</td>\n",
       "      <td>10</td>\n",
       "      <td>5809.91</td>\n",
       "      <td>32</td>\n",
       "      <td>2</td>\n",
       "      <td>Кира</td>\n",
       "      <td>22</td>\n",
       "      <td>Тюмень</td>\n",
       "      <td>ultra</td>\n",
       "      <td>6</td>\n",
       "      <td>0</td>\n",
       "      <td>199</td>\n",
       "      <td>391</td>\n",
       "    </tr>\n",
       "    <tr>\n",
       "      <th>4</th>\n",
       "      <td>1</td>\n",
       "      <td>11</td>\n",
       "      <td>7003.50</td>\n",
       "      <td>56</td>\n",
       "      <td>3</td>\n",
       "      <td>Кира</td>\n",
       "      <td>22</td>\n",
       "      <td>Тюмень</td>\n",
       "      <td>ultra</td>\n",
       "      <td>6</td>\n",
       "      <td>0</td>\n",
       "      <td>199</td>\n",
       "      <td>535</td>\n",
       "    </tr>\n",
       "  </tbody>\n",
       "</table>\n",
       "</div>"
      ],
      "text/plain": [
       "   user_id  month  distance  duration  no_rides  name  age    city  \\\n",
       "0        1      1   7027.51        42         2  Кира   22  Тюмень   \n",
       "1        1      4    754.16         7         1  Кира   22  Тюмень   \n",
       "2        1      8   6723.47        46         2  Кира   22  Тюмень   \n",
       "3        1     10   5809.91        32         2  Кира   22  Тюмень   \n",
       "4        1     11   7003.50        56         3  Кира   22  Тюмень   \n",
       "\n",
       "  subscription_type  minute_price  start_ride_price  subscription_fee  revenue  \n",
       "0             ultra             6                 0               199      451  \n",
       "1             ultra             6                 0               199      241  \n",
       "2             ultra             6                 0               199      475  \n",
       "3             ultra             6                 0               199      391  \n",
       "4             ultra             6                 0               199      535  "
      ]
     },
     "execution_count": 52,
     "metadata": {},
     "output_type": "execute_result"
    }
   ],
   "source": [
    "total_agregated['revenue'] = total_agregated['duration']*total_agregated['minute_price'] +\\\n",
    "total_agregated['start_ride_price']*total_agregated['no_rides'] + total_agregated['subscription_fee']\n",
    "total_agregated.head()"
   ]
  },
  {
   "cell_type": "markdown",
   "id": "fba3c006",
   "metadata": {},
   "source": [
    "Мы получили датафрейм с данными о суммарных длительности и дальности поездок для каждого пользователя в разрезе месяцев. Также добавлено количество поездок по пользователям в разрезе месяцев. В столбце revenue указана выручка в разрезе месяцев по каждому пользователю."
   ]
  },
  {
   "cell_type": "code",
   "execution_count": 53,
   "id": "5c415ae6",
   "metadata": {},
   "outputs": [
    {
     "name": "stdout",
     "output_type": "stream",
     "text": [
      "Правильное значение суммы выручки 3878641, сумма выручки расчитанная в таблице: 3878641\n"
     ]
    }
   ],
   "source": [
    "# Комментарий ревьюера\n",
    "# Контроль суммы выручки\n",
    "tmp, col_rev = total_agregated.copy(), 'revenue'\n",
    "print(\"Правильное значение суммы выручки 3878641, сумма выручки расчитанная в таблице:\", tmp[col_rev].sum())"
   ]
  },
  {
   "cell_type": "code",
   "execution_count": 54,
   "id": "759c7939",
   "metadata": {},
   "outputs": [
    {
     "data": {
      "image/png": "[encoded data removed]",
      "text/plain": [
       "<Figure size 720x432 with 1 Axes>"
      ]
     },
     "metadata": {
      "needs_background": "light"
     },
     "output_type": "display_data"
    }
   ],
   "source": [
    "total_agregated.groupby('month')['revenue'].sum().plot(style='o-', x='month', y='revenue', figsize=(10, 6))\n",
    "plt.title('Распределение выручки по месяцам', size=15)\n",
    "plt.xlabel('Название месяца', size=13)\n",
    "plt.ylabel('Значение выручки', size=13)\n",
    "plt.xticks([1, 2, 3, 4, 5, 6, 7, 8, 9, 10, 11, 12], \\\n",
    "           ['Январь','Февраль','Март','Апрель','Май','Июнь','Июль','Август','Сентябрь','Октябрь','Ноябрь','Декабрь'])\n",
    "plt.show()"
   ]
  },
  {
   "cell_type": "markdown",
   "id": "3f075d5f",
   "metadata": {},
   "source": [
    "Наибольшая выручка наблюдается в январе и мае. Наименьшая выручка была получена в феврале."
   ]
  },
  {
   "cell_type": "code",
   "execution_count": 55,
   "id": "ffee5e1a",
   "metadata": {},
   "outputs": [
    {
     "data": {
      "image/png": "[encoded data removed]",
      "text/plain": [
       "<Figure size 720x432 with 1 Axes>"
      ]
     },
     "metadata": {
      "needs_background": "light"
     },
     "output_type": "display_data"
    }
   ],
   "source": [
    "total_agregated.groupby('city')['revenue'].sum().plot(style='o-', x='city', y='revenue', figsize=(10, 6))\n",
    "plt.title('Распределение выручки по городам', size=15)\n",
    "plt.xlabel('Название города', size=13)\n",
    "plt.ylabel('Значение выручки', size=13)\n",
    "plt.show()"
   ]
  },
  {
   "cell_type": "markdown",
   "id": "b716e31b",
   "metadata": {},
   "source": [
    "Наибольшая выручка была получена в Екатеринбурге и Пятигорске. Наименьшее значение выручки наблюдается в Москве."
   ]
  },
  {
   "cell_type": "code",
   "execution_count": 56,
   "id": "07f7fda2",
   "metadata": {},
   "outputs": [
    {
     "data": {
      "image/png": "[encoded data removed]",
      "text/plain": [
       "<Figure size 720x432 with 1 Axes>"
      ]
     },
     "metadata": {
      "needs_background": "light"
     },
     "output_type": "display_data"
    }
   ],
   "source": [
    "total_agregated.groupby('subscription_type')['revenue'].sum().plot(kind='bar', x='subscription_type',\\\n",
    "                                                                   y='revenue',figsize=(10, 6))\n",
    "plt.title('Распределение выручки по типу подписки', size=15)\n",
    "plt.xlabel('Тип подписки', size=13)\n",
    "plt.ylabel('Значение выручки', size=13)\n",
    "plt.show()"
   ]
  },
  {
   "cell_type": "markdown",
   "id": "e1e26f15",
   "metadata": {},
   "source": [
    "В имеющихся данных пользователи с подпиской сгенерировали практически такую же выручку, как пользователи без подписки."
   ]
  },
  {
   "cell_type": "markdown",
   "id": "bc2c6a96",
   "metadata": {},
   "source": [
    "**Вывод:**\n",
    "- Создан новый датафрейм с данными о суммарных длительности и дальности поездок для каждого пользователя в разрезе месяцев. Также добавлено количество поездок по пользователям в разрезе месяцев. В столбце revenue указана выручка в разрезе месяцев по каждому пользователю.\n",
    "- Детали о выручке: Наибольшая выручка наблюдается в январе и мае. Наименьшая выручка была получена в феврале; Наибольшая выручка была получена в Екатеринбурге и Пятигорске. Наименьшее значение выручки наблюдается в Москве; доля в выручке пользователей с подпиской и пользователей без подписки практически одинаковая. "
   ]
  },
  {
   "cell_type": "markdown",
   "id": "41545ac0",
   "metadata": {},
   "source": [
    "#### Шаг 6. Проверка гипотез"
   ]
  },
  {
   "cell_type": "markdown",
   "id": "e4eee165",
   "metadata": {},
   "source": [
    "**6.1 Тратят ли пользователи с подпиской больше времени на поездки?**"
   ]
  },
  {
   "cell_type": "markdown",
   "id": "57ef13dc",
   "metadata": {},
   "source": [
    "Рассмотрим гипотезы:\n",
    "\n",
    "Н0 - средняя продолжительность сессии пользователя с подпиской **равна** средней продолжительности сессии пользователя без пописки;\n",
    "\n",
    "Н1 - средняя продолжительность сессии пользователя с подпиской **больше** средней продолжительности сессии пользователя без пописки (альтернативная гипотеза, одностороняя);"
   ]
  },
  {
   "cell_type": "code",
   "execution_count": 57,
   "id": "0476a5af",
   "metadata": {},
   "outputs": [
    {
     "name": "stdout",
     "output_type": "stream",
     "text": [
      "Значение p-value: 1.2804098316645618e-34\n",
      "Гипотеза Н0 отвергается\n"
     ]
    }
   ],
   "source": [
    "alpha = 0.05 #уровень значимости примем за 5%\n",
    "\n",
    "#датафрейм rides_users_go объединяет данные датафреймов rides_go и users_go\n",
    "result_1 = st.ttest_ind(rides_users_go[rides_users_go['subscription_type']=='ultra']['duration'], \\\n",
    "            rides_users_go[rides_users_go['subscription_type']=='free']['duration'], alternative='greater')\n",
    "\n",
    "print('Значение p-value:', result_1.pvalue)\n",
    "if result_1.pvalue < alpha:\n",
    "    print('Гипотеза Н0 отвергается')\n",
    "else:\n",
    "    print('Гипотеза Н0 не отвергается')"
   ]
  },
  {
   "cell_type": "markdown",
   "id": "904260b4",
   "metadata": {},
   "source": [
    "Пользователи с подпиской имеют бОльшую среднюю длительность поездки, а значит могу быть \"выгоднее\" компании."
   ]
  },
  {
   "cell_type": "markdown",
   "id": "898edfd9",
   "metadata": {},
   "source": [
    "**6.2 Расстояние одной поездки в 3130 метров — оптимальное с точки зрения износа самоката. Можно ли сказать, что среднее расстояние, которое проезжают пользователи с подпиской за одну поездку, не превышает 3130 метров?**"
   ]
  },
  {
   "cell_type": "markdown",
   "id": "b3906fd0",
   "metadata": {},
   "source": [
    "Рассмотрим гипотезы:\n",
    "\n",
    "Н0 - среднее расстояние пользователя с подпиской **равно** 3130 метров;\n",
    "\n",
    "Н1 - среднее расстояние пользователя с подпиской **больше** 3130 метров (альтернативная гипотеза, односторонняя);"
   ]
  },
  {
   "cell_type": "code",
   "execution_count": 58,
   "id": "5159145e",
   "metadata": {},
   "outputs": [
    {
     "name": "stdout",
     "output_type": "stream",
     "text": [
      "Значение p-value: 0.9195368847849785\n",
      "Гипотеза Н0 не отвергается\n"
     ]
    }
   ],
   "source": [
    "alpha = 0.05 #уровень значимости примем за 5%\n",
    "\n",
    "result_2 = st.ttest_1samp(rides_users_go[rides_users_go['subscription_type']=='ultra']['distance'], 3130, alternative='greater')\n",
    "\n",
    "print('Значение p-value:', result_2.pvalue)\n",
    "if result_2.pvalue < alpha:\n",
    "    print('Гипотеза Н0 отвергается')\n",
    "else:\n",
    "    print('Гипотеза Н0 не отвергается')"
   ]
  },
  {
   "cell_type": "markdown",
   "id": "364da53f",
   "metadata": {},
   "source": [
    "При 5-процентном уровне значимости гипотеза о среднем расстоянии одной поездки пользователя с подпиской в 3130 метров не отвергается. Соответственно, можно говорить о том, что данное значение не превышает 3130 метров."
   ]
  },
  {
   "cell_type": "markdown",
   "id": "ccb8493c",
   "metadata": {},
   "source": [
    "**6.3 Проверка гипотезы о том, будет ли помесячная выручка от пользователей с подпиской по месяцам выше, чем выручка от пользователей без подписки.** "
   ]
  },
  {
   "cell_type": "markdown",
   "id": "f58aa167",
   "metadata": {},
   "source": [
    "Рассмотрим гипотезы:\n",
    "\n",
    "Н0 - помесячная выручка от пользователей с подпиской **равна** выручке от пользователей без подписки;\n",
    "\n",
    "Н1 - помесячная выручка от пользователей с подпиской **больше** выручки от пользователей без подписки (альтернативная гипотеза, односторонняя);"
   ]
  },
  {
   "cell_type": "code",
   "execution_count": 59,
   "id": "efd3504b",
   "metadata": {},
   "outputs": [
    {
     "name": "stdout",
     "output_type": "stream",
     "text": [
      "Значение p-value: 1.8850394384715216e-31\n",
      "Гипотеза Н0 отвергается\n"
     ]
    }
   ],
   "source": [
    "alpha = 0.05 #уровень значимости примем за 5%\n",
    "\n",
    "result_3 = st.ttest_ind(total_agregated[total_agregated['subscription_type']=='ultra']['revenue'], \\\n",
    "                        total_agregated[total_agregated['subscription_type']=='free']['revenue'], alternative='greater')\n",
    "\n",
    "print('Значение p-value:', result_3.pvalue)\n",
    "if result_3.pvalue < alpha:\n",
    "    print('Гипотеза Н0 отвергается')\n",
    "else:\n",
    "    print('Гипотеза Н0 не отвергается')"
   ]
  },
  {
   "cell_type": "markdown",
   "id": "ecf4e255",
   "metadata": {},
   "source": [
    "Гипотеза о том, что помесячная выручка от пользователей с подпиской будет выше, чем выручка от пользователей без подписки подтвердилась."
   ]
  },
  {
   "cell_type": "markdown",
   "id": "f3ccdd98",
   "metadata": {},
   "source": [
    "**6.4 Представьте такую ситуацию: техническая команда сервиса обновила сервера, с которыми взаимодействует мобильное приложение. Она надеется, что из-за этого количество обращений в техподдержку значимо снизилось. Некоторый файл содержит для каждого пользователя данные о количестве обращений до обновления и после него. Какой тест вам понадобился бы для проверки этой гипотезы?**"
   ]
  },
  {
   "cell_type": "markdown",
   "id": "322616bf",
   "metadata": {},
   "source": [
    "**Ответ:**\n",
    "В такой ситуации нужно использовать тест для проверки гипотезы о равенстве средних для зависимых (парных) выборок. Гипотезы в таком случае выглядят следующим образом:\n",
    "\n",
    "Н0: mu1 = mu2\n",
    "\n",
    "H1: mu1 > mu2 \n",
    "\n",
    "mu1 - среднее генеральной совокупности до обновления сервера, mu2 - среднее генеральной совокупности после обновления сервера."
   ]
  },
  {
   "cell_type": "code",
   "execution_count": 60,
   "id": "ad13cd85",
   "metadata": {},
   "outputs": [],
   "source": [
    "# код\n",
    "# st.ttest_rel()"
   ]
  },
  {
   "cell_type": "markdown",
   "id": "49c6005d",
   "metadata": {},
   "source": [
    "**Вывод:**\n",
    "- в среднем пользователи с подпиской тратят больше времени на поездки, чем пользователи без подписки.\n",
    "- гипотеза о том, что среднее расстояние, которое проезжают пользователи с подпиской за одну поездку, не превышает 3130 метров не подтвердилась.\n",
    "- Гипотеза о том, что помесячная выручка от пользователей с подпиской будет выше, чем выручка от пользователей без подписки подтвердилась."
   ]
  },
  {
   "cell_type": "markdown",
   "id": "61213c5e",
   "metadata": {},
   "source": [
    "#### Шаг 7. Распределения"
   ]
  },
  {
   "cell_type": "markdown",
   "id": "89c6a6d6",
   "metadata": {},
   "source": [
    "**7.1 Отделу маркетинга GoFast поставили задачу: нужно провести акцию с раздачей промокодов на один бесплатный месяц подписки, в рамках которой как минимум 100 существующих клиентов должны продлить эту подписку. То есть по завершении периода действия подписки пользователь может либо отказаться от неё, либо продлить, совершив соответствующий платёж.**\n",
    "\n",
    "\n",
    "**Эта акция уже проводилась ранее и по итогу выяснилось, что после бесплатного пробного периода подписку продлевают 10% пользователей. Выясните, какое минимальное количество промокодов нужно разослать, чтобы вероятность не выполнить план была примерно 5%. Подберите параметры распределения, описывающего эту ситуацию, постройте график распределения и сформулируйте ответ на вопрос о количестве промокодов.**"
   ]
  },
  {
   "cell_type": "markdown",
   "id": "a7ad66f4",
   "metadata": {},
   "source": [
    "Эксперимент - пользователь получает месяц бесплатной подписки.\n",
    "\n",
    "\n",
    "Исходы:\n",
    "\n",
    "1. После окончания бесплатного периода пользователь продлевает подписку.\n",
    "2. После окончания бесплатного периода пользователь не продлевает подписку.\n",
    "\n",
    "Такое распределение биноминальное."
   ]
  },
  {
   "cell_type": "markdown",
   "id": "3a3cbfe6",
   "metadata": {},
   "source": [
    "Попробуем оценить с помощью графиков, какая должна быть n - кол-во промокодов, чтобы вероятнее получить 100 успехов."
   ]
  },
  {
   "cell_type": "code",
   "execution_count": 61,
   "id": "4d54f4eb",
   "metadata": {},
   "outputs": [
    {
     "name": "stderr",
     "output_type": "stream",
     "text": [
      "/opt/conda/lib/python3.9/site-packages/scipy/stats/_discrete_distns.py:78: RuntimeWarning: divide by zero encountered in _binom_pdf\n",
      "  return _boost._binom_pdf(x, n, p)\n"
     ]
    },
    {
     "data": {
      "image/png": "[encoded data removed]",
      "text/plain": [
       "<Figure size 432x288 with 1 Axes>"
      ]
     },
     "metadata": {
      "needs_background": "light"
     },
     "output_type": "display_data"
    }
   ],
   "source": [
    "p = 0.1 # процент, продливших подписку после бесплатного периода\n",
    "n = 1000 # количество промокодов (предположение)\n",
    "\n",
    "distr = []\n",
    "\n",
    "for k in range(0, n + 1):\n",
    "    current_value = binom.pmf(k, n, p)\n",
    "    distr.append(current_value)\n",
    "    \n",
    "plt.bar(range(0, n + 1), distr)\n",
    "plt.xlabel('Количество успехов')\n",
    "plt.ylabel('Значение вероятности')\n",
    "plt.show()"
   ]
  },
  {
   "cell_type": "code",
   "execution_count": 62,
   "id": "c7b4c6d1",
   "metadata": {},
   "outputs": [
    {
     "data": {
      "image/png": "[encoded data removed]",
      "text/plain": [
       "<Figure size 432x288 with 1 Axes>"
      ]
     },
     "metadata": {
      "needs_background": "light"
     },
     "output_type": "display_data"
    }
   ],
   "source": [
    "n_1 = 1500\n",
    "\n",
    "distr_1 = []\n",
    "\n",
    "for k in range(0, n + 1):\n",
    "    current_value_1 = binom.pmf(k, n_1, p)\n",
    "    distr_1.append(current_value_1)\n",
    "    \n",
    "plt.bar(range(0, n + 1), distr_1)\n",
    "plt.xlabel('Количество успехов')\n",
    "plt.ylabel('Значение вероятности')\n",
    "plt.show()"
   ]
  },
  {
   "cell_type": "code",
   "execution_count": 63,
   "id": "636a1d40",
   "metadata": {},
   "outputs": [
    {
     "data": {
      "image/png": "[encoded data removed]",
      "text/plain": [
       "<Figure size 432x288 with 1 Axes>"
      ]
     },
     "metadata": {
      "needs_background": "light"
     },
     "output_type": "display_data"
    }
   ],
   "source": [
    "n_2 = 500\n",
    "\n",
    "distr_2 = []\n",
    "\n",
    "for k in range(0, n + 1):\n",
    "    current_value_2 = binom.pmf(k, n_2, p)\n",
    "    distr_2.append(current_value_2)\n",
    "    \n",
    "plt.bar(range(0, n + 1), distr_2)\n",
    "plt.xlabel('Количество успехов')\n",
    "plt.ylabel('Значение вероятности')\n",
    "plt.show()"
   ]
  },
  {
   "cell_type": "markdown",
   "id": "9d0d3242",
   "metadata": {},
   "source": [
    "Исходя из графиков выше видно, что при n = 1000 наиболее вероятно получить около 100 успехов.\n",
    "\n",
    "Проверим n = 1000 для выполнения плана (вероятность не выполнения плана 5%, следовательно, вероятность выполнения 100 - 5 = 95%)."
   ]
  },
  {
   "cell_type": "code",
   "execution_count": 64,
   "id": "3936e366",
   "metadata": {},
   "outputs": [
    {
     "name": "stdout",
     "output_type": "stream",
     "text": [
      "Вероятность не выполнить план при рассылке 1000 промокодов: 0.5266\n"
     ]
    }
   ],
   "source": [
    "k = 100 # минимальное количество успехов, необходимое для выполнения плана\n",
    "\n",
    "prob = binom.cdf(k, n, p)\n",
    "print('Вероятность не выполнить план при рассылке 1000 промокодов:', round(prob, 5))"
   ]
  },
  {
   "cell_type": "markdown",
   "id": "858a21ab",
   "metadata": {},
   "source": [
    "Вероятность не выполнить план 52% - слишком много. \n",
    "\n",
    "При построении графика n = 1500, количество наиболее вероятных успехов сместилось к 200. Поэтому попробуем взять n от 1000 до 1500 и посмотреть на вероятность не выполнения плана."
   ]
  },
  {
   "cell_type": "code",
   "execution_count": 65,
   "id": "ddc0833f",
   "metadata": {},
   "outputs": [
    {
     "name": "stdout",
     "output_type": "stream",
     "text": [
      "Вероятность не выполнить план при рассылке 1100 промокодов: 0.17009\n"
     ]
    }
   ],
   "source": [
    "prob = binom.cdf(k, 1100, p)\n",
    "print('Вероятность не выполнить план при рассылке 1100 промокодов:', round(prob, 5))"
   ]
  },
  {
   "cell_type": "code",
   "execution_count": 66,
   "id": "ea291786",
   "metadata": {},
   "outputs": [
    {
     "name": "stdout",
     "output_type": "stream",
     "text": [
      "Вероятность не выполнить план при рассылке 1150 промокодов: 0.07494\n"
     ]
    }
   ],
   "source": [
    "prob = binom.cdf(k, 1150, p)\n",
    "print('Вероятность не выполнить план при рассылке 1150 промокодов:', round(prob, 5))"
   ]
  },
  {
   "cell_type": "code",
   "execution_count": 67,
   "id": "69891ccd",
   "metadata": {},
   "outputs": [
    {
     "name": "stdout",
     "output_type": "stream",
     "text": [
      "Вероятность не выполнить план при рассылке 1160 промокодов: 0.06234\n"
     ]
    }
   ],
   "source": [
    "prob = binom.cdf(k, 1160, p)\n",
    "print('Вероятность не выполнить план при рассылке 1160 промокодов:', round(prob, 5))"
   ]
  },
  {
   "cell_type": "code",
   "execution_count": 68,
   "id": "9e10545a",
   "metadata": {},
   "outputs": [
    {
     "name": "stdout",
     "output_type": "stream",
     "text": [
      "Вероятность не выполнить план при рассылке 1170 промокодов: 0.05151\n"
     ]
    }
   ],
   "source": [
    "prob = binom.cdf(k, 1170, p)\n",
    "print('Вероятность не выполнить план при рассылке 1170 промокодов:', round(prob, 5))"
   ]
  },
  {
   "cell_type": "code",
   "execution_count": 69,
   "id": "55503216",
   "metadata": {},
   "outputs": [
    {
     "name": "stdout",
     "output_type": "stream",
     "text": [
      "Вероятность не выполнить план при рассылке 1171 промокодов: 0.05052\n"
     ]
    }
   ],
   "source": [
    "prob = binom.cdf(k, 1171, p)\n",
    "print('Вероятность не выполнить план при рассылке 1171 промокодов:', round(prob, 5))"
   ]
  },
  {
   "cell_type": "code",
   "execution_count": 70,
   "id": "2b2fbfb0",
   "metadata": {},
   "outputs": [
    {
     "name": "stdout",
     "output_type": "stream",
     "text": [
      "Вероятность не выполнить план при рассылке 1172 промокодов: 0.04955\n"
     ]
    }
   ],
   "source": [
    "prob = binom.cdf(k, 1172, p)\n",
    "print('Вероятность не выполнить план при рассылке 1172 промокодов:', round(prob, 5))"
   ]
  },
  {
   "cell_type": "markdown",
   "id": "f80ea0cd",
   "metadata": {},
   "source": [
    "**Вывод:**\n",
    "\n",
    "Методом подбора удалось подобрать такое значение n, при котором вероятность невыполнения плана равна примерно 5%.\n",
    "Необходимо отправить 1172 промокода, чтобы с вероятностью 95% получить 100 человек, которые продлят свою подписку после бесплатного периода."
   ]
  },
  {
   "cell_type": "markdown",
   "id": "0d069e03",
   "metadata": {},
   "source": [
    "**7.2 Отдел маркетинга рассылает клиентам push-уведомления в мобильном приложении. Клиенты могут открыть его или не открывать. Известно, что уведомления открывают около 40% получивших клиентов. Отдел планирует разослать 1 млн уведомлений. С помощью аппроксимации постройте примерный график распределения и оцените вероятность того, что уведомление откроют не более 399,5 тыс. пользователей.**"
   ]
  },
  {
   "cell_type": "markdown",
   "id": "521a3e91",
   "metadata": {},
   "source": [
    "Эксперимент - пользователь получает push-уведомление.\n",
    "\n",
    "\n",
    "Исходы:\n",
    "\n",
    "1. После получения пользователь открыл уведомление.\n",
    "2. После получения пользователь не открыл уведомление.\n",
    "\n",
    "Такое распределение биноминальное.\n",
    "Апроксимируем биноминальное распределение нормальным."
   ]
  },
  {
   "cell_type": "code",
   "execution_count": 71,
   "id": "cb34c9fa",
   "metadata": {},
   "outputs": [
    {
     "data": {
      "image/png": "[encoded data removed]",
      "text/plain": [
       "<Figure size 432x288 with 1 Axes>"
      ]
     },
     "metadata": {
      "needs_background": "light"
     },
     "output_type": "display_data"
    }
   ],
   "source": [
    "n = 1000000 # всего разосланных уведомлений \n",
    "p = 0.4 # вероятность открытия уведомления\n",
    "\n",
    "# для визуализации\n",
    "def linspace(start, stop, num):\n",
    "    step = (stop - start) / (num - 1)\n",
    "    result = []\n",
    "    for i in range(num):\n",
    "        result.append(start + step * i)\n",
    "    return result\n",
    "\n",
    "left = int(n * p - 4 * sqrt(n * p * (1 - p)))\n",
    "right = int(n * p + 4 * sqrt(n * p * (1 - p)))\n",
    "\n",
    "mu = n*p\n",
    "sigma = sqrt(n*p*(1-p))\n",
    "\n",
    "distr = st.norm(mu, sigma)\n",
    "\n",
    "x = linspace(left, right, 2000000)\n",
    "plt.plot(x, norm.pdf(x, mu, sigma), 'r-', lw=3, alpha=0.3)\n",
    "plt.axvline(399500, color='r', linestyle='-', linewidth=1)\n",
    "plt.show()"
   ]
  },
  {
   "cell_type": "code",
   "execution_count": 72,
   "id": "9e390635",
   "metadata": {},
   "outputs": [
    {
     "name": "stdout",
     "output_type": "stream",
     "text": [
      "Вероятность, что уведомление откроют не больше 399,5 тысяч пользователей: 0.1537\n"
     ]
    }
   ],
   "source": [
    "prob = distr.cdf(399500)\n",
    "print('Вероятность, что уведомление откроют не больше 399,5 тысяч пользователей:', round(prob, 4))"
   ]
  },
  {
   "cell_type": "markdown",
   "id": "e5516371",
   "metadata": {},
   "source": [
    "**Вывод:**\n",
    "С вероятностью 15,4% уведомление октроют не больше 399,5 тысяч пользователей"
   ]
  },
  {
   "attachments": {
    "image.png": {
     "image/png": "[encoded data removed]"
    }
   },
   "cell_type": "markdown",
   "id": "25fdbed8",
   "metadata": {},
   "source": [
    "![image.png](attachment:image.png)"
   ]
  },
  {
   "cell_type": "markdown",
   "id": "34e0e923",
   "metadata": {},
   "source": [
    "#### Итоги"
   ]
  },
  {
   "cell_type": "markdown",
   "id": "aa8cb418",
   "metadata": {},
   "source": [
    "*Предобработка данных:*\n",
    "- столбец date датафрейма users_go приведен к формату datetime.\n",
    "- в датафрейм users_go добавлен новый столбец с месяцем (month).\n",
    "- в users_go не было найдено пропущенных значений. При проверке в датафрейме было выявлено и сключено 31 полных дубликатов. Неявные дубликаты в данном датафрейме отсутствуют.\n",
    "- в rides_go не были найдены пропущенные значения, дубликаты.\n",
    "- в subscriptions_go не были найдены пропущенные значения, дубликаты."
   ]
  },
  {
   "cell_type": "markdown",
   "id": "491e0ce5",
   "metadata": {},
   "source": [
    "*Исследовательский анализ данных:*\n",
    "- В датафрейме с уникальными пользователями наиболее часто встрячается город Пятигорск. Меньше всего уникальных пользователей в Москве (соответственно, частота встречаемости Москвы наименьшая среди всех городов).\n",
    "- Доля пользователей с подпиской ultra составляет 45.57% от общего количества наблюдений.\n",
    "- Большинство пользователей (а именно 75%) находятся в возрасте от 22 до 28 лет. Наиболее частовстречающееся значение возраста пользователя (мода) - 25 лет.\n",
    "- В основном средняя дальность поездки составляет от 2,8 км до 3,3 км (от 1 до 3 квартиля). Также в данных видно некоторое количество выбросов снизу диаграммы \"ящика\".\n",
    "- Средняя длительность поездки в 75% случаев составляла от 16 до 18 минут."
   ]
  },
  {
   "cell_type": "markdown",
   "id": "44413193",
   "metadata": {},
   "source": [
    "*Объединение данных:*\n",
    "- Был сформирован общий датасет из трех первоначальных датафреймов.\n",
    "- Были сформированы два датасета: с данными по пользователям с подпиской и с данными по пользователям без подписки.\n",
    "- Среднее расстояние одной поездки у пользователей с подпиской - от 2,9 до 3,3 км. Среднее расстояние одной поездки у пользователей без подписки - от 2,8 до 3,2 км. Значения среднего расстояния одной поездки у пользователей с разным типом подписки примерно одинаковое.\n",
    "- Среднее время поездки пользователя с подпиской составляет от 17 до 20 минут. Среднее время поездки пользователя без подписки обычно варьируется от 16 до 19 минут. Разброс средней длительности у пользователей с подпиской чуть больше, чем у пользователей без подписки."
   ]
  },
  {
   "cell_type": "markdown",
   "id": "418a8e78",
   "metadata": {},
   "source": [
    "*Подсчет выручки:*\n",
    "- Создан новый датафрейм с данными о суммарных длительности и дальности поездок для каждого пользователя в разрезе месяцев. Также добавлено количество поездок по пользователям в разрезе месяцев. В столбце revenue указана выручка в разрезе месяцев по каждому пользователю.\n",
    "- Детали о выручке: Наибольшая выручка наблюдается в январе и мае. Наименьшая выручка была получена в феврале; Наибольшая выручка была получена в Екатеринбурге и Пятигорске. Наименьшее значение выручки наблюдается в Москве; доля в выручке пользователей с подпиской и пользователей без подписки практически одинаковая."
   ]
  },
  {
   "cell_type": "markdown",
   "id": "d40caf26",
   "metadata": {},
   "source": [
    "*Проверка гипотез:*\n",
    "- Первоначальная гипотеза подтвердилась. В среднем пользователи с подпиской тратят больше времени на поездки, чем пользователи без подписки.\n",
    "- Гипотеза о том, что среднее расстояние, которое проезжают пользователи с подпиской за одну поездку, не превышает 3130 метров не подтвердилась.\n",
    "- Гипотеза о том, что помесячная выручка от пользователей с подпиской будет выше, чем выручка от пользователей без подписки подтвердилась."
   ]
  }
 ],
 "metadata": {
  "ExecuteTimeLog": [
   {
    "duration": 1514,
    "start_time": "2025-02-12T08:06:03.349Z"
   },
   {
    "duration": 1519,
    "start_time": "2025-02-13T08:49:58.616Z"
   },
   {
    "duration": 56,
    "start_time": "2025-02-13T08:51:03.182Z"
   },
   {
    "duration": 25,
    "start_time": "2025-02-13T08:52:16.758Z"
   },
   {
    "duration": 30,
    "start_time": "2025-02-13T08:54:15.125Z"
   },
   {
    "duration": 26,
    "start_time": "2025-02-13T08:54:27.007Z"
   },
   {
    "duration": 13,
    "start_time": "2025-02-13T08:54:37.582Z"
   },
   {
    "duration": 138,
    "start_time": "2025-02-13T08:57:41.011Z"
   },
   {
    "duration": 17,
    "start_time": "2025-02-13T08:58:01.405Z"
   },
   {
    "duration": 28,
    "start_time": "2025-02-13T09:02:00.892Z"
   },
   {
    "duration": 36,
    "start_time": "2025-02-13T09:37:35.581Z"
   },
   {
    "duration": 37,
    "start_time": "2025-02-13T09:37:38.726Z"
   },
   {
    "duration": 28,
    "start_time": "2025-02-13T09:37:42.967Z"
   },
   {
    "duration": 16,
    "start_time": "2025-02-13T09:41:23.790Z"
   },
   {
    "duration": 7,
    "start_time": "2025-02-13T09:45:07.909Z"
   },
   {
    "duration": 17,
    "start_time": "2025-02-13T09:45:13.883Z"
   },
   {
    "duration": 113,
    "start_time": "2025-02-13T09:48:39.200Z"
   },
   {
    "duration": 6,
    "start_time": "2025-02-13T09:49:05.608Z"
   },
   {
    "duration": 6,
    "start_time": "2025-02-13T09:49:27.250Z"
   },
   {
    "duration": 9,
    "start_time": "2025-02-13T09:51:35.796Z"
   },
   {
    "duration": 8,
    "start_time": "2025-02-13T09:51:41.902Z"
   },
   {
    "duration": 6,
    "start_time": "2025-02-13T09:52:59.231Z"
   },
   {
    "duration": 22,
    "start_time": "2025-02-13T09:54:32.293Z"
   },
   {
    "duration": 11,
    "start_time": "2025-02-13T09:55:02.894Z"
   },
   {
    "duration": 11,
    "start_time": "2025-02-13T09:55:18.558Z"
   },
   {
    "duration": 16,
    "start_time": "2025-02-13T09:56:21.066Z"
   },
   {
    "duration": 9,
    "start_time": "2025-02-13T09:58:05.764Z"
   },
   {
    "duration": 6,
    "start_time": "2025-02-13T09:58:24.278Z"
   },
   {
    "duration": 6,
    "start_time": "2025-02-13T09:58:55.736Z"
   },
   {
    "duration": 8,
    "start_time": "2025-02-13T10:00:52.939Z"
   },
   {
    "duration": 119,
    "start_time": "2025-02-13T10:01:22.756Z"
   },
   {
    "duration": 9,
    "start_time": "2025-02-13T10:03:50.126Z"
   },
   {
    "duration": 11,
    "start_time": "2025-02-13T10:04:47.192Z"
   },
   {
    "duration": 17,
    "start_time": "2025-02-13T10:05:17.683Z"
   },
   {
    "duration": 8,
    "start_time": "2025-02-13T10:15:20.936Z"
   },
   {
    "duration": 1461,
    "start_time": "2025-02-13T17:09:27.806Z"
   },
   {
    "duration": 44,
    "start_time": "2025-02-13T17:09:30.912Z"
   },
   {
    "duration": 13,
    "start_time": "2025-02-13T17:09:33.645Z"
   },
   {
    "duration": 40,
    "start_time": "2025-02-13T17:09:36.297Z"
   },
   {
    "duration": 17,
    "start_time": "2025-02-13T17:09:37.623Z"
   },
   {
    "duration": 21,
    "start_time": "2025-02-13T17:09:39.138Z"
   },
   {
    "duration": 15,
    "start_time": "2025-02-13T17:09:42.091Z"
   },
   {
    "duration": 6,
    "start_time": "2025-02-13T17:09:44.010Z"
   },
   {
    "duration": 6,
    "start_time": "2025-02-13T17:09:44.565Z"
   },
   {
    "duration": 6,
    "start_time": "2025-02-13T17:09:45.919Z"
   },
   {
    "duration": 8,
    "start_time": "2025-02-13T17:09:46.625Z"
   },
   {
    "duration": 6,
    "start_time": "2025-02-13T17:09:47.313Z"
   },
   {
    "duration": 7,
    "start_time": "2025-02-13T17:09:51.612Z"
   },
   {
    "duration": 8,
    "start_time": "2025-02-13T17:09:52.835Z"
   },
   {
    "duration": 7,
    "start_time": "2025-02-13T17:09:54.803Z"
   },
   {
    "duration": 14,
    "start_time": "2025-02-13T17:23:08.015Z"
   },
   {
    "duration": 115,
    "start_time": "2025-02-13T17:24:48.274Z"
   },
   {
    "duration": 197,
    "start_time": "2025-02-13T17:27:07.485Z"
   },
   {
    "duration": 174,
    "start_time": "2025-02-13T17:27:27.871Z"
   },
   {
    "duration": 13,
    "start_time": "2025-02-13T17:27:48.282Z"
   },
   {
    "duration": 13,
    "start_time": "2025-02-13T17:27:54.632Z"
   },
   {
    "duration": 150,
    "start_time": "2025-02-13T17:28:11.934Z"
   },
   {
    "duration": 14,
    "start_time": "2025-02-13T17:28:39.003Z"
   },
   {
    "duration": 189,
    "start_time": "2025-02-13T17:31:20.925Z"
   },
   {
    "duration": 86,
    "start_time": "2025-02-13T17:31:55.979Z"
   },
   {
    "duration": 208,
    "start_time": "2025-02-13T17:32:13.686Z"
   },
   {
    "duration": 208,
    "start_time": "2025-02-13T17:34:08.615Z"
   },
   {
    "duration": 203,
    "start_time": "2025-02-13T17:37:34.755Z"
   },
   {
    "duration": 206,
    "start_time": "2025-02-13T17:37:39.173Z"
   },
   {
    "duration": 220,
    "start_time": "2025-02-13T17:37:46.725Z"
   },
   {
    "duration": 284,
    "start_time": "2025-02-13T17:37:59.796Z"
   },
   {
    "duration": 212,
    "start_time": "2025-02-13T17:41:23.456Z"
   },
   {
    "duration": 206,
    "start_time": "2025-02-13T17:42:56.500Z"
   },
   {
    "duration": 206,
    "start_time": "2025-02-13T17:43:02.260Z"
   },
   {
    "duration": 213,
    "start_time": "2025-02-13T17:43:10.423Z"
   },
   {
    "duration": 208,
    "start_time": "2025-02-13T17:43:30.779Z"
   },
   {
    "duration": 199,
    "start_time": "2025-02-13T17:50:19.671Z"
   },
   {
    "duration": 16,
    "start_time": "2025-02-13T17:56:44.879Z"
   },
   {
    "duration": 13,
    "start_time": "2025-02-13T17:56:53.628Z"
   },
   {
    "duration": 20262,
    "start_time": "2025-02-13T18:11:37.320Z"
   },
   {
    "duration": 258,
    "start_time": "2025-02-13T18:12:58.093Z"
   },
   {
    "duration": 283,
    "start_time": "2025-02-13T18:13:03.234Z"
   },
   {
    "duration": 7,
    "start_time": "2025-02-13T18:14:12.054Z"
   },
   {
    "duration": 7,
    "start_time": "2025-02-13T18:14:28.462Z"
   },
   {
    "duration": 8,
    "start_time": "2025-02-13T18:15:34.843Z"
   },
   {
    "duration": 19,
    "start_time": "2025-02-13T18:16:13.476Z"
   },
   {
    "duration": 19708,
    "start_time": "2025-02-13T18:16:33.527Z"
   },
   {
    "duration": 7,
    "start_time": "2025-02-13T18:17:22.330Z"
   },
   {
    "duration": 10,
    "start_time": "2025-02-13T18:17:35.264Z"
   },
   {
    "duration": 8,
    "start_time": "2025-02-13T18:18:27.976Z"
   },
   {
    "duration": 0,
    "start_time": "2025-02-13T18:19:40.602Z"
   },
   {
    "duration": 13,
    "start_time": "2025-02-13T18:20:05.429Z"
   },
   {
    "duration": 246,
    "start_time": "2025-02-13T18:21:49.656Z"
   },
   {
    "duration": 8,
    "start_time": "2025-02-13T18:25:58.477Z"
   },
   {
    "duration": 8,
    "start_time": "2025-02-13T18:26:15.257Z"
   },
   {
    "duration": 8,
    "start_time": "2025-02-13T18:33:36.118Z"
   },
   {
    "duration": 242,
    "start_time": "2025-02-13T18:33:50.308Z"
   },
   {
    "duration": 1600,
    "start_time": "2025-02-13T18:34:03.120Z"
   },
   {
    "duration": 1507,
    "start_time": "2025-02-13T18:35:09.054Z"
   },
   {
    "duration": 1046,
    "start_time": "2025-02-13T18:35:38.715Z"
   },
   {
    "duration": 926,
    "start_time": "2025-02-13T18:35:42.445Z"
   },
   {
    "duration": 5,
    "start_time": "2025-02-13T18:36:09.703Z"
   },
   {
    "duration": 989,
    "start_time": "2025-02-13T18:36:29.688Z"
   },
   {
    "duration": 1029,
    "start_time": "2025-02-13T18:36:52.247Z"
   },
   {
    "duration": 7,
    "start_time": "2025-02-13T18:36:59.025Z"
   },
   {
    "duration": 952,
    "start_time": "2025-02-13T18:37:04.987Z"
   },
   {
    "duration": 7,
    "start_time": "2025-02-13T18:37:33.570Z"
   },
   {
    "duration": 7,
    "start_time": "2025-02-13T18:37:57.666Z"
   },
   {
    "duration": 1152,
    "start_time": "2025-02-13T18:38:28.250Z"
   },
   {
    "duration": 8,
    "start_time": "2025-02-13T18:38:51.118Z"
   },
   {
    "duration": 7,
    "start_time": "2025-02-13T18:39:10.596Z"
   },
   {
    "duration": 7,
    "start_time": "2025-02-13T18:39:19.712Z"
   },
   {
    "duration": 7,
    "start_time": "2025-02-13T18:39:50.030Z"
   },
   {
    "duration": 1115,
    "start_time": "2025-02-13T18:40:03.242Z"
   },
   {
    "duration": 1430,
    "start_time": "2025-02-13T18:40:36.174Z"
   },
   {
    "duration": 1490,
    "start_time": "2025-02-13T18:40:42.680Z"
   },
   {
    "duration": 277,
    "start_time": "2025-02-13T18:41:13.653Z"
   },
   {
    "duration": 1029,
    "start_time": "2025-02-13T18:42:34.363Z"
   },
   {
    "duration": 6,
    "start_time": "2025-02-13T18:43:34.566Z"
   },
   {
    "duration": 7,
    "start_time": "2025-02-13T18:44:37.867Z"
   },
   {
    "duration": 6,
    "start_time": "2025-02-13T18:44:48.902Z"
   },
   {
    "duration": 5,
    "start_time": "2025-02-13T18:45:42.559Z"
   },
   {
    "duration": 1076,
    "start_time": "2025-02-13T18:47:14.965Z"
   },
   {
    "duration": 6,
    "start_time": "2025-02-13T18:47:28.463Z"
   },
   {
    "duration": 6,
    "start_time": "2025-02-13T18:47:52.468Z"
   },
   {
    "duration": 47,
    "start_time": "2025-02-13T18:50:19.391Z"
   },
   {
    "duration": 2447,
    "start_time": "2025-02-13T18:56:41.902Z"
   },
   {
    "duration": 10,
    "start_time": "2025-02-13T19:02:46.750Z"
   },
   {
    "duration": 9,
    "start_time": "2025-02-13T19:03:16.718Z"
   },
   {
    "duration": 2,
    "start_time": "2025-02-13T19:03:48.877Z"
   },
   {
    "duration": 3,
    "start_time": "2025-02-13T19:04:07.453Z"
   },
   {
    "duration": 35,
    "start_time": "2025-02-13T19:04:09.729Z"
   },
   {
    "duration": 34,
    "start_time": "2025-02-13T19:04:12.327Z"
   },
   {
    "duration": 21,
    "start_time": "2025-02-13T19:04:14.957Z"
   },
   {
    "duration": 16,
    "start_time": "2025-02-13T19:04:18.093Z"
   },
   {
    "duration": 6,
    "start_time": "2025-02-13T19:04:22.554Z"
   },
   {
    "duration": 7,
    "start_time": "2025-02-13T19:04:23.646Z"
   },
   {
    "duration": 7,
    "start_time": "2025-02-13T19:04:27.504Z"
   },
   {
    "duration": 8,
    "start_time": "2025-02-13T19:04:29.386Z"
   },
   {
    "duration": 6,
    "start_time": "2025-02-13T19:04:30.646Z"
   },
   {
    "duration": 8,
    "start_time": "2025-02-13T19:04:33.514Z"
   },
   {
    "duration": 8,
    "start_time": "2025-02-13T19:04:35.803Z"
   },
   {
    "duration": 8,
    "start_time": "2025-02-13T19:04:38.950Z"
   },
   {
    "duration": 200,
    "start_time": "2025-02-13T19:04:42.273Z"
   },
   {
    "duration": 17,
    "start_time": "2025-02-13T19:04:46.334Z"
   },
   {
    "duration": 4,
    "start_time": "2025-02-13T19:04:50.509Z"
   },
   {
    "duration": 33,
    "start_time": "2025-02-13T19:05:06.193Z"
   },
   {
    "duration": 13,
    "start_time": "2025-02-13T19:05:17.263Z"
   },
   {
    "duration": 11,
    "start_time": "2025-02-13T19:06:00.375Z"
   },
   {
    "duration": 25,
    "start_time": "2025-02-13T19:06:32.173Z"
   },
   {
    "duration": 34,
    "start_time": "2025-02-13T19:06:36.678Z"
   },
   {
    "duration": 17,
    "start_time": "2025-02-13T19:06:46.528Z"
   },
   {
    "duration": 6,
    "start_time": "2025-02-13T19:06:47.979Z"
   },
   {
    "duration": 7,
    "start_time": "2025-02-13T19:06:48.593Z"
   },
   {
    "duration": 8,
    "start_time": "2025-02-13T19:06:50.298Z"
   },
   {
    "duration": 8,
    "start_time": "2025-02-13T19:06:51.229Z"
   },
   {
    "duration": 6,
    "start_time": "2025-02-13T19:06:51.783Z"
   },
   {
    "duration": 7,
    "start_time": "2025-02-13T19:06:54.445Z"
   },
   {
    "duration": 7,
    "start_time": "2025-02-13T19:06:56.729Z"
   },
   {
    "duration": 8,
    "start_time": "2025-02-13T19:06:57.949Z"
   },
   {
    "duration": 199,
    "start_time": "2025-02-13T19:07:01.308Z"
   },
   {
    "duration": 4,
    "start_time": "2025-02-13T19:07:11.554Z"
   },
   {
    "duration": 14,
    "start_time": "2025-02-13T19:07:43.803Z"
   },
   {
    "duration": 24,
    "start_time": "2025-02-13T19:14:08.816Z"
   },
   {
    "duration": 12,
    "start_time": "2025-02-13T19:14:11.044Z"
   },
   {
    "duration": 32,
    "start_time": "2025-02-13T19:14:12.254Z"
   },
   {
    "duration": 13,
    "start_time": "2025-02-13T19:14:14.064Z"
   },
   {
    "duration": 21,
    "start_time": "2025-02-13T19:14:16.177Z"
   },
   {
    "duration": 16,
    "start_time": "2025-02-13T19:14:18.868Z"
   },
   {
    "duration": 5,
    "start_time": "2025-02-13T19:14:21.032Z"
   },
   {
    "duration": 6,
    "start_time": "2025-02-13T19:14:21.600Z"
   },
   {
    "duration": 5,
    "start_time": "2025-02-13T19:14:23.801Z"
   },
   {
    "duration": 7,
    "start_time": "2025-02-13T19:14:24.420Z"
   },
   {
    "duration": 6,
    "start_time": "2025-02-13T19:14:24.968Z"
   },
   {
    "duration": 6,
    "start_time": "2025-02-13T19:14:27.182Z"
   },
   {
    "duration": 8,
    "start_time": "2025-02-13T19:14:28.210Z"
   },
   {
    "duration": 9,
    "start_time": "2025-02-13T19:14:30.265Z"
   },
   {
    "duration": 198,
    "start_time": "2025-02-13T19:14:35.187Z"
   },
   {
    "duration": 4,
    "start_time": "2025-02-13T19:14:40.525Z"
   },
   {
    "duration": 4,
    "start_time": "2025-02-13T19:14:43.863Z"
   },
   {
    "duration": 15,
    "start_time": "2025-02-13T19:14:51.599Z"
   },
   {
    "duration": 24,
    "start_time": "2025-02-13T19:16:57.568Z"
   },
   {
    "duration": 197,
    "start_time": "2025-02-13T19:18:43.438Z"
   },
   {
    "duration": 24,
    "start_time": "2025-02-13T19:23:32.227Z"
   },
   {
    "duration": 12,
    "start_time": "2025-02-13T19:23:34.401Z"
   },
   {
    "duration": 33,
    "start_time": "2025-02-13T19:23:35.587Z"
   },
   {
    "duration": 12,
    "start_time": "2025-02-13T19:23:36.161Z"
   },
   {
    "duration": 20,
    "start_time": "2025-02-13T19:23:37.317Z"
   },
   {
    "duration": 15,
    "start_time": "2025-02-13T19:23:39.090Z"
   },
   {
    "duration": 5,
    "start_time": "2025-02-13T19:23:40.318Z"
   },
   {
    "duration": 7,
    "start_time": "2025-02-13T19:23:40.911Z"
   },
   {
    "duration": 6,
    "start_time": "2025-02-13T19:23:42.072Z"
   },
   {
    "duration": 8,
    "start_time": "2025-02-13T19:23:42.649Z"
   },
   {
    "duration": 6,
    "start_time": "2025-02-13T19:23:43.260Z"
   },
   {
    "duration": 8,
    "start_time": "2025-02-13T19:23:45.187Z"
   },
   {
    "duration": 8,
    "start_time": "2025-02-13T19:24:11.416Z"
   },
   {
    "duration": 7,
    "start_time": "2025-02-13T19:24:12.416Z"
   },
   {
    "duration": 199,
    "start_time": "2025-02-13T19:24:18.862Z"
   },
   {
    "duration": 9,
    "start_time": "2025-02-13T19:25:51.763Z"
   },
   {
    "duration": 19,
    "start_time": "2025-02-13T19:26:10.664Z"
   },
   {
    "duration": 24,
    "start_time": "2025-02-13T19:26:51.026Z"
   },
   {
    "duration": 201,
    "start_time": "2025-02-13T19:27:49.159Z"
   },
   {
    "duration": 12,
    "start_time": "2025-02-13T19:34:02.756Z"
   },
   {
    "duration": 1250,
    "start_time": "2025-02-13T19:35:20.128Z"
   },
   {
    "duration": 16,
    "start_time": "2025-02-13T19:36:01.337Z"
   },
   {
    "duration": 11,
    "start_time": "2025-02-13T19:36:35.650Z"
   },
   {
    "duration": 11,
    "start_time": "2025-02-13T19:37:49.545Z"
   },
   {
    "duration": 10,
    "start_time": "2025-02-13T19:38:21.724Z"
   },
   {
    "duration": 10,
    "start_time": "2025-02-13T19:39:04.468Z"
   },
   {
    "duration": 11,
    "start_time": "2025-02-13T19:39:49.130Z"
   },
   {
    "duration": 1765,
    "start_time": "2025-02-13T19:42:04.454Z"
   },
   {
    "duration": 166,
    "start_time": "2025-02-13T19:43:00.247Z"
   },
   {
    "duration": 200,
    "start_time": "2025-02-13T19:58:50.533Z"
   },
   {
    "duration": 216,
    "start_time": "2025-02-13T19:59:16.564Z"
   },
   {
    "duration": 191,
    "start_time": "2025-02-13T19:59:30.998Z"
   },
   {
    "duration": 201,
    "start_time": "2025-02-13T20:00:22.027Z"
   },
   {
    "duration": 204,
    "start_time": "2025-02-13T20:00:29.393Z"
   },
   {
    "duration": 349,
    "start_time": "2025-02-13T20:03:21.937Z"
   },
   {
    "duration": 5,
    "start_time": "2025-02-13T20:06:28.612Z"
   },
   {
    "duration": 224,
    "start_time": "2025-02-13T20:07:56.710Z"
   },
   {
    "duration": 219,
    "start_time": "2025-02-13T20:08:00.018Z"
   },
   {
    "duration": 301,
    "start_time": "2025-02-13T20:08:04.045Z"
   },
   {
    "duration": 178,
    "start_time": "2025-02-13T20:08:08.462Z"
   },
   {
    "duration": 195,
    "start_time": "2025-02-13T20:08:11.744Z"
   },
   {
    "duration": 681,
    "start_time": "2025-02-13T20:08:14.370Z"
   },
   {
    "duration": 10,
    "start_time": "2025-02-13T20:09:24.754Z"
   },
   {
    "duration": 115,
    "start_time": "2025-02-13T20:10:30.566Z"
   },
   {
    "duration": 10,
    "start_time": "2025-02-13T20:13:03.683Z"
   },
   {
    "duration": 13,
    "start_time": "2025-02-13T20:22:55.861Z"
   },
   {
    "duration": 219,
    "start_time": "2025-02-13T20:26:20.776Z"
   },
   {
    "duration": 231,
    "start_time": "2025-02-13T20:26:29.472Z"
   },
   {
    "duration": 351,
    "start_time": "2025-02-13T20:26:59.409Z"
   },
   {
    "duration": 246,
    "start_time": "2025-02-13T20:30:05.741Z"
   },
   {
    "duration": 227,
    "start_time": "2025-02-13T20:30:32.174Z"
   },
   {
    "duration": 342,
    "start_time": "2025-02-13T20:31:37.113Z"
   },
   {
    "duration": 408,
    "start_time": "2025-02-13T20:32:13.973Z"
   },
   {
    "duration": 365,
    "start_time": "2025-02-13T20:32:32.673Z"
   },
   {
    "duration": 475,
    "start_time": "2025-02-13T20:32:44.879Z"
   },
   {
    "duration": 7,
    "start_time": "2025-02-13T20:33:33.452Z"
   },
   {
    "duration": 6,
    "start_time": "2025-02-13T20:34:52.420Z"
   },
   {
    "duration": 334,
    "start_time": "2025-02-13T20:35:12.040Z"
   },
   {
    "duration": 354,
    "start_time": "2025-02-13T20:35:15.862Z"
   },
   {
    "duration": 396,
    "start_time": "2025-02-13T20:35:39.603Z"
   },
   {
    "duration": 336,
    "start_time": "2025-02-13T20:35:46.530Z"
   },
   {
    "duration": 349,
    "start_time": "2025-02-13T20:35:52.301Z"
   },
   {
    "duration": 121,
    "start_time": "2025-02-13T20:37:02.603Z"
   },
   {
    "duration": 345,
    "start_time": "2025-02-13T20:37:10.907Z"
   },
   {
    "duration": 9,
    "start_time": "2025-02-13T20:38:33.221Z"
   },
   {
    "duration": 6,
    "start_time": "2025-02-13T20:44:03.031Z"
   },
   {
    "duration": 458,
    "start_time": "2025-02-13T20:48:28.793Z"
   },
   {
    "duration": 342,
    "start_time": "2025-02-13T20:49:52.573Z"
   },
   {
    "duration": 112,
    "start_time": "2025-02-13T20:51:18.769Z"
   },
   {
    "duration": 10,
    "start_time": "2025-02-13T20:51:40.459Z"
   },
   {
    "duration": 8,
    "start_time": "2025-02-13T20:51:45.100Z"
   },
   {
    "duration": 19,
    "start_time": "2025-02-13T20:57:36.566Z"
   },
   {
    "duration": 9,
    "start_time": "2025-02-13T20:59:19.016Z"
   },
   {
    "duration": 10,
    "start_time": "2025-02-13T20:59:41.879Z"
   },
   {
    "duration": 21,
    "start_time": "2025-02-13T21:00:09.364Z"
   },
   {
    "duration": 9,
    "start_time": "2025-02-13T21:02:33.601Z"
   },
   {
    "duration": 25,
    "start_time": "2025-02-13T21:02:48.685Z"
   },
   {
    "duration": 23,
    "start_time": "2025-02-13T21:04:01.799Z"
   },
   {
    "duration": 21,
    "start_time": "2025-02-13T21:04:47.486Z"
   },
   {
    "duration": 23,
    "start_time": "2025-02-13T21:05:02.762Z"
   },
   {
    "duration": 11,
    "start_time": "2025-02-13T21:16:46.766Z"
   },
   {
    "duration": 446,
    "start_time": "2025-02-13T21:17:01.648Z"
   },
   {
    "duration": 575,
    "start_time": "2025-02-13T21:17:37.049Z"
   },
   {
    "duration": 580,
    "start_time": "2025-02-13T21:24:06.075Z"
   },
   {
    "duration": 846,
    "start_time": "2025-02-13T21:24:24.255Z"
   },
   {
    "duration": 1405,
    "start_time": "2025-02-14T06:09:36.773Z"
   },
   {
    "duration": 31,
    "start_time": "2025-02-14T06:09:38.487Z"
   },
   {
    "duration": 14,
    "start_time": "2025-02-14T06:09:56.700Z"
   },
   {
    "duration": 41,
    "start_time": "2025-02-14T06:09:58.200Z"
   },
   {
    "duration": 13,
    "start_time": "2025-02-14T06:09:59.166Z"
   },
   {
    "duration": 22,
    "start_time": "2025-02-14T06:10:00.330Z"
   },
   {
    "duration": 16,
    "start_time": "2025-02-14T06:10:02.122Z"
   },
   {
    "duration": 6,
    "start_time": "2025-02-14T06:10:03.358Z"
   },
   {
    "duration": 7,
    "start_time": "2025-02-14T06:10:03.800Z"
   },
   {
    "duration": 6,
    "start_time": "2025-02-14T06:10:04.823Z"
   },
   {
    "duration": 8,
    "start_time": "2025-02-14T06:10:05.304Z"
   },
   {
    "duration": 5,
    "start_time": "2025-02-14T06:10:05.809Z"
   },
   {
    "duration": 6,
    "start_time": "2025-02-14T06:10:06.792Z"
   },
   {
    "duration": 8,
    "start_time": "2025-02-14T06:10:07.721Z"
   },
   {
    "duration": 8,
    "start_time": "2025-02-14T06:10:08.559Z"
   },
   {
    "duration": 225,
    "start_time": "2025-02-14T06:10:13.716Z"
   },
   {
    "duration": 10,
    "start_time": "2025-02-14T06:10:16.884Z"
   },
   {
    "duration": 203,
    "start_time": "2025-02-14T06:10:33.842Z"
   },
   {
    "duration": 11,
    "start_time": "2025-02-14T06:10:39.887Z"
   },
   {
    "duration": 171,
    "start_time": "2025-02-14T06:10:41.447Z"
   },
   {
    "duration": 6,
    "start_time": "2025-02-14T06:10:44.676Z"
   },
   {
    "duration": 337,
    "start_time": "2025-02-14T06:10:47.190Z"
   },
   {
    "duration": 140,
    "start_time": "2025-02-14T06:10:50.163Z"
   },
   {
    "duration": 11,
    "start_time": "2025-02-14T06:10:59.912Z"
   },
   {
    "duration": 5,
    "start_time": "2025-02-14T06:11:02.664Z"
   },
   {
    "duration": 339,
    "start_time": "2025-02-14T06:11:06.398Z"
   },
   {
    "duration": 149,
    "start_time": "2025-02-14T06:11:08.880Z"
   },
   {
    "duration": 9,
    "start_time": "2025-02-14T06:11:10.801Z"
   },
   {
    "duration": 339,
    "start_time": "2025-02-14T06:22:48.193Z"
   },
   {
    "duration": 211,
    "start_time": "2025-02-14T06:22:50.788Z"
   },
   {
    "duration": 9,
    "start_time": "2025-02-14T06:22:54.472Z"
   },
   {
    "duration": 21,
    "start_time": "2025-02-14T06:23:10.235Z"
   },
   {
    "duration": 25,
    "start_time": "2025-02-14T06:23:15.077Z"
   },
   {
    "duration": 24,
    "start_time": "2025-02-14T06:23:18.192Z"
   },
   {
    "duration": 744,
    "start_time": "2025-02-14T06:30:08.868Z"
   },
   {
    "duration": 789,
    "start_time": "2025-02-14T06:30:29.021Z"
   },
   {
    "duration": 1215,
    "start_time": "2025-02-14T06:30:41.309Z"
   },
   {
    "duration": 748,
    "start_time": "2025-02-14T06:30:49.118Z"
   },
   {
    "duration": 18,
    "start_time": "2025-02-14T06:33:05.898Z"
   },
   {
    "duration": 20,
    "start_time": "2025-02-14T06:33:27.537Z"
   },
   {
    "duration": 18,
    "start_time": "2025-02-14T06:33:50.844Z"
   },
   {
    "duration": 17,
    "start_time": "2025-02-14T06:34:25.780Z"
   },
   {
    "duration": 12,
    "start_time": "2025-02-14T06:34:59.422Z"
   },
   {
    "duration": 12,
    "start_time": "2025-02-14T06:35:03.333Z"
   },
   {
    "duration": 1459,
    "start_time": "2025-02-14T06:48:57.323Z"
   },
   {
    "duration": 727,
    "start_time": "2025-02-14T06:50:15.441Z"
   },
   {
    "duration": 670,
    "start_time": "2025-02-14T06:50:47.851Z"
   },
   {
    "duration": 710,
    "start_time": "2025-02-14T06:51:22.106Z"
   },
   {
    "duration": 841,
    "start_time": "2025-02-14T06:52:16.861Z"
   },
   {
    "duration": 573,
    "start_time": "2025-02-14T06:52:37.001Z"
   },
   {
    "duration": 719,
    "start_time": "2025-02-14T06:52:48.480Z"
   },
   {
    "duration": 12,
    "start_time": "2025-02-14T06:54:47.455Z"
   },
   {
    "duration": 14,
    "start_time": "2025-02-14T06:54:49.842Z"
   },
   {
    "duration": 23,
    "start_time": "2025-02-14T07:55:52.918Z"
   },
   {
    "duration": 1436,
    "start_time": "2025-02-14T09:04:52.623Z"
   },
   {
    "duration": 41,
    "start_time": "2025-02-14T09:04:54.061Z"
   },
   {
    "duration": 13,
    "start_time": "2025-02-14T09:04:54.896Z"
   },
   {
    "duration": 43,
    "start_time": "2025-02-14T09:04:56.156Z"
   },
   {
    "duration": 12,
    "start_time": "2025-02-14T09:04:56.774Z"
   },
   {
    "duration": 20,
    "start_time": "2025-02-14T09:04:57.945Z"
   },
   {
    "duration": 16,
    "start_time": "2025-02-14T09:04:59.524Z"
   },
   {
    "duration": 6,
    "start_time": "2025-02-14T09:05:00.843Z"
   },
   {
    "duration": 6,
    "start_time": "2025-02-14T09:05:01.479Z"
   },
   {
    "duration": 7,
    "start_time": "2025-02-14T09:05:02.691Z"
   },
   {
    "duration": 10,
    "start_time": "2025-02-14T09:05:03.258Z"
   },
   {
    "duration": 7,
    "start_time": "2025-02-14T09:05:03.919Z"
   },
   {
    "duration": 7,
    "start_time": "2025-02-14T09:05:05.046Z"
   },
   {
    "duration": 9,
    "start_time": "2025-02-14T09:05:06.114Z"
   },
   {
    "duration": 7,
    "start_time": "2025-02-14T09:05:07.319Z"
   },
   {
    "duration": 248,
    "start_time": "2025-02-14T09:05:11.897Z"
   },
   {
    "duration": 10,
    "start_time": "2025-02-14T09:05:13.950Z"
   },
   {
    "duration": 211,
    "start_time": "2025-02-14T09:05:15.049Z"
   },
   {
    "duration": 12,
    "start_time": "2025-02-14T09:05:16.558Z"
   },
   {
    "duration": 167,
    "start_time": "2025-02-14T09:05:17.175Z"
   },
   {
    "duration": 6,
    "start_time": "2025-02-14T09:05:18.432Z"
   },
   {
    "duration": 348,
    "start_time": "2025-02-14T09:05:19.673Z"
   },
   {
    "duration": 115,
    "start_time": "2025-02-14T09:05:21.244Z"
   },
   {
    "duration": 9,
    "start_time": "2025-02-14T09:05:22.150Z"
   },
   {
    "duration": 6,
    "start_time": "2025-02-14T09:05:24.745Z"
   },
   {
    "duration": 365,
    "start_time": "2025-02-14T09:05:26.517Z"
   },
   {
    "duration": 116,
    "start_time": "2025-02-14T09:05:27.102Z"
   },
   {
    "duration": 9,
    "start_time": "2025-02-14T09:05:27.913Z"
   },
   {
    "duration": 352,
    "start_time": "2025-02-14T09:05:32.751Z"
   },
   {
    "duration": 210,
    "start_time": "2025-02-14T09:05:33.496Z"
   },
   {
    "duration": 12,
    "start_time": "2025-02-14T09:05:34.669Z"
   },
   {
    "duration": 22,
    "start_time": "2025-02-14T09:05:37.689Z"
   },
   {
    "duration": 27,
    "start_time": "2025-02-14T09:05:43.295Z"
   },
   {
    "duration": 25,
    "start_time": "2025-02-14T09:05:44.080Z"
   },
   {
    "duration": 771,
    "start_time": "2025-02-14T09:05:45.122Z"
   },
   {
    "duration": 14,
    "start_time": "2025-02-14T09:05:46.419Z"
   },
   {
    "duration": 15,
    "start_time": "2025-02-14T09:05:47.125Z"
   },
   {
    "duration": 687,
    "start_time": "2025-02-14T09:05:48.601Z"
   },
   {
    "duration": 14,
    "start_time": "2025-02-14T09:05:50.888Z"
   },
   {
    "duration": 14,
    "start_time": "2025-02-14T09:05:52.709Z"
   },
   {
    "duration": 21,
    "start_time": "2025-02-14T09:05:54.802Z"
   },
   {
    "duration": 108,
    "start_time": "2025-02-14T09:20:07.198Z"
   },
   {
    "duration": 14,
    "start_time": "2025-02-14T09:20:12.868Z"
   },
   {
    "duration": 34,
    "start_time": "2025-02-14T09:20:42.562Z"
   },
   {
    "duration": 27,
    "start_time": "2025-02-14T09:25:06.433Z"
   },
   {
    "duration": 17,
    "start_time": "2025-02-14T09:32:39.018Z"
   },
   {
    "duration": 28,
    "start_time": "2025-02-14T09:38:09.918Z"
   },
   {
    "duration": 23,
    "start_time": "2025-02-14T09:39:42.956Z"
   },
   {
    "duration": 15,
    "start_time": "2025-02-14T09:39:46.990Z"
   },
   {
    "duration": 829,
    "start_time": "2025-02-14T09:45:26.461Z"
   },
   {
    "duration": 4,
    "start_time": "2025-02-14T09:46:18.970Z"
   },
   {
    "duration": 16,
    "start_time": "2025-02-14T09:46:21.720Z"
   },
   {
    "duration": 67,
    "start_time": "2025-02-14T09:48:01.232Z"
   },
   {
    "duration": 15,
    "start_time": "2025-02-14T09:50:09.378Z"
   },
   {
    "duration": 17,
    "start_time": "2025-02-14T09:50:36.068Z"
   },
   {
    "duration": 24,
    "start_time": "2025-02-14T09:54:23.792Z"
   },
   {
    "duration": 13,
    "start_time": "2025-02-14T09:54:24.374Z"
   },
   {
    "duration": 34,
    "start_time": "2025-02-14T09:54:25.522Z"
   },
   {
    "duration": 15,
    "start_time": "2025-02-14T09:54:26.054Z"
   },
   {
    "duration": 22,
    "start_time": "2025-02-14T09:54:27.109Z"
   },
   {
    "duration": 16,
    "start_time": "2025-02-14T09:54:28.861Z"
   },
   {
    "duration": 5,
    "start_time": "2025-02-14T09:54:29.960Z"
   },
   {
    "duration": 6,
    "start_time": "2025-02-14T09:54:30.444Z"
   },
   {
    "duration": 8,
    "start_time": "2025-02-14T09:54:31.601Z"
   },
   {
    "duration": 7,
    "start_time": "2025-02-14T09:54:32.188Z"
   },
   {
    "duration": 5,
    "start_time": "2025-02-14T09:54:32.853Z"
   },
   {
    "duration": 7,
    "start_time": "2025-02-14T09:54:33.967Z"
   },
   {
    "duration": 8,
    "start_time": "2025-02-14T09:54:41.687Z"
   },
   {
    "duration": 7,
    "start_time": "2025-02-14T09:54:43.014Z"
   },
   {
    "duration": 204,
    "start_time": "2025-02-14T09:54:46.638Z"
   },
   {
    "duration": 10,
    "start_time": "2025-02-14T09:54:48.724Z"
   },
   {
    "duration": 202,
    "start_time": "2025-02-14T09:54:51.524Z"
   },
   {
    "duration": 11,
    "start_time": "2025-02-14T09:54:54.704Z"
   },
   {
    "duration": 165,
    "start_time": "2025-02-14T09:54:55.567Z"
   },
   {
    "duration": 6,
    "start_time": "2025-02-14T09:54:57.043Z"
   },
   {
    "duration": 336,
    "start_time": "2025-02-14T09:54:58.407Z"
   },
   {
    "duration": 116,
    "start_time": "2025-02-14T09:55:01.918Z"
   },
   {
    "duration": 8,
    "start_time": "2025-02-14T09:55:03.340Z"
   },
   {
    "duration": 6,
    "start_time": "2025-02-14T09:55:06.418Z"
   },
   {
    "duration": 355,
    "start_time": "2025-02-14T09:55:08.450Z"
   },
   {
    "duration": 217,
    "start_time": "2025-02-14T09:55:09.348Z"
   },
   {
    "duration": 10,
    "start_time": "2025-02-14T09:55:12.407Z"
   },
   {
    "duration": 357,
    "start_time": "2025-02-14T09:55:15.870Z"
   },
   {
    "duration": 124,
    "start_time": "2025-02-14T09:55:16.608Z"
   },
   {
    "duration": 8,
    "start_time": "2025-02-14T09:55:17.723Z"
   },
   {
    "duration": 20,
    "start_time": "2025-02-14T09:55:20.419Z"
   },
   {
    "duration": 25,
    "start_time": "2025-02-14T09:55:21.896Z"
   },
   {
    "duration": 24,
    "start_time": "2025-02-14T09:55:22.593Z"
   },
   {
    "duration": 689,
    "start_time": "2025-02-14T09:55:23.356Z"
   },
   {
    "duration": 12,
    "start_time": "2025-02-14T09:55:24.055Z"
   },
   {
    "duration": 12,
    "start_time": "2025-02-14T09:55:24.928Z"
   },
   {
    "duration": 683,
    "start_time": "2025-02-14T09:55:27.679Z"
   },
   {
    "duration": 14,
    "start_time": "2025-02-14T09:55:28.843Z"
   },
   {
    "duration": 13,
    "start_time": "2025-02-14T09:55:29.215Z"
   },
   {
    "duration": 21,
    "start_time": "2025-02-14T09:55:32.218Z"
   },
   {
    "duration": 23,
    "start_time": "2025-02-14T09:55:33.153Z"
   },
   {
    "duration": 32,
    "start_time": "2025-02-14T09:55:38.122Z"
   },
   {
    "duration": 10,
    "start_time": "2025-02-14T10:03:09.743Z"
   },
   {
    "duration": 4,
    "start_time": "2025-02-14T10:04:48.163Z"
   },
   {
    "duration": 10,
    "start_time": "2025-02-14T10:05:04.926Z"
   },
   {
    "duration": 3,
    "start_time": "2025-02-14T10:05:44.958Z"
   },
   {
    "duration": 12,
    "start_time": "2025-02-14T10:06:06.277Z"
   },
   {
    "duration": 27,
    "start_time": "2025-02-14T10:06:50.358Z"
   },
   {
    "duration": 1434,
    "start_time": "2025-02-14T11:24:13.923Z"
   },
   {
    "duration": 42,
    "start_time": "2025-02-14T11:24:15.359Z"
   },
   {
    "duration": 13,
    "start_time": "2025-02-14T11:24:15.403Z"
   },
   {
    "duration": 60,
    "start_time": "2025-02-14T11:24:15.419Z"
   },
   {
    "duration": 14,
    "start_time": "2025-02-14T11:24:15.481Z"
   },
   {
    "duration": 50,
    "start_time": "2025-02-14T11:24:15.496Z"
   },
   {
    "duration": 15,
    "start_time": "2025-02-14T11:24:15.548Z"
   },
   {
    "duration": 18,
    "start_time": "2025-02-14T11:24:15.565Z"
   },
   {
    "duration": 25,
    "start_time": "2025-02-14T11:24:15.584Z"
   },
   {
    "duration": 23,
    "start_time": "2025-02-14T11:24:15.611Z"
   },
   {
    "duration": 15,
    "start_time": "2025-02-14T11:24:15.635Z"
   },
   {
    "duration": 28,
    "start_time": "2025-02-14T11:24:15.652Z"
   },
   {
    "duration": 37,
    "start_time": "2025-02-14T11:24:15.682Z"
   },
   {
    "duration": 21,
    "start_time": "2025-02-14T11:24:15.721Z"
   },
   {
    "duration": 25,
    "start_time": "2025-02-14T11:24:15.743Z"
   },
   {
    "duration": 268,
    "start_time": "2025-02-14T11:24:15.770Z"
   },
   {
    "duration": 11,
    "start_time": "2025-02-14T11:24:16.040Z"
   },
   {
    "duration": 230,
    "start_time": "2025-02-14T11:24:16.053Z"
   },
   {
    "duration": 19,
    "start_time": "2025-02-14T11:24:16.285Z"
   },
   {
    "duration": 189,
    "start_time": "2025-02-14T11:24:16.306Z"
   },
   {
    "duration": 7,
    "start_time": "2025-02-14T11:24:16.497Z"
   },
   {
    "duration": 383,
    "start_time": "2025-02-14T11:24:16.505Z"
   },
   {
    "duration": 126,
    "start_time": "2025-02-14T11:24:16.890Z"
   },
   {
    "duration": 9,
    "start_time": "2025-02-14T11:24:17.019Z"
   },
   {
    "duration": 19,
    "start_time": "2025-02-14T11:24:17.030Z"
   },
   {
    "duration": 397,
    "start_time": "2025-02-14T11:24:17.051Z"
   },
   {
    "duration": 124,
    "start_time": "2025-02-14T11:24:17.449Z"
   },
   {
    "duration": 22,
    "start_time": "2025-02-14T11:24:17.578Z"
   },
   {
    "duration": 337,
    "start_time": "2025-02-14T11:24:17.602Z"
   },
   {
    "duration": 215,
    "start_time": "2025-02-14T11:24:17.941Z"
   },
   {
    "duration": 9,
    "start_time": "2025-02-14T11:24:18.158Z"
   },
   {
    "duration": 39,
    "start_time": "2025-02-14T11:24:18.168Z"
   },
   {
    "duration": 25,
    "start_time": "2025-02-14T11:24:18.209Z"
   },
   {
    "duration": 24,
    "start_time": "2025-02-14T11:24:18.236Z"
   },
   {
    "duration": 693,
    "start_time": "2025-02-14T11:24:18.262Z"
   },
   {
    "duration": 15,
    "start_time": "2025-02-14T11:24:18.957Z"
   },
   {
    "duration": 29,
    "start_time": "2025-02-14T11:24:18.974Z"
   },
   {
    "duration": 667,
    "start_time": "2025-02-14T11:24:19.005Z"
   },
   {
    "duration": 13,
    "start_time": "2025-02-14T11:24:19.674Z"
   },
   {
    "duration": 15,
    "start_time": "2025-02-14T11:24:19.698Z"
   },
   {
    "duration": 19,
    "start_time": "2025-02-14T11:24:19.715Z"
   },
   {
    "duration": 29,
    "start_time": "2025-02-14T11:24:19.735Z"
   },
   {
    "duration": 52,
    "start_time": "2025-02-14T11:24:19.766Z"
   },
   {
    "duration": 24,
    "start_time": "2025-02-14T11:24:19.820Z"
   },
   {
    "duration": 17,
    "start_time": "2025-02-14T11:54:51.886Z"
   },
   {
    "duration": 2232,
    "start_time": "2025-02-14T12:11:35.278Z"
   },
   {
    "duration": 7,
    "start_time": "2025-02-14T12:12:42.671Z"
   },
   {
    "duration": 13,
    "start_time": "2025-02-14T12:13:18.174Z"
   },
   {
    "duration": 286,
    "start_time": "2025-02-14T12:16:37.270Z"
   },
   {
    "duration": 201,
    "start_time": "2025-02-14T12:17:16.825Z"
   },
   {
    "duration": 212,
    "start_time": "2025-02-14T12:18:28.964Z"
   },
   {
    "duration": 116,
    "start_time": "2025-02-14T12:18:48.866Z"
   },
   {
    "duration": 201,
    "start_time": "2025-02-14T12:18:53.983Z"
   },
   {
    "duration": 196,
    "start_time": "2025-02-14T12:19:15.962Z"
   },
   {
    "duration": 161,
    "start_time": "2025-02-14T12:19:56.494Z"
   },
   {
    "duration": 176,
    "start_time": "2025-02-14T12:20:17.169Z"
   },
   {
    "duration": 167,
    "start_time": "2025-02-14T12:21:52.288Z"
   },
   {
    "duration": 126,
    "start_time": "2025-02-14T12:26:04.747Z"
   },
   {
    "duration": 96,
    "start_time": "2025-02-14T12:27:35.453Z"
   },
   {
    "duration": 150,
    "start_time": "2025-02-14T12:29:50.021Z"
   },
   {
    "duration": 3,
    "start_time": "2025-02-14T12:39:17.396Z"
   },
   {
    "duration": 1292,
    "start_time": "2025-02-14T12:45:22.013Z"
   },
   {
    "duration": 31,
    "start_time": "2025-02-14T12:45:23.308Z"
   },
   {
    "duration": 17,
    "start_time": "2025-02-14T12:45:23.341Z"
   },
   {
    "duration": 43,
    "start_time": "2025-02-14T12:45:23.361Z"
   },
   {
    "duration": 16,
    "start_time": "2025-02-14T12:45:23.407Z"
   },
   {
    "duration": 21,
    "start_time": "2025-02-14T12:45:23.426Z"
   },
   {
    "duration": 18,
    "start_time": "2025-02-14T12:45:23.449Z"
   },
   {
    "duration": 36,
    "start_time": "2025-02-14T12:45:23.469Z"
   },
   {
    "duration": 14,
    "start_time": "2025-02-14T12:45:23.507Z"
   },
   {
    "duration": 10,
    "start_time": "2025-02-14T12:45:23.524Z"
   },
   {
    "duration": 14,
    "start_time": "2025-02-14T12:45:23.536Z"
   },
   {
    "duration": 56,
    "start_time": "2025-02-14T12:45:23.553Z"
   },
   {
    "duration": 13,
    "start_time": "2025-02-14T12:45:23.611Z"
   },
   {
    "duration": 10,
    "start_time": "2025-02-14T12:45:23.626Z"
   },
   {
    "duration": 11,
    "start_time": "2025-02-14T12:45:23.639Z"
   },
   {
    "duration": 265,
    "start_time": "2025-02-14T12:45:23.653Z"
   },
   {
    "duration": 27,
    "start_time": "2025-02-14T12:45:23.919Z"
   },
   {
    "duration": 285,
    "start_time": "2025-02-14T12:45:23.949Z"
   },
   {
    "duration": 11,
    "start_time": "2025-02-14T12:45:24.236Z"
   },
   {
    "duration": 204,
    "start_time": "2025-02-14T12:45:24.250Z"
   },
   {
    "duration": 8,
    "start_time": "2025-02-14T12:45:24.456Z"
   },
   {
    "duration": 348,
    "start_time": "2025-02-14T12:45:24.466Z"
   },
   {
    "duration": 135,
    "start_time": "2025-02-14T12:45:24.816Z"
   },
   {
    "duration": 10,
    "start_time": "2025-02-14T12:45:24.953Z"
   },
   {
    "duration": 13,
    "start_time": "2025-02-14T12:45:24.965Z"
   },
   {
    "duration": 423,
    "start_time": "2025-02-14T12:45:24.980Z"
   },
   {
    "duration": 149,
    "start_time": "2025-02-14T12:45:25.406Z"
   },
   {
    "duration": 11,
    "start_time": "2025-02-14T12:45:25.559Z"
   },
   {
    "duration": 395,
    "start_time": "2025-02-14T12:45:25.572Z"
   },
   {
    "duration": 230,
    "start_time": "2025-02-14T12:45:25.969Z"
   },
   {
    "duration": 10,
    "start_time": "2025-02-14T12:45:26.202Z"
   },
   {
    "duration": 39,
    "start_time": "2025-02-14T12:45:26.214Z"
   },
   {
    "duration": 55,
    "start_time": "2025-02-14T12:45:26.256Z"
   },
   {
    "duration": 40,
    "start_time": "2025-02-14T12:45:26.314Z"
   },
   {
    "duration": 734,
    "start_time": "2025-02-14T12:45:26.356Z"
   },
   {
    "duration": 15,
    "start_time": "2025-02-14T12:45:27.093Z"
   },
   {
    "duration": 63,
    "start_time": "2025-02-14T12:45:27.111Z"
   },
   {
    "duration": 759,
    "start_time": "2025-02-14T12:45:27.176Z"
   },
   {
    "duration": 16,
    "start_time": "2025-02-14T12:45:27.937Z"
   },
   {
    "duration": 16,
    "start_time": "2025-02-14T12:45:27.955Z"
   },
   {
    "duration": 48,
    "start_time": "2025-02-14T12:45:27.973Z"
   },
   {
    "duration": 38,
    "start_time": "2025-02-14T12:45:28.023Z"
   },
   {
    "duration": 53,
    "start_time": "2025-02-14T12:45:28.063Z"
   },
   {
    "duration": 23,
    "start_time": "2025-02-14T12:45:28.118Z"
   },
   {
    "duration": 252,
    "start_time": "2025-02-14T12:45:28.142Z"
   },
   {
    "duration": 185,
    "start_time": "2025-02-14T12:45:28.400Z"
   },
   {
    "duration": 187,
    "start_time": "2025-02-14T12:45:28.588Z"
   },
   {
    "duration": 742,
    "start_time": "2025-02-14T13:10:09.227Z"
   },
   {
    "duration": 14,
    "start_time": "2025-02-14T13:13:25.776Z"
   },
   {
    "duration": 1238,
    "start_time": "2025-02-14T13:14:11.564Z"
   },
   {
    "duration": 30,
    "start_time": "2025-02-14T13:14:12.804Z"
   },
   {
    "duration": 13,
    "start_time": "2025-02-14T13:14:12.835Z"
   },
   {
    "duration": 38,
    "start_time": "2025-02-14T13:14:12.850Z"
   },
   {
    "duration": 21,
    "start_time": "2025-02-14T13:14:12.889Z"
   },
   {
    "duration": 20,
    "start_time": "2025-02-14T13:14:12.912Z"
   },
   {
    "duration": 16,
    "start_time": "2025-02-14T13:14:12.934Z"
   },
   {
    "duration": 11,
    "start_time": "2025-02-14T13:14:12.951Z"
   },
   {
    "duration": 6,
    "start_time": "2025-02-14T13:14:12.964Z"
   },
   {
    "duration": 7,
    "start_time": "2025-02-14T13:14:13.003Z"
   },
   {
    "duration": 10,
    "start_time": "2025-02-14T13:14:13.012Z"
   },
   {
    "duration": 7,
    "start_time": "2025-02-14T13:14:13.024Z"
   },
   {
    "duration": 9,
    "start_time": "2025-02-14T13:14:13.033Z"
   },
   {
    "duration": 9,
    "start_time": "2025-02-14T13:14:13.043Z"
   },
   {
    "duration": 51,
    "start_time": "2025-02-14T13:14:13.054Z"
   },
   {
    "duration": 242,
    "start_time": "2025-02-14T13:14:13.107Z"
   },
   {
    "duration": 11,
    "start_time": "2025-02-14T13:14:13.351Z"
   },
   {
    "duration": 226,
    "start_time": "2025-02-14T13:14:13.364Z"
   },
   {
    "duration": 18,
    "start_time": "2025-02-14T13:14:13.592Z"
   },
   {
    "duration": 181,
    "start_time": "2025-02-14T13:14:13.612Z"
   },
   {
    "duration": 8,
    "start_time": "2025-02-14T13:14:13.794Z"
   },
   {
    "duration": 334,
    "start_time": "2025-02-14T13:14:13.804Z"
   },
   {
    "duration": 128,
    "start_time": "2025-02-14T13:14:14.140Z"
   },
   {
    "duration": 9,
    "start_time": "2025-02-14T13:14:14.269Z"
   },
   {
    "duration": 397,
    "start_time": "2025-02-14T13:14:14.280Z"
   },
   {
    "duration": 132,
    "start_time": "2025-02-14T13:14:14.679Z"
   },
   {
    "duration": 11,
    "start_time": "2025-02-14T13:14:14.813Z"
   },
   {
    "duration": 409,
    "start_time": "2025-02-14T13:14:14.829Z"
   },
   {
    "duration": 227,
    "start_time": "2025-02-14T13:14:15.240Z"
   },
   {
    "duration": 10,
    "start_time": "2025-02-14T13:14:15.469Z"
   },
   {
    "duration": 37,
    "start_time": "2025-02-14T13:14:15.481Z"
   },
   {
    "duration": 24,
    "start_time": "2025-02-14T13:14:15.520Z"
   },
   {
    "duration": 24,
    "start_time": "2025-02-14T13:14:15.546Z"
   },
   {
    "duration": 738,
    "start_time": "2025-02-14T13:14:15.572Z"
   },
   {
    "duration": 14,
    "start_time": "2025-02-14T13:14:16.312Z"
   },
   {
    "duration": 28,
    "start_time": "2025-02-14T13:14:16.328Z"
   },
   {
    "duration": 759,
    "start_time": "2025-02-14T13:14:16.358Z"
   },
   {
    "duration": 13,
    "start_time": "2025-02-14T13:14:17.119Z"
   },
   {
    "duration": 23,
    "start_time": "2025-02-14T13:14:17.134Z"
   },
   {
    "duration": 24,
    "start_time": "2025-02-14T13:14:17.159Z"
   },
   {
    "duration": 36,
    "start_time": "2025-02-14T13:14:17.185Z"
   },
   {
    "duration": 103,
    "start_time": "2025-02-14T13:14:17.223Z"
   },
   {
    "duration": 17,
    "start_time": "2025-02-14T13:14:17.328Z"
   },
   {
    "duration": 195,
    "start_time": "2025-02-14T13:14:17.347Z"
   },
   {
    "duration": 175,
    "start_time": "2025-02-14T13:14:17.543Z"
   },
   {
    "duration": 160,
    "start_time": "2025-02-14T13:14:17.720Z"
   },
   {
    "duration": 96,
    "start_time": "2025-02-14T13:17:26.056Z"
   },
   {
    "duration": 705,
    "start_time": "2025-02-14T13:18:34.697Z"
   },
   {
    "duration": 12,
    "start_time": "2025-02-14T13:44:31.813Z"
   },
   {
    "duration": 12,
    "start_time": "2025-02-14T13:48:44.123Z"
   },
   {
    "duration": 8,
    "start_time": "2025-02-14T13:59:50.524Z"
   },
   {
    "duration": 14,
    "start_time": "2025-02-14T14:11:58.807Z"
   },
   {
    "duration": 1258,
    "start_time": "2025-02-15T08:22:51.182Z"
   },
   {
    "duration": 104,
    "start_time": "2025-02-15T08:22:52.442Z"
   },
   {
    "duration": 10,
    "start_time": "2025-02-15T08:22:52.548Z"
   },
   {
    "duration": 143,
    "start_time": "2025-02-15T08:22:52.561Z"
   },
   {
    "duration": 10,
    "start_time": "2025-02-15T08:22:52.706Z"
   },
   {
    "duration": 63,
    "start_time": "2025-02-15T08:22:52.717Z"
   },
   {
    "duration": 14,
    "start_time": "2025-02-15T08:22:52.781Z"
   },
   {
    "duration": 4,
    "start_time": "2025-02-15T08:22:52.796Z"
   },
   {
    "duration": 5,
    "start_time": "2025-02-15T08:22:52.801Z"
   },
   {
    "duration": 6,
    "start_time": "2025-02-15T08:22:52.809Z"
   },
   {
    "duration": 7,
    "start_time": "2025-02-15T08:22:52.817Z"
   },
   {
    "duration": 5,
    "start_time": "2025-02-15T08:22:52.825Z"
   },
   {
    "duration": 7,
    "start_time": "2025-02-15T08:22:52.831Z"
   },
   {
    "duration": 39,
    "start_time": "2025-02-15T08:22:52.840Z"
   },
   {
    "duration": 6,
    "start_time": "2025-02-15T08:22:52.881Z"
   },
   {
    "duration": 215,
    "start_time": "2025-02-15T08:22:52.888Z"
   },
   {
    "duration": 8,
    "start_time": "2025-02-15T08:22:53.105Z"
   },
   {
    "duration": 202,
    "start_time": "2025-02-15T08:22:53.115Z"
   },
   {
    "duration": 9,
    "start_time": "2025-02-15T08:22:53.318Z"
   },
   {
    "duration": 169,
    "start_time": "2025-02-15T08:22:53.329Z"
   },
   {
    "duration": 5,
    "start_time": "2025-02-15T08:22:53.499Z"
   },
   {
    "duration": 385,
    "start_time": "2025-02-15T08:22:53.506Z"
   },
   {
    "duration": 112,
    "start_time": "2025-02-15T08:22:53.893Z"
   },
   {
    "duration": 7,
    "start_time": "2025-02-15T08:22:54.006Z"
   },
   {
    "duration": 361,
    "start_time": "2025-02-15T08:22:54.015Z"
   },
   {
    "duration": 110,
    "start_time": "2025-02-15T08:22:54.378Z"
   },
   {
    "duration": 8,
    "start_time": "2025-02-15T08:22:54.489Z"
   },
   {
    "duration": 315,
    "start_time": "2025-02-15T08:22:54.500Z"
   },
   {
    "duration": 176,
    "start_time": "2025-02-15T08:22:54.817Z"
   },
   {
    "duration": 8,
    "start_time": "2025-02-15T08:22:54.995Z"
   },
   {
    "duration": 31,
    "start_time": "2025-02-15T08:22:55.004Z"
   },
   {
    "duration": 21,
    "start_time": "2025-02-15T08:22:55.036Z"
   },
   {
    "duration": 31,
    "start_time": "2025-02-15T08:22:55.058Z"
   },
   {
    "duration": 618,
    "start_time": "2025-02-15T08:22:55.090Z"
   },
   {
    "duration": 11,
    "start_time": "2025-02-15T08:22:55.710Z"
   },
   {
    "duration": 13,
    "start_time": "2025-02-15T08:22:55.722Z"
   },
   {
    "duration": 695,
    "start_time": "2025-02-15T08:22:55.737Z"
   },
   {
    "duration": 13,
    "start_time": "2025-02-15T08:22:56.433Z"
   },
   {
    "duration": 28,
    "start_time": "2025-02-15T08:22:56.447Z"
   },
   {
    "duration": 20,
    "start_time": "2025-02-15T08:22:56.477Z"
   },
   {
    "duration": 27,
    "start_time": "2025-02-15T08:22:56.498Z"
   },
   {
    "duration": 16,
    "start_time": "2025-02-15T08:22:56.527Z"
   },
   {
    "duration": 183,
    "start_time": "2025-02-15T08:22:56.544Z"
   },
   {
    "duration": 158,
    "start_time": "2025-02-15T08:22:56.729Z"
   },
   {
    "duration": 144,
    "start_time": "2025-02-15T08:22:56.888Z"
   },
   {
    "duration": 11,
    "start_time": "2025-02-15T08:22:57.034Z"
   },
   {
    "duration": 7,
    "start_time": "2025-02-15T08:22:57.047Z"
   },
   {
    "duration": 10,
    "start_time": "2025-02-15T08:22:57.074Z"
   },
   {
    "duration": 2,
    "start_time": "2025-02-15T08:24:43.376Z"
   },
   {
    "duration": 2,
    "start_time": "2025-02-15T08:46:31.038Z"
   },
   {
    "duration": 1507,
    "start_time": "2025-02-15T08:58:50.894Z"
   },
   {
    "duration": 923,
    "start_time": "2025-02-15T08:59:28.060Z"
   },
   {
    "duration": 252,
    "start_time": "2025-02-15T09:03:38.546Z"
   },
   {
    "duration": 1593,
    "start_time": "2025-02-15T09:03:51.131Z"
   },
   {
    "duration": 1504,
    "start_time": "2025-02-15T09:07:08.680Z"
   },
   {
    "duration": 1457,
    "start_time": "2025-02-15T09:09:48.302Z"
   },
   {
    "duration": 205,
    "start_time": "2025-02-15T09:10:24.829Z"
   },
   {
    "duration": 121,
    "start_time": "2025-02-15T09:10:33.000Z"
   },
   {
    "duration": 284,
    "start_time": "2025-02-15T09:12:27.806Z"
   },
   {
    "duration": 1674,
    "start_time": "2025-02-15T09:12:36.210Z"
   },
   {
    "duration": 1554,
    "start_time": "2025-02-15T09:17:28.479Z"
   },
   {
    "duration": 1567,
    "start_time": "2025-02-15T09:17:58.557Z"
   },
   {
    "duration": 1555,
    "start_time": "2025-02-15T09:19:07.273Z"
   },
   {
    "duration": 82,
    "start_time": "2025-02-15T09:24:20.085Z"
   },
   {
    "duration": 3,
    "start_time": "2025-02-15T09:24:25.588Z"
   },
   {
    "duration": 3,
    "start_time": "2025-02-15T09:25:02.097Z"
   },
   {
    "duration": 4,
    "start_time": "2025-02-15T09:25:47.938Z"
   },
   {
    "duration": 5,
    "start_time": "2025-02-15T09:26:36.884Z"
   },
   {
    "duration": 5,
    "start_time": "2025-02-15T09:30:48.145Z"
   },
   {
    "duration": 4,
    "start_time": "2025-02-15T09:31:42.416Z"
   },
   {
    "duration": 4,
    "start_time": "2025-02-15T09:31:52.452Z"
   },
   {
    "duration": 4,
    "start_time": "2025-02-15T09:32:29.679Z"
   },
   {
    "duration": 4,
    "start_time": "2025-02-15T09:32:44.063Z"
   },
   {
    "duration": 4,
    "start_time": "2025-02-15T09:32:55.707Z"
   },
   {
    "duration": 4,
    "start_time": "2025-02-15T09:33:14.377Z"
   },
   {
    "duration": 3,
    "start_time": "2025-02-15T09:33:36.801Z"
   },
   {
    "duration": 4,
    "start_time": "2025-02-15T09:34:04.213Z"
   },
   {
    "duration": 1603,
    "start_time": "2025-02-15T09:41:19.914Z"
   },
   {
    "duration": 1553,
    "start_time": "2025-02-15T09:41:31.587Z"
   },
   {
    "duration": 1557,
    "start_time": "2025-02-15T09:41:39.343Z"
   },
   {
    "duration": 2,
    "start_time": "2025-02-15T09:47:21.683Z"
   },
   {
    "duration": 105,
    "start_time": "2025-02-15T09:47:44.629Z"
   },
   {
    "duration": 10,
    "start_time": "2025-02-15T09:51:41.524Z"
   },
   {
    "duration": 11,
    "start_time": "2025-02-15T09:52:32.037Z"
   },
   {
    "duration": 111,
    "start_time": "2025-02-15T09:53:12.953Z"
   },
   {
    "duration": 107,
    "start_time": "2025-02-15T09:53:29.593Z"
   },
   {
    "duration": 3,
    "start_time": "2025-02-15T09:56:37.463Z"
   },
   {
    "duration": 4,
    "start_time": "2025-02-15T09:56:53.871Z"
   },
   {
    "duration": 244,
    "start_time": "2025-02-15T09:59:25.770Z"
   },
   {
    "duration": 224,
    "start_time": "2025-02-15T09:59:34.182Z"
   },
   {
    "duration": 1090,
    "start_time": "2025-02-15T10:07:13.451Z"
   },
   {
    "duration": 39,
    "start_time": "2025-02-15T10:07:14.543Z"
   },
   {
    "duration": 11,
    "start_time": "2025-02-15T10:07:14.583Z"
   },
   {
    "duration": 35,
    "start_time": "2025-02-15T10:07:14.596Z"
   },
   {
    "duration": 11,
    "start_time": "2025-02-15T10:07:14.633Z"
   },
   {
    "duration": 20,
    "start_time": "2025-02-15T10:07:14.646Z"
   },
   {
    "duration": 13,
    "start_time": "2025-02-15T10:07:14.667Z"
   },
   {
    "duration": 4,
    "start_time": "2025-02-15T10:07:14.681Z"
   },
   {
    "duration": 6,
    "start_time": "2025-02-15T10:07:14.687Z"
   },
   {
    "duration": 5,
    "start_time": "2025-02-15T10:07:14.694Z"
   },
   {
    "duration": 6,
    "start_time": "2025-02-15T10:07:14.700Z"
   },
   {
    "duration": 4,
    "start_time": "2025-02-15T10:07:14.708Z"
   },
   {
    "duration": 13,
    "start_time": "2025-02-15T10:07:14.714Z"
   },
   {
    "duration": 7,
    "start_time": "2025-02-15T10:07:14.729Z"
   },
   {
    "duration": 39,
    "start_time": "2025-02-15T10:07:14.737Z"
   },
   {
    "duration": 206,
    "start_time": "2025-02-15T10:07:14.778Z"
   },
   {
    "duration": 9,
    "start_time": "2025-02-15T10:07:14.986Z"
   },
   {
    "duration": 192,
    "start_time": "2025-02-15T10:07:14.996Z"
   },
   {
    "duration": 10,
    "start_time": "2025-02-15T10:07:15.189Z"
   },
   {
    "duration": 165,
    "start_time": "2025-02-15T10:07:15.200Z"
   },
   {
    "duration": 11,
    "start_time": "2025-02-15T10:07:15.367Z"
   },
   {
    "duration": 290,
    "start_time": "2025-02-15T10:07:15.379Z"
   },
   {
    "duration": 110,
    "start_time": "2025-02-15T10:07:15.674Z"
   },
   {
    "duration": 9,
    "start_time": "2025-02-15T10:07:15.785Z"
   },
   {
    "duration": 316,
    "start_time": "2025-02-15T10:07:15.796Z"
   },
   {
    "duration": 108,
    "start_time": "2025-02-15T10:07:16.114Z"
   },
   {
    "duration": 8,
    "start_time": "2025-02-15T10:07:16.224Z"
   },
   {
    "duration": 344,
    "start_time": "2025-02-15T10:07:16.233Z"
   },
   {
    "duration": 185,
    "start_time": "2025-02-15T10:07:16.578Z"
   },
   {
    "duration": 14,
    "start_time": "2025-02-15T10:07:16.765Z"
   },
   {
    "duration": 18,
    "start_time": "2025-02-15T10:07:16.780Z"
   },
   {
    "duration": 20,
    "start_time": "2025-02-15T10:07:16.799Z"
   },
   {
    "duration": 18,
    "start_time": "2025-02-15T10:07:16.821Z"
   },
   {
    "duration": 636,
    "start_time": "2025-02-15T10:07:16.841Z"
   },
   {
    "duration": 12,
    "start_time": "2025-02-15T10:07:17.479Z"
   },
   {
    "duration": 11,
    "start_time": "2025-02-15T10:07:17.492Z"
   },
   {
    "duration": 693,
    "start_time": "2025-02-15T10:07:17.504Z"
   },
   {
    "duration": 11,
    "start_time": "2025-02-15T10:07:18.199Z"
   },
   {
    "duration": 11,
    "start_time": "2025-02-15T10:07:18.212Z"
   },
   {
    "duration": 22,
    "start_time": "2025-02-15T10:07:18.224Z"
   },
   {
    "duration": 51,
    "start_time": "2025-02-15T10:07:18.250Z"
   },
   {
    "duration": 16,
    "start_time": "2025-02-15T10:07:18.302Z"
   },
   {
    "duration": 179,
    "start_time": "2025-02-15T10:07:18.320Z"
   },
   {
    "duration": 153,
    "start_time": "2025-02-15T10:07:18.501Z"
   },
   {
    "duration": 138,
    "start_time": "2025-02-15T10:07:18.655Z"
   },
   {
    "duration": 10,
    "start_time": "2025-02-15T10:07:18.795Z"
   },
   {
    "duration": 7,
    "start_time": "2025-02-15T10:07:18.807Z"
   },
   {
    "duration": 11,
    "start_time": "2025-02-15T10:07:18.815Z"
   },
   {
    "duration": 2,
    "start_time": "2025-02-15T10:07:18.827Z"
   },
   {
    "duration": 5,
    "start_time": "2025-02-15T10:07:18.831Z"
   },
   {
    "duration": 1498,
    "start_time": "2025-02-15T10:07:18.837Z"
   },
   {
    "duration": 1527,
    "start_time": "2025-02-15T10:07:20.336Z"
   },
   {
    "duration": 1441,
    "start_time": "2025-02-15T10:07:21.864Z"
   },
   {
    "duration": 4,
    "start_time": "2025-02-15T10:07:23.307Z"
   },
   {
    "duration": 10,
    "start_time": "2025-02-15T10:07:23.313Z"
   },
   {
    "duration": 17,
    "start_time": "2025-02-15T10:07:23.325Z"
   },
   {
    "duration": 5,
    "start_time": "2025-02-15T10:07:23.344Z"
   },
   {
    "duration": 22,
    "start_time": "2025-02-15T10:07:23.350Z"
   },
   {
    "duration": 23,
    "start_time": "2025-02-15T10:07:23.373Z"
   },
   {
    "duration": 58,
    "start_time": "2025-02-15T10:07:23.398Z"
   },
   {
    "duration": 368,
    "start_time": "2025-02-15T10:07:23.458Z"
   },
   {
    "duration": 4,
    "start_time": "2025-02-15T10:07:23.827Z"
   },
   {
    "duration": 1469,
    "start_time": "2025-02-15T10:09:20.806Z"
   },
   {
    "duration": 1275,
    "start_time": "2025-02-15T10:57:15.088Z"
   },
   {
    "duration": 43,
    "start_time": "2025-02-15T10:57:16.365Z"
   },
   {
    "duration": 12,
    "start_time": "2025-02-15T10:57:16.410Z"
   },
   {
    "duration": 48,
    "start_time": "2025-02-15T10:57:16.424Z"
   },
   {
    "duration": 13,
    "start_time": "2025-02-15T10:57:16.474Z"
   },
   {
    "duration": 29,
    "start_time": "2025-02-15T10:57:16.489Z"
   },
   {
    "duration": 17,
    "start_time": "2025-02-15T10:57:16.520Z"
   },
   {
    "duration": 18,
    "start_time": "2025-02-15T10:57:16.539Z"
   },
   {
    "duration": 40,
    "start_time": "2025-02-15T10:57:16.559Z"
   },
   {
    "duration": 6,
    "start_time": "2025-02-15T10:57:16.603Z"
   },
   {
    "duration": 9,
    "start_time": "2025-02-15T10:57:16.611Z"
   },
   {
    "duration": 6,
    "start_time": "2025-02-15T10:57:16.622Z"
   },
   {
    "duration": 13,
    "start_time": "2025-02-15T10:57:16.630Z"
   },
   {
    "duration": 13,
    "start_time": "2025-02-15T10:57:16.644Z"
   },
   {
    "duration": 8,
    "start_time": "2025-02-15T10:57:16.659Z"
   },
   {
    "duration": 242,
    "start_time": "2025-02-15T10:57:16.669Z"
   },
   {
    "duration": 10,
    "start_time": "2025-02-15T10:57:16.913Z"
   },
   {
    "duration": 225,
    "start_time": "2025-02-15T10:57:16.925Z"
   },
   {
    "duration": 11,
    "start_time": "2025-02-15T10:57:17.155Z"
   },
   {
    "duration": 217,
    "start_time": "2025-02-15T10:57:17.167Z"
   },
   {
    "duration": 6,
    "start_time": "2025-02-15T10:57:17.385Z"
   },
   {
    "duration": 343,
    "start_time": "2025-02-15T10:57:17.393Z"
   },
   {
    "duration": 127,
    "start_time": "2025-02-15T10:57:17.738Z"
   },
   {
    "duration": 10,
    "start_time": "2025-02-15T10:57:17.867Z"
   },
   {
    "duration": 386,
    "start_time": "2025-02-15T10:57:17.880Z"
   },
   {
    "duration": 130,
    "start_time": "2025-02-15T10:57:18.268Z"
   },
   {
    "duration": 9,
    "start_time": "2025-02-15T10:57:18.400Z"
   },
   {
    "duration": 387,
    "start_time": "2025-02-15T10:57:18.415Z"
   },
   {
    "duration": 222,
    "start_time": "2025-02-15T10:57:18.803Z"
   },
   {
    "duration": 8,
    "start_time": "2025-02-15T10:57:19.027Z"
   },
   {
    "duration": 33,
    "start_time": "2025-02-15T10:57:19.037Z"
   },
   {
    "duration": 230,
    "start_time": "2025-02-15T10:57:19.071Z"
   },
   {
    "duration": 118,
    "start_time": "2025-02-15T10:57:19.302Z"
   },
   {
    "duration": 713,
    "start_time": "2025-02-15T10:57:19.422Z"
   },
   {
    "duration": 19,
    "start_time": "2025-02-15T10:57:20.137Z"
   },
   {
    "duration": 13,
    "start_time": "2025-02-15T10:57:20.158Z"
   },
   {
    "duration": 698,
    "start_time": "2025-02-15T10:57:20.173Z"
   },
   {
    "duration": 14,
    "start_time": "2025-02-15T10:57:20.873Z"
   },
   {
    "duration": 14,
    "start_time": "2025-02-15T10:57:20.888Z"
   },
   {
    "duration": 25,
    "start_time": "2025-02-15T10:57:20.904Z"
   },
   {
    "duration": 32,
    "start_time": "2025-02-15T10:57:20.954Z"
   },
   {
    "duration": 19,
    "start_time": "2025-02-15T10:57:20.988Z"
   },
   {
    "duration": 199,
    "start_time": "2025-02-15T10:57:21.009Z"
   },
   {
    "duration": 176,
    "start_time": "2025-02-15T10:57:21.210Z"
   },
   {
    "duration": 160,
    "start_time": "2025-02-15T10:57:21.388Z"
   },
   {
    "duration": 11,
    "start_time": "2025-02-15T10:57:21.550Z"
   },
   {
    "duration": 20,
    "start_time": "2025-02-15T10:57:21.564Z"
   },
   {
    "duration": 24,
    "start_time": "2025-02-15T10:57:21.586Z"
   },
   {
    "duration": 22,
    "start_time": "2025-02-15T10:57:21.612Z"
   },
   {
    "duration": 1747,
    "start_time": "2025-02-15T10:57:21.637Z"
   },
   {
    "duration": 1740,
    "start_time": "2025-02-15T10:57:23.386Z"
   },
   {
    "duration": 1681,
    "start_time": "2025-02-15T10:57:25.128Z"
   },
   {
    "duration": 4,
    "start_time": "2025-02-15T10:57:26.812Z"
   },
   {
    "duration": 13,
    "start_time": "2025-02-15T10:57:26.818Z"
   },
   {
    "duration": 23,
    "start_time": "2025-02-15T10:57:26.832Z"
   },
   {
    "duration": 17,
    "start_time": "2025-02-15T10:57:26.857Z"
   },
   {
    "duration": 16,
    "start_time": "2025-02-15T10:57:26.876Z"
   },
   {
    "duration": 17,
    "start_time": "2025-02-15T10:57:26.894Z"
   },
   {
    "duration": 10,
    "start_time": "2025-02-15T10:57:26.913Z"
   },
   {
    "duration": 383,
    "start_time": "2025-02-15T10:57:26.925Z"
   },
   {
    "duration": 5,
    "start_time": "2025-02-15T10:57:27.310Z"
   },
   {
    "duration": 9,
    "start_time": "2025-02-15T11:08:56.070Z"
   },
   {
    "duration": 91,
    "start_time": "2025-02-15T11:11:25.712Z"
   },
   {
    "duration": 5,
    "start_time": "2025-02-15T11:38:30.614Z"
   },
   {
    "duration": 47,
    "start_time": "2025-02-15T12:31:25.250Z"
   },
   {
    "duration": 1239,
    "start_time": "2025-02-15T12:31:30.982Z"
   },
   {
    "duration": 29,
    "start_time": "2025-02-15T12:31:33.368Z"
   },
   {
    "duration": 11,
    "start_time": "2025-02-15T12:31:35.877Z"
   },
   {
    "duration": 43,
    "start_time": "2025-02-15T12:31:38.210Z"
   },
   {
    "duration": 20,
    "start_time": "2025-02-15T12:31:41.056Z"
   },
   {
    "duration": 14,
    "start_time": "2025-02-15T12:31:44.157Z"
   },
   {
    "duration": 7,
    "start_time": "2025-02-15T12:31:46.999Z"
   },
   {
    "duration": 11,
    "start_time": "2025-02-15T12:33:01.436Z"
   },
   {
    "duration": 6,
    "start_time": "2025-02-15T12:33:27.615Z"
   },
   {
    "duration": 9,
    "start_time": "2025-02-15T12:34:47.011Z"
   },
   {
    "duration": 9,
    "start_time": "2025-02-15T12:35:13.772Z"
   },
   {
    "duration": 62,
    "start_time": "2025-02-15T12:36:59.077Z"
   },
   {
    "duration": 10,
    "start_time": "2025-02-15T12:37:17.414Z"
   },
   {
    "duration": 9,
    "start_time": "2025-02-15T12:37:39.041Z"
   },
   {
    "duration": 6,
    "start_time": "2025-02-15T12:38:28.422Z"
   },
   {
    "duration": 7,
    "start_time": "2025-02-15T12:38:37.698Z"
   },
   {
    "duration": 7,
    "start_time": "2025-02-15T12:40:03.858Z"
   },
   {
    "duration": 7,
    "start_time": "2025-02-15T12:40:12.796Z"
   },
   {
    "duration": 7,
    "start_time": "2025-02-15T12:40:19.190Z"
   },
   {
    "duration": 7,
    "start_time": "2025-02-15T12:40:34.899Z"
   },
   {
    "duration": 7,
    "start_time": "2025-02-15T12:40:42.341Z"
   },
   {
    "duration": 7,
    "start_time": "2025-02-15T12:40:56.442Z"
   },
   {
    "duration": 14,
    "start_time": "2025-02-15T12:42:14.323Z"
   },
   {
    "duration": 74,
    "start_time": "2025-02-15T12:46:08.251Z"
   },
   {
    "duration": 14,
    "start_time": "2025-02-15T12:50:48.375Z"
   },
   {
    "duration": 14,
    "start_time": "2025-02-15T12:52:02.574Z"
   },
   {
    "duration": 15,
    "start_time": "2025-02-15T12:54:03.057Z"
   },
   {
    "duration": 10,
    "start_time": "2025-02-15T12:56:04.763Z"
   },
   {
    "duration": 368,
    "start_time": "2025-02-15T12:56:11.838Z"
   },
   {
    "duration": 125,
    "start_time": "2025-02-15T12:56:18.278Z"
   },
   {
    "duration": 15,
    "start_time": "2025-02-15T12:57:28.247Z"
   },
   {
    "duration": 9,
    "start_time": "2025-02-15T12:57:33.093Z"
   },
   {
    "duration": 133,
    "start_time": "2025-02-15T12:57:34.563Z"
   },
   {
    "duration": 122,
    "start_time": "2025-02-15T12:59:59.792Z"
   },
   {
    "duration": 1287,
    "start_time": "2025-02-15T13:03:40.335Z"
   },
   {
    "duration": 126,
    "start_time": "2025-02-15T13:04:17.112Z"
   },
   {
    "duration": 139,
    "start_time": "2025-02-15T13:04:59.650Z"
   },
   {
    "duration": 142,
    "start_time": "2025-02-15T13:07:25.652Z"
   },
   {
    "duration": 196,
    "start_time": "2025-02-15T13:08:39.563Z"
   },
   {
    "duration": 13,
    "start_time": "2025-02-15T13:08:57.376Z"
   },
   {
    "duration": 130,
    "start_time": "2025-02-15T13:09:42.505Z"
   },
   {
    "duration": 118,
    "start_time": "2025-02-15T13:10:51.836Z"
   },
   {
    "duration": 330,
    "start_time": "2025-02-15T13:12:46.047Z"
   },
   {
    "duration": 130,
    "start_time": "2025-02-15T13:13:32.678Z"
   },
   {
    "duration": 9,
    "start_time": "2025-02-15T13:14:24.111Z"
   },
   {
    "duration": 407,
    "start_time": "2025-02-15T13:15:07.318Z"
   },
   {
    "duration": 405,
    "start_time": "2025-02-15T13:15:35.606Z"
   },
   {
    "duration": 130,
    "start_time": "2025-02-15T13:15:51.092Z"
   },
   {
    "duration": 73,
    "start_time": "2025-02-15T13:18:41.280Z"
   },
   {
    "duration": 487,
    "start_time": "2025-02-15T13:19:55.100Z"
   },
   {
    "duration": 347,
    "start_time": "2025-02-15T13:20:20.202Z"
   },
   {
    "duration": 145,
    "start_time": "2025-02-15T13:21:31.212Z"
   },
   {
    "duration": 10,
    "start_time": "2025-02-15T13:22:15.081Z"
   },
   {
    "duration": 9,
    "start_time": "2025-02-15T13:24:49.530Z"
   },
   {
    "duration": 9,
    "start_time": "2025-02-15T13:24:52.458Z"
   },
   {
    "duration": 1199,
    "start_time": "2025-02-15T13:25:07.915Z"
   },
   {
    "duration": 28,
    "start_time": "2025-02-15T13:25:09.116Z"
   },
   {
    "duration": 11,
    "start_time": "2025-02-15T13:25:09.145Z"
   },
   {
    "duration": 36,
    "start_time": "2025-02-15T13:25:09.158Z"
   },
   {
    "duration": 10,
    "start_time": "2025-02-15T13:25:09.196Z"
   },
   {
    "duration": 118,
    "start_time": "2025-02-15T13:25:09.208Z"
   },
   {
    "duration": 17,
    "start_time": "2025-02-15T13:25:09.327Z"
   },
   {
    "duration": 8,
    "start_time": "2025-02-15T13:25:09.346Z"
   },
   {
    "duration": 28,
    "start_time": "2025-02-15T13:25:09.356Z"
   },
   {
    "duration": 92,
    "start_time": "2025-02-15T13:25:09.387Z"
   },
   {
    "duration": 16,
    "start_time": "2025-02-15T13:25:09.481Z"
   },
   {
    "duration": 30,
    "start_time": "2025-02-15T13:25:09.498Z"
   },
   {
    "duration": 15,
    "start_time": "2025-02-15T13:25:09.530Z"
   },
   {
    "duration": 14,
    "start_time": "2025-02-15T13:25:09.546Z"
   },
   {
    "duration": 117,
    "start_time": "2025-02-15T13:25:09.561Z"
   },
   {
    "duration": 19,
    "start_time": "2025-02-15T13:25:09.679Z"
   },
   {
    "duration": 13,
    "start_time": "2025-02-15T13:25:09.699Z"
   },
   {
    "duration": 17,
    "start_time": "2025-02-15T13:25:09.713Z"
   },
   {
    "duration": 24,
    "start_time": "2025-02-15T13:25:09.732Z"
   },
   {
    "duration": 13,
    "start_time": "2025-02-15T13:25:09.758Z"
   },
   {
    "duration": 216,
    "start_time": "2025-02-15T13:25:09.773Z"
   },
   {
    "duration": 17,
    "start_time": "2025-02-15T13:25:09.991Z"
   },
   {
    "duration": 117,
    "start_time": "2025-02-15T13:25:10.009Z"
   },
   {
    "duration": 195,
    "start_time": "2025-02-15T13:25:10.128Z"
   },
   {
    "duration": 10,
    "start_time": "2025-02-15T13:25:10.325Z"
   },
   {
    "duration": 153,
    "start_time": "2025-02-15T13:25:10.348Z"
   },
   {
    "duration": 91,
    "start_time": "2025-02-15T13:25:10.502Z"
   },
   {
    "duration": 4,
    "start_time": "2025-02-15T13:25:10.597Z"
   },
   {
    "duration": 336,
    "start_time": "2025-02-15T13:25:10.603Z"
   },
   {
    "duration": 129,
    "start_time": "2025-02-15T13:25:10.940Z"
   },
   {
    "duration": 9,
    "start_time": "2025-02-15T13:25:11.071Z"
   },
   {
    "duration": 460,
    "start_time": "2025-02-15T13:25:11.082Z"
   },
   {
    "duration": 146,
    "start_time": "2025-02-15T13:25:11.543Z"
   },
   {
    "duration": 8,
    "start_time": "2025-02-15T13:25:11.692Z"
   },
   {
    "duration": 458,
    "start_time": "2025-02-15T13:25:11.702Z"
   },
   {
    "duration": 141,
    "start_time": "2025-02-15T13:25:12.162Z"
   },
   {
    "duration": 8,
    "start_time": "2025-02-15T13:25:12.305Z"
   },
   {
    "duration": 29,
    "start_time": "2025-02-15T13:25:12.314Z"
   },
   {
    "duration": 12,
    "start_time": "2025-02-15T13:25:12.348Z"
   },
   {
    "duration": 37,
    "start_time": "2025-02-15T13:25:12.362Z"
   },
   {
    "duration": 21,
    "start_time": "2025-02-15T13:25:12.401Z"
   },
   {
    "duration": 641,
    "start_time": "2025-02-15T13:25:12.424Z"
   },
   {
    "duration": 13,
    "start_time": "2025-02-15T13:25:13.067Z"
   },
   {
    "duration": 14,
    "start_time": "2025-02-15T13:25:13.082Z"
   },
   {
    "duration": 670,
    "start_time": "2025-02-15T13:25:13.098Z"
   },
   {
    "duration": 13,
    "start_time": "2025-02-15T13:25:13.770Z"
   },
   {
    "duration": 27,
    "start_time": "2025-02-15T13:25:13.785Z"
   },
   {
    "duration": 37,
    "start_time": "2025-02-15T13:25:13.813Z"
   },
   {
    "duration": 29,
    "start_time": "2025-02-15T13:25:13.852Z"
   },
   {
    "duration": 19,
    "start_time": "2025-02-15T13:25:13.883Z"
   },
   {
    "duration": 5,
    "start_time": "2025-02-15T13:25:13.903Z"
   },
   {
    "duration": 356,
    "start_time": "2025-02-15T13:25:13.909Z"
   },
   {
    "duration": 168,
    "start_time": "2025-02-15T13:25:14.267Z"
   },
   {
    "duration": 158,
    "start_time": "2025-02-15T13:25:14.437Z"
   },
   {
    "duration": 10,
    "start_time": "2025-02-15T13:25:14.596Z"
   },
   {
    "duration": 30,
    "start_time": "2025-02-15T13:25:14.608Z"
   },
   {
    "duration": 15,
    "start_time": "2025-02-15T13:25:14.640Z"
   },
   {
    "duration": 3,
    "start_time": "2025-02-15T13:25:14.657Z"
   },
   {
    "duration": 1487,
    "start_time": "2025-02-15T13:25:14.661Z"
   },
   {
    "duration": 1472,
    "start_time": "2025-02-15T13:25:16.149Z"
   },
   {
    "duration": 1567,
    "start_time": "2025-02-15T13:25:17.622Z"
   },
   {
    "duration": 4,
    "start_time": "2025-02-15T13:25:19.191Z"
   },
   {
    "duration": 105,
    "start_time": "2025-02-15T13:25:19.196Z"
   },
   {
    "duration": 9,
    "start_time": "2025-02-15T13:25:19.302Z"
   },
   {
    "duration": 4,
    "start_time": "2025-02-15T13:25:19.312Z"
   },
   {
    "duration": 4,
    "start_time": "2025-02-15T13:25:19.318Z"
   },
   {
    "duration": 5,
    "start_time": "2025-02-15T13:25:19.324Z"
   },
   {
    "duration": 3,
    "start_time": "2025-02-15T13:25:19.332Z"
   },
   {
    "duration": 264,
    "start_time": "2025-02-15T13:25:19.337Z"
   },
   {
    "duration": 3,
    "start_time": "2025-02-15T13:25:19.603Z"
   },
   {
    "duration": 80,
    "start_time": "2025-02-15T13:28:34.337Z"
   },
   {
    "duration": 1111,
    "start_time": "2025-02-15T13:30:23.384Z"
   },
   {
    "duration": 30,
    "start_time": "2025-02-15T13:30:24.497Z"
   },
   {
    "duration": 10,
    "start_time": "2025-02-15T13:30:24.529Z"
   },
   {
    "duration": 53,
    "start_time": "2025-02-15T13:30:24.541Z"
   },
   {
    "duration": 10,
    "start_time": "2025-02-15T13:30:24.597Z"
   },
   {
    "duration": 27,
    "start_time": "2025-02-15T13:30:24.609Z"
   },
   {
    "duration": 13,
    "start_time": "2025-02-15T13:30:24.638Z"
   },
   {
    "duration": 10,
    "start_time": "2025-02-15T13:30:24.652Z"
   },
   {
    "duration": 20,
    "start_time": "2025-02-15T13:30:24.663Z"
   },
   {
    "duration": 5,
    "start_time": "2025-02-15T13:30:24.684Z"
   },
   {
    "duration": 9,
    "start_time": "2025-02-15T13:30:24.691Z"
   },
   {
    "duration": 10,
    "start_time": "2025-02-15T13:30:24.702Z"
   },
   {
    "duration": 5,
    "start_time": "2025-02-15T13:30:24.714Z"
   },
   {
    "duration": 10,
    "start_time": "2025-02-15T13:30:24.721Z"
   },
   {
    "duration": 7,
    "start_time": "2025-02-15T13:30:24.748Z"
   },
   {
    "duration": 6,
    "start_time": "2025-02-15T13:30:24.757Z"
   },
   {
    "duration": 9,
    "start_time": "2025-02-15T13:30:24.764Z"
   },
   {
    "duration": 7,
    "start_time": "2025-02-15T13:30:24.774Z"
   },
   {
    "duration": 18,
    "start_time": "2025-02-15T13:30:24.782Z"
   },
   {
    "duration": 14,
    "start_time": "2025-02-15T13:30:24.801Z"
   },
   {
    "duration": 216,
    "start_time": "2025-02-15T13:30:24.816Z"
   },
   {
    "duration": 25,
    "start_time": "2025-02-15T13:30:25.034Z"
   },
   {
    "duration": 14,
    "start_time": "2025-02-15T13:30:25.061Z"
   },
   {
    "duration": 185,
    "start_time": "2025-02-15T13:30:25.077Z"
   },
   {
    "duration": 9,
    "start_time": "2025-02-15T13:30:25.263Z"
   },
   {
    "duration": 146,
    "start_time": "2025-02-15T13:30:25.274Z"
   },
   {
    "duration": 86,
    "start_time": "2025-02-15T13:30:25.422Z"
   },
   {
    "duration": 5,
    "start_time": "2025-02-15T13:30:25.510Z"
   },
   {
    "duration": 363,
    "start_time": "2025-02-15T13:30:25.517Z"
   },
   {
    "duration": 127,
    "start_time": "2025-02-15T13:30:25.881Z"
   },
   {
    "duration": 8,
    "start_time": "2025-02-15T13:30:26.009Z"
   },
   {
    "duration": 461,
    "start_time": "2025-02-15T13:30:26.019Z"
   },
   {
    "duration": 147,
    "start_time": "2025-02-15T13:30:26.482Z"
   },
   {
    "duration": 22,
    "start_time": "2025-02-15T13:30:26.630Z"
   },
   {
    "duration": 396,
    "start_time": "2025-02-15T13:30:26.654Z"
   },
   {
    "duration": 145,
    "start_time": "2025-02-15T13:30:27.052Z"
   },
   {
    "duration": 9,
    "start_time": "2025-02-15T13:30:27.199Z"
   },
   {
    "duration": 115,
    "start_time": "2025-02-15T13:30:27.209Z"
   },
   {
    "duration": 27,
    "start_time": "2025-02-15T13:30:27.326Z"
   },
   {
    "duration": 22,
    "start_time": "2025-02-15T13:30:27.355Z"
   },
   {
    "duration": 21,
    "start_time": "2025-02-15T13:30:27.381Z"
   },
   {
    "duration": 659,
    "start_time": "2025-02-15T13:30:27.403Z"
   },
   {
    "duration": 11,
    "start_time": "2025-02-15T13:30:28.063Z"
   },
   {
    "duration": 15,
    "start_time": "2025-02-15T13:30:28.075Z"
   },
   {
    "duration": 641,
    "start_time": "2025-02-15T13:30:28.092Z"
   },
   {
    "duration": 20,
    "start_time": "2025-02-15T13:30:28.734Z"
   },
   {
    "duration": 20,
    "start_time": "2025-02-15T13:30:28.755Z"
   },
   {
    "duration": 18,
    "start_time": "2025-02-15T13:30:28.777Z"
   },
   {
    "duration": 24,
    "start_time": "2025-02-15T13:30:28.797Z"
   },
   {
    "duration": 27,
    "start_time": "2025-02-15T13:30:28.823Z"
   },
   {
    "duration": 5,
    "start_time": "2025-02-15T13:30:28.851Z"
   },
   {
    "duration": 163,
    "start_time": "2025-02-15T13:30:28.858Z"
   },
   {
    "duration": 150,
    "start_time": "2025-02-15T13:30:29.023Z"
   },
   {
    "duration": 140,
    "start_time": "2025-02-15T13:30:29.174Z"
   },
   {
    "duration": 10,
    "start_time": "2025-02-15T13:30:29.316Z"
   },
   {
    "duration": 21,
    "start_time": "2025-02-15T13:30:29.327Z"
   },
   {
    "duration": 17,
    "start_time": "2025-02-15T13:30:29.349Z"
   },
   {
    "duration": 8,
    "start_time": "2025-02-15T13:30:29.368Z"
   },
   {
    "duration": 1515,
    "start_time": "2025-02-15T13:30:29.377Z"
   },
   {
    "duration": 1472,
    "start_time": "2025-02-15T13:30:30.893Z"
   },
   {
    "duration": 1539,
    "start_time": "2025-02-15T13:30:32.367Z"
   },
   {
    "duration": 5,
    "start_time": "2025-02-15T13:30:33.907Z"
   },
   {
    "duration": 4,
    "start_time": "2025-02-15T13:30:33.913Z"
   },
   {
    "duration": 39,
    "start_time": "2025-02-15T13:30:33.919Z"
   },
   {
    "duration": 96,
    "start_time": "2025-02-15T13:30:33.960Z"
   },
   {
    "duration": 29,
    "start_time": "2025-02-15T13:30:34.057Z"
   },
   {
    "duration": 16,
    "start_time": "2025-02-15T13:30:34.088Z"
   },
   {
    "duration": 29,
    "start_time": "2025-02-15T13:30:34.106Z"
   },
   {
    "duration": 251,
    "start_time": "2025-02-15T13:30:34.136Z"
   },
   {
    "duration": 4,
    "start_time": "2025-02-15T13:30:34.389Z"
   },
   {
    "duration": 15,
    "start_time": "2025-02-15T13:39:04.480Z"
   },
   {
    "duration": 17,
    "start_time": "2025-02-15T13:39:29.774Z"
   },
   {
    "duration": 37,
    "start_time": "2025-02-15T13:39:55.562Z"
   },
   {
    "duration": 36,
    "start_time": "2025-02-15T13:40:11.747Z"
   },
   {
    "duration": 35,
    "start_time": "2025-02-15T13:42:01.497Z"
   },
   {
    "duration": 28,
    "start_time": "2025-02-15T13:42:20.206Z"
   },
   {
    "duration": 13,
    "start_time": "2025-02-15T13:42:39.760Z"
   },
   {
    "duration": 13,
    "start_time": "2025-02-15T13:43:24.403Z"
   },
   {
    "duration": 16,
    "start_time": "2025-02-15T13:45:16.040Z"
   },
   {
    "duration": 86,
    "start_time": "2025-02-15T13:45:24.898Z"
   },
   {
    "duration": 4,
    "start_time": "2025-02-15T13:46:01.157Z"
   },
   {
    "duration": 8,
    "start_time": "2025-02-15T13:47:48.564Z"
   },
   {
    "duration": 1039,
    "start_time": "2025-02-15T13:53:11.909Z"
   },
   {
    "duration": 1083,
    "start_time": "2025-02-15T13:53:57.486Z"
   },
   {
    "duration": 4,
    "start_time": "2025-02-15T13:54:05.419Z"
   },
   {
    "duration": 1413,
    "start_time": "2025-02-15T15:40:00.931Z"
   },
   {
    "duration": 42,
    "start_time": "2025-02-15T15:40:02.346Z"
   },
   {
    "duration": 23,
    "start_time": "2025-02-15T15:40:02.390Z"
   },
   {
    "duration": 89,
    "start_time": "2025-02-15T15:40:02.415Z"
   },
   {
    "duration": 19,
    "start_time": "2025-02-15T15:40:02.506Z"
   },
   {
    "duration": 52,
    "start_time": "2025-02-15T15:40:02.526Z"
   },
   {
    "duration": 37,
    "start_time": "2025-02-15T15:40:02.580Z"
   },
   {
    "duration": 62,
    "start_time": "2025-02-15T15:40:02.619Z"
   },
   {
    "duration": 31,
    "start_time": "2025-02-15T15:40:02.683Z"
   },
   {
    "duration": 38,
    "start_time": "2025-02-15T15:40:02.717Z"
   },
   {
    "duration": 44,
    "start_time": "2025-02-15T15:40:02.757Z"
   },
   {
    "duration": 39,
    "start_time": "2025-02-15T15:40:02.802Z"
   },
   {
    "duration": 28,
    "start_time": "2025-02-15T15:40:02.843Z"
   },
   {
    "duration": 34,
    "start_time": "2025-02-15T15:40:02.872Z"
   },
   {
    "duration": 26,
    "start_time": "2025-02-15T15:40:02.908Z"
   },
   {
    "duration": 57,
    "start_time": "2025-02-15T15:40:02.936Z"
   },
   {
    "duration": 40,
    "start_time": "2025-02-15T15:40:02.995Z"
   },
   {
    "duration": 23,
    "start_time": "2025-02-15T15:40:03.037Z"
   },
   {
    "duration": 16,
    "start_time": "2025-02-15T15:40:03.062Z"
   },
   {
    "duration": 36,
    "start_time": "2025-02-15T15:40:03.080Z"
   },
   {
    "duration": 228,
    "start_time": "2025-02-15T15:40:03.118Z"
   },
   {
    "duration": 15,
    "start_time": "2025-02-15T15:40:03.348Z"
   },
   {
    "duration": 22,
    "start_time": "2025-02-15T15:40:03.364Z"
   },
   {
    "duration": 210,
    "start_time": "2025-02-15T15:40:03.388Z"
   },
   {
    "duration": 11,
    "start_time": "2025-02-15T15:40:03.599Z"
   },
   {
    "duration": 183,
    "start_time": "2025-02-15T15:40:03.611Z"
   },
   {
    "duration": 90,
    "start_time": "2025-02-15T15:40:03.796Z"
   },
   {
    "duration": 7,
    "start_time": "2025-02-15T15:40:03.890Z"
   },
   {
    "duration": 391,
    "start_time": "2025-02-15T15:40:03.899Z"
   },
   {
    "duration": 142,
    "start_time": "2025-02-15T15:40:04.292Z"
   },
   {
    "duration": 9,
    "start_time": "2025-02-15T15:40:04.437Z"
   },
   {
    "duration": 447,
    "start_time": "2025-02-15T15:40:04.448Z"
   },
   {
    "duration": 155,
    "start_time": "2025-02-15T15:40:04.897Z"
   },
   {
    "duration": 10,
    "start_time": "2025-02-15T15:40:05.054Z"
   },
   {
    "duration": 444,
    "start_time": "2025-02-15T15:40:05.066Z"
   },
   {
    "duration": 158,
    "start_time": "2025-02-15T15:40:05.512Z"
   },
   {
    "duration": 10,
    "start_time": "2025-02-15T15:40:05.672Z"
   },
   {
    "duration": 41,
    "start_time": "2025-02-15T15:40:05.684Z"
   },
   {
    "duration": 28,
    "start_time": "2025-02-15T15:40:05.727Z"
   },
   {
    "duration": 46,
    "start_time": "2025-02-15T15:40:05.757Z"
   },
   {
    "duration": 40,
    "start_time": "2025-02-15T15:40:05.805Z"
   },
   {
    "duration": 693,
    "start_time": "2025-02-15T15:40:05.848Z"
   },
   {
    "duration": 14,
    "start_time": "2025-02-15T15:40:06.543Z"
   },
   {
    "duration": 35,
    "start_time": "2025-02-15T15:40:06.559Z"
   },
   {
    "duration": 672,
    "start_time": "2025-02-15T15:40:06.596Z"
   },
   {
    "duration": 14,
    "start_time": "2025-02-15T15:40:07.270Z"
   },
   {
    "duration": 34,
    "start_time": "2025-02-15T15:40:07.286Z"
   },
   {
    "duration": 27,
    "start_time": "2025-02-15T15:40:07.322Z"
   },
   {
    "duration": 40,
    "start_time": "2025-02-15T15:40:07.351Z"
   },
   {
    "duration": 47,
    "start_time": "2025-02-15T15:40:07.393Z"
   },
   {
    "duration": 15,
    "start_time": "2025-02-15T15:40:07.443Z"
   },
   {
    "duration": 28,
    "start_time": "2025-02-15T15:40:07.461Z"
   },
   {
    "duration": 27,
    "start_time": "2025-02-15T15:40:07.491Z"
   },
   {
    "duration": 245,
    "start_time": "2025-02-15T15:40:07.520Z"
   },
   {
    "duration": 187,
    "start_time": "2025-02-15T15:40:07.768Z"
   },
   {
    "duration": 143,
    "start_time": "2025-02-15T15:40:07.957Z"
   },
   {
    "duration": 11,
    "start_time": "2025-02-15T15:40:08.102Z"
   },
   {
    "duration": 32,
    "start_time": "2025-02-15T15:40:08.115Z"
   },
   {
    "duration": 13,
    "start_time": "2025-02-15T15:40:08.149Z"
   },
   {
    "duration": 2,
    "start_time": "2025-02-15T15:40:08.164Z"
   },
   {
    "duration": 1685,
    "start_time": "2025-02-15T15:40:08.168Z"
   },
   {
    "duration": 1696,
    "start_time": "2025-02-15T15:40:09.855Z"
   },
   {
    "duration": 1738,
    "start_time": "2025-02-15T15:40:11.553Z"
   },
   {
    "duration": 4,
    "start_time": "2025-02-15T15:40:13.293Z"
   },
   {
    "duration": 5,
    "start_time": "2025-02-15T15:40:13.299Z"
   },
   {
    "duration": 6,
    "start_time": "2025-02-15T15:40:13.306Z"
   },
   {
    "duration": 4,
    "start_time": "2025-02-15T15:40:13.333Z"
   },
   {
    "duration": 14,
    "start_time": "2025-02-15T15:40:13.339Z"
   },
   {
    "duration": 11,
    "start_time": "2025-02-15T15:40:13.355Z"
   },
   {
    "duration": 4,
    "start_time": "2025-02-15T15:40:13.368Z"
   },
   {
    "duration": 1177,
    "start_time": "2025-02-15T15:40:13.373Z"
   },
   {
    "duration": 5,
    "start_time": "2025-02-15T15:40:14.552Z"
   },
   {
    "duration": 198,
    "start_time": "2025-02-15T15:43:57.070Z"
   }
  ],
  "kernelspec": {
   "display_name": "Python 3 (ipykernel)",
   "language": "python",
   "name": "python3"
  },
  "language_info": {
   "codemirror_mode": {
    "name": "ipython",
    "version": 3
   },
   "file_extension": ".py",
   "mimetype": "text/x-python",
   "name": "python",
   "nbconvert_exporter": "python",
   "pygments_lexer": "ipython3",
   "version": "3.9.20"
  },
  "toc": {
   "base_numbering": 1,
   "nav_menu": {},
   "number_sections": true,
   "sideBar": true,
   "skip_h1_title": true,
   "title_cell": "Table of Contents",
   "title_sidebar": "Contents",
   "toc_cell": false,
   "toc_position": {
    "height": "calc(100% - 180px)",
    "left": "10px",
    "top": "150px",
    "width": "196.943px"
   },
   "toc_section_display": true,
   "toc_window_display": true
  }
 },
 "nbformat": 4,
 "nbformat_minor": 5
}
